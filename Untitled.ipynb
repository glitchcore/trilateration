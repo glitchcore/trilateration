{
 "cells": [
  {
   "cell_type": "code",
   "execution_count": 30,
   "metadata": {},
   "outputs": [
    {
     "name": "stdout",
     "output_type": "stream",
     "text": [
      "[{'x': 0.25, 'y': 2.45, 'r': 2.3881150692883186, 'var': 0.519218936149161}, {'x': 1.1, 'y': 4.6, 'r': 1.3612251515424445, 'var': 0.37249832287395557}, {'x': 2.8, 'y': 4.6, 'r': 2.9173523083216675, 'var': 0.8262782576331973}, {'x': 3.1, 'y': 0.8, 'r': 0.9609174361949276, 'var': 0.39501995522861516}]\n"
     ]
    },
    {
     "data": {
      "application/vnd.plotly.v1+json": {
       "config": {
        "plotlyServerURL": "https://plot.ly"
       },
       "data": [
        {
         "mode": "text",
         "text": [
          "aa:69",
          "a4:a8",
          "d9:ab",
          "95:51"
         ],
         "type": "scatter",
         "x": [
          0.25,
          1.1,
          2.8,
          3.1
         ],
         "y": [
          2.5500000000000003,
          4.699999999999999,
          4.699999999999999,
          0.9
         ]
        }
       ],
       "layout": {
        "height": 800,
        "shapes": [
         {
          "fillcolor": "#002200",
          "line": {
           "width": 0
          },
          "type": "circle",
          "x0": 0.2,
          "x1": 0.3,
          "xref": "x",
          "y0": 2.4000000000000004,
          "y1": 2.5,
          "yref": "y"
         },
         {
          "fillcolor": "#002200",
          "line": {
           "width": 0
          },
          "type": "circle",
          "x0": 1.05,
          "x1": 1.1500000000000001,
          "xref": "x",
          "y0": 4.55,
          "y1": 4.6499999999999995,
          "yref": "y"
         },
         {
          "fillcolor": "#002200",
          "line": {
           "width": 0
          },
          "type": "circle",
          "x0": 2.75,
          "x1": 2.8499999999999996,
          "xref": "x",
          "y0": 4.55,
          "y1": 4.6499999999999995,
          "yref": "y"
         },
         {
          "fillcolor": "#002200",
          "line": {
           "width": 0
          },
          "type": "circle",
          "x0": 3.0500000000000003,
          "x1": 3.15,
          "xref": "x",
          "y0": 0.75,
          "y1": 0.8500000000000001,
          "yref": "y"
         },
         {
          "line": {
           "color": "#AAAAFF",
           "width": 1
          },
          "type": "rect",
          "x0": 0,
          "x1": 3.4,
          "xref": "x",
          "y0": 0,
          "y1": 4.6,
          "yref": "y"
         },
         {
          "line": {
           "color": "rgba(127, 127, 127, 0.1)",
           "width": 103.8437872298322
          },
          "type": "circle",
          "x0": -2.1381150692883186,
          "x1": 2.6381150692883186,
          "xref": "x",
          "y0": 0.06188493071168155,
          "y1": 4.838115069288319,
          "yref": "y"
         },
         {
          "line": {
           "width": 2
          },
          "type": "circle",
          "x0": -2.1381150692883186,
          "x1": 2.6381150692883186,
          "xref": "x",
          "y0": 0.06188493071168155,
          "y1": 4.838115069288319,
          "yref": "y"
         },
         {
          "line": {
           "color": "rgba(127, 127, 127, 0.1)",
           "width": 165.25565152663947
          },
          "type": "circle",
          "x0": -0.11735230832166765,
          "x1": 5.717352308321667,
          "xref": "x",
          "y0": 1.6826476916783322,
          "y1": 7.517352308321668,
          "yref": "y"
         },
         {
          "line": {
           "width": 2
          },
          "type": "circle",
          "x0": -0.11735230832166765,
          "x1": 5.717352308321667,
          "xref": "x",
          "y0": 1.6826476916783322,
          "y1": 7.517352308321668,
          "yref": "y"
         },
         {
          "line": {
           "color": "rgba(127, 127, 127, 0.1)",
           "width": 79.00399104572303
          },
          "type": "circle",
          "x0": 2.1390825638050726,
          "x1": 4.060917436194928,
          "xref": "x",
          "y0": -0.1609174361949276,
          "y1": 1.7609174361949278,
          "yref": "y"
         },
         {
          "line": {
           "width": 2
          },
          "type": "circle",
          "x0": 2.1390825638050726,
          "x1": 4.060917436194928,
          "xref": "x",
          "y0": -0.1609174361949276,
          "y1": 1.7609174361949278,
          "yref": "y"
         },
         {
          "fillcolor": "#AA00AA",
          "line": {
           "width": 0
          },
          "type": "circle",
          "x0": -0.13472155198490846,
          "x1": -0.08472155198490847,
          "xref": "x",
          "y0": 4.7858672112593545,
          "y1": 4.835867211259355,
          "yref": "y"
         },
         {
          "fillcolor": "#AA00AA",
          "line": {
           "width": 0
          },
          "type": "circle",
          "x0": 2.4911242655035677,
          "x1": 2.5411242655035675,
          "xref": "x",
          "y0": 1.6714919393544174,
          "y1": 1.7214919393544172,
          "yref": "y"
         },
         {
          "fillcolor": "#AA00AA",
          "line": {
           "width": 0
          },
          "type": "circle",
          "x0": 3.309123602246895,
          "x1": 3.359123602246895,
          "xref": "x",
          "y0": 1.7069594723239216,
          "y1": 1.7569594723239215,
          "yref": "y"
         },
         {
          "fillcolor": "#AA00AA",
          "line": {
           "width": 0
          },
          "type": "circle",
          "x0": 2.697536731648902,
          "x1": 2.7475367316489017,
          "xref": "x",
          "y0": 1.6586762983293433,
          "y1": 1.708676298329343,
          "yref": "y"
         },
         {
          "fillcolor": "#AA00AA",
          "line": {
           "width": 0
          },
          "type": "circle",
          "x0": 2.415561425400177,
          "x1": 2.465561425400177,
          "xref": "x",
          "y0": 1.4739299575159066,
          "y1": 1.5239299575159064,
          "yref": "y"
         },
         {
          "fillcolor": "#AA00AA",
          "line": {
           "width": 0
          },
          "type": "circle",
          "x0": 2.1405228627684516,
          "x1": 2.1905228627684514,
          "xref": "x",
          "y0": 0.9988633493338351,
          "y1": 1.048863349333835,
          "yref": "y"
         },
         {
          "line": {
           "color": "RoyalBlue",
           "width": 1
          },
          "type": "line",
          "x0": -0.10972155198490846,
          "x1": 3.334123602246895,
          "y0": 4.810867211259355,
          "y1": 1.7319594723239216
         },
         {
          "line": {
           "color": "RoyalBlue",
           "width": 1
          },
          "type": "line",
          "x0": 3.334123602246895,
          "x1": 2.440561425400177,
          "y0": 1.7319594723239216,
          "y1": 1.4989299575159065
         },
         {
          "line": {
           "color": "RoyalBlue",
           "width": 1
          },
          "type": "line",
          "x0": 2.440561425400177,
          "x1": -0.10972155198490846,
          "y0": 1.4989299575159065,
          "y1": 4.810867211259355
         },
         {
          "line": {
           "color": "#AAAA00",
           "width": 1
          },
          "type": "circle",
          "x0": -2.0082131574193287,
          "x1": 5.784855474527438,
          "xref": "x",
          "y0": -1.2159487689403221,
          "y1": 6.577119863006445,
          "yref": "y"
         },
         {
          "fillcolor": "#0000FF",
          "line": {
           "width": 0
          },
          "type": "circle",
          "x0": 1.8633211585540548,
          "x1": 1.9133211585540546,
          "xref": "x",
          "y0": 2.6555855470330614,
          "y1": 2.705585547033061,
          "yref": "y"
         },
         {
          "line": {
           "color": "RoyalBlue",
           "width": 1
          },
          "type": "line",
          "x0": -0.10972155198490846,
          "x1": 3.334123602246895,
          "y0": 4.810867211259355,
          "y1": 1.7319594723239216
         },
         {
          "line": {
           "color": "RoyalBlue",
           "width": 1
          },
          "type": "line",
          "x0": 3.334123602246895,
          "x1": 2.1655228627684515,
          "y0": 1.7319594723239216,
          "y1": 1.0238633493338352
         },
         {
          "line": {
           "color": "RoyalBlue",
           "width": 1
          },
          "type": "line",
          "x0": 2.1655228627684515,
          "x1": -0.10972155198490846,
          "y0": 1.0238633493338352,
          "y1": 4.810867211259355
         },
         {
          "line": {
           "color": "#AAAA00",
           "width": 1
          },
          "type": "circle",
          "x0": -2.157833129185321,
          "x1": 5.751116404538947,
          "xref": "x",
          "y0": -1.4322447558897635,
          "y1": 6.476704777834504,
          "yref": "y"
         },
         {
          "fillcolor": "#0000FF",
          "line": {
           "width": 0
          },
          "type": "circle",
          "x0": 1.7716416376768127,
          "x1": 1.8216416376768125,
          "xref": "x",
          "y0": 2.4972300109723706,
          "y1": 2.5472300109723705,
          "yref": "y"
         },
         {
          "line": {
           "color": "RoyalBlue",
           "width": 1
          },
          "type": "line",
          "x0": -0.10972155198490846,
          "x1": 2.7225367316489018,
          "y0": 4.810867211259355,
          "y1": 1.6836762983293432
         },
         {
          "line": {
           "color": "RoyalBlue",
           "width": 1
          },
          "type": "line",
          "x0": 2.7225367316489018,
          "x1": 2.440561425400177,
          "y0": 1.6836762983293432,
          "y1": 1.4989299575159065
         },
         {
          "line": {
           "color": "RoyalBlue",
           "width": 1
          },
          "type": "line",
          "x0": 2.440561425400177,
          "x1": -0.10972155198490846,
          "y0": 1.4989299575159065,
          "y1": 4.810867211259355
         },
         {
          "line": {
           "color": "#AAAA00",
           "width": 1
          },
          "type": "circle",
          "x0": -2.088913362068193,
          "x1": 5.45783109877764,
          "xref": "x",
          "y0": -1.1088810747213813,
          "y1": 6.437863386124452,
          "yref": "y"
         },
         {
          "fillcolor": "#0000FF",
          "line": {
           "width": 0
          },
          "type": "circle",
          "x0": 1.6594588683547236,
          "x1": 1.7094588683547234,
          "xref": "x",
          "y0": 2.6394911557015353,
          "y1": 2.689491155701535,
          "yref": "y"
         },
         {
          "line": {
           "color": "RoyalBlue",
           "width": 1
          },
          "type": "line",
          "x0": -0.10972155198490846,
          "x1": 2.7225367316489018,
          "y0": 4.810867211259355,
          "y1": 1.6836762983293432
         },
         {
          "line": {
           "color": "RoyalBlue",
           "width": 1
          },
          "type": "line",
          "x0": 2.7225367316489018,
          "x1": 2.1655228627684515,
          "y0": 1.6836762983293432,
          "y1": 1.0238633493338352
         },
         {
          "line": {
           "color": "RoyalBlue",
           "width": 1
          },
          "type": "line",
          "x0": 2.1655228627684515,
          "x1": -0.10972155198490846,
          "y0": 1.0238633493338352,
          "y1": 4.810867211259355
         },
         {
          "line": {
           "color": "#AAAA00",
           "width": 1
          },
          "type": "circle",
          "x0": -2.2484531643638053,
          "x1": 5.434011859318769,
          "xref": "x",
          "y0": -1.3350968922004425,
          "y1": 6.347368131482131,
          "yref": "y"
         },
         {
          "fillcolor": "#0000FF",
          "line": {
           "width": 0
          },
          "type": "circle",
          "x0": 1.5677793474774817,
          "x1": 1.6177793474774815,
          "xref": "x",
          "y0": 2.4811356196408445,
          "y1": 2.5311356196408443,
          "yref": "y"
         },
         {
          "line": {
           "color": "RoyalBlue",
           "width": 1
          },
          "type": "line",
          "x0": 2.5161242655035676,
          "x1": 3.334123602246895,
          "y0": 1.6964919393544173,
          "y1": 1.7319594723239216
         },
         {
          "line": {
           "color": "RoyalBlue",
           "width": 1
          },
          "type": "line",
          "x0": 3.334123602246895,
          "x1": 2.440561425400177,
          "y0": 1.7319594723239216,
          "y1": 1.4989299575159065
         },
         {
          "line": {
           "color": "RoyalBlue",
           "width": 1
          },
          "type": "line",
          "x0": 2.440561425400177,
          "x1": 2.5161242655035676,
          "y0": 1.4989299575159065,
          "y1": 1.6964919393544173
         },
         {
          "line": {
           "color": "#AAAA00",
           "width": 1
          },
          "type": "circle",
          "x0": 1.2702578533193376,
          "x1": 4.2569483421144225,
          "xref": "x",
          "y0": 0.14911521200053923,
          "y1": 3.1358057007956246,
          "yref": "y"
         },
         {
          "fillcolor": "#0000FF",
          "line": {
           "width": 0
          },
          "type": "circle",
          "x0": 2.7386030977168803,
          "x1": 2.78860309771688,
          "xref": "x",
          "y0": 1.617460456398082,
          "y1": 1.6674604563980817,
          "yref": "y"
         },
         {
          "line": {
           "color": "RoyalBlue",
           "width": 1
          },
          "type": "line",
          "x0": 2.5161242655035676,
          "x1": 3.334123602246895,
          "y0": 1.6964919393544173,
          "y1": 1.7319594723239216
         },
         {
          "line": {
           "color": "RoyalBlue",
           "width": 1
          },
          "type": "line",
          "x0": 3.334123602246895,
          "x1": 2.1655228627684515,
          "y0": 1.7319594723239216,
          "y1": 1.0238633493338352
         },
         {
          "line": {
           "color": "RoyalBlue",
           "width": 1
          },
          "type": "line",
          "x0": 2.1655228627684515,
          "x1": 2.5161242655035676,
          "y0": 1.0238633493338352,
          "y1": 1.6964919393544173
         },
         {
          "line": {
           "color": "#AAAA00",
           "width": 1
          },
          "type": "circle",
          "x0": 1.04901125621066,
          "x1": 4.294835897468617,
          "xref": "x",
          "y0": -0.1388074002915871,
          "y1": 3.1070172409663694,
          "yref": "y"
         },
         {
          "fillcolor": "#0000FF",
          "line": {
           "width": 0
          },
          "type": "circle",
          "x0": 2.6469235768396384,
          "x1": 2.6969235768396382,
          "xref": "x",
          "y0": 1.4591049203373914,
          "y1": 1.5091049203373912,
          "yref": "y"
         },
         {
          "line": {
           "color": "RoyalBlue",
           "width": 1
          },
          "type": "line",
          "x0": 2.5161242655035676,
          "x1": 2.7225367316489018,
          "y0": 1.6964919393544173,
          "y1": 1.6836762983293432
         },
         {
          "line": {
           "color": "RoyalBlue",
           "width": 1
          },
          "type": "line",
          "x0": 2.7225367316489018,
          "x1": 2.440561425400177,
          "y0": 1.6836762983293432,
          "y1": 1.4989299575159065
         },
         {
          "line": {
           "color": "RoyalBlue",
           "width": 1
          },
          "type": "line",
          "x0": 2.440561425400177,
          "x1": 2.5161242655035676,
          "y0": 1.4989299575159065,
          "y1": 1.6964919393544173
         },
         {
          "line": {
           "color": "#AAAA00",
           "width": 1
          },
          "type": "circle",
          "x0": 1.4713043354209385,
          "x1": 3.6481772796141594,
          "xref": "x",
          "y0": 0.5379295929699452,
          "y1": 2.714802537163166,
          "yref": "y"
         },
         {
          "fillcolor": "#0000FF",
          "line": {
           "width": 0
          },
          "type": "circle",
          "x0": 2.534740807517549,
          "x1": 2.584740807517549,
          "xref": "x",
          "y0": 1.6013660650665558,
          "y1": 1.6513660650665556,
          "yref": "y"
         },
         {
          "line": {
           "color": "RoyalBlue",
           "width": 1
          },
          "type": "line",
          "x0": 2.5161242655035676,
          "x1": 2.7225367316489018,
          "y0": 1.6964919393544173,
          "y1": 1.6836762983293432
         },
         {
          "line": {
           "color": "RoyalBlue",
           "width": 1
          },
          "type": "line",
          "x0": 2.7225367316489018,
          "x1": 2.1655228627684515,
          "y0": 1.6836762983293432,
          "y1": 1.0238633493338352
         },
         {
          "line": {
           "color": "RoyalBlue",
           "width": 1
          },
          "type": "line",
          "x0": 2.1655228627684515,
          "x1": 2.5161242655035676,
          "y0": 1.0238633493338352,
          "y1": 1.6964919393544173
         },
         {
          "line": {
           "color": "#AAAA00",
           "width": 1
          },
          "type": "circle",
          "x0": 1.2186430553722674,
          "x1": 3.717479517908347,
          "xref": "x",
          "y0": 0.2185922977378254,
          "y1": 2.717428760273905,
          "yref": "y"
         },
         {
          "fillcolor": "#0000FF",
          "line": {
           "width": 0
          },
          "type": "circle",
          "x0": 2.443061286640307,
          "x1": 2.493061286640307,
          "xref": "x",
          "y0": 1.4430105290058652,
          "y1": 1.493010529005865,
          "yref": "y"
         },
         {
          "line": {
           "color": "#FF9999",
           "width": 3
          },
          "type": "circle",
          "x0": 1.4713043354209385,
          "x1": 3.6481772796141594,
          "xref": "x",
          "y0": 0.5379295929699452,
          "y1": 2.714802537163166,
          "yref": "y"
         },
         {
          "fillcolor": "#FF9999",
          "line": {
           "width": 0
          },
          "type": "circle",
          "x0": 2.534740807517549,
          "x1": 2.584740807517549,
          "xref": "x",
          "y0": 1.6013660650665558,
          "y1": 1.6513660650665556,
          "yref": "y"
         },
         {
          "line": {
           "color": "#FF0000",
           "width": 4
          },
          "type": "circle",
          "x0": 1.4713043354209385,
          "x1": 3.6481772796141594,
          "xref": "x",
          "y0": 0.5379295929699452,
          "y1": 2.714802537163166,
          "yref": "y"
         },
         {
          "fillcolor": "#FF0000",
          "line": {
           "width": 0
          },
          "type": "circle",
          "x0": 2.509740807517549,
          "x1": 2.6097408075175488,
          "xref": "x",
          "y0": 1.5763660650665556,
          "y1": 1.6763660650665557,
          "yref": "y"
         }
        ],
        "template": {
         "data": {
          "bar": [
           {
            "error_x": {
             "color": "#2a3f5f"
            },
            "error_y": {
             "color": "#2a3f5f"
            },
            "marker": {
             "line": {
              "color": "#E5ECF6",
              "width": 0.5
             }
            },
            "type": "bar"
           }
          ],
          "barpolar": [
           {
            "marker": {
             "line": {
              "color": "#E5ECF6",
              "width": 0.5
             }
            },
            "type": "barpolar"
           }
          ],
          "carpet": [
           {
            "aaxis": {
             "endlinecolor": "#2a3f5f",
             "gridcolor": "white",
             "linecolor": "white",
             "minorgridcolor": "white",
             "startlinecolor": "#2a3f5f"
            },
            "baxis": {
             "endlinecolor": "#2a3f5f",
             "gridcolor": "white",
             "linecolor": "white",
             "minorgridcolor": "white",
             "startlinecolor": "#2a3f5f"
            },
            "type": "carpet"
           }
          ],
          "choropleth": [
           {
            "colorbar": {
             "outlinewidth": 0,
             "ticks": ""
            },
            "type": "choropleth"
           }
          ],
          "contour": [
           {
            "colorbar": {
             "outlinewidth": 0,
             "ticks": ""
            },
            "colorscale": [
             [
              0,
              "#0d0887"
             ],
             [
              0.1111111111111111,
              "#46039f"
             ],
             [
              0.2222222222222222,
              "#7201a8"
             ],
             [
              0.3333333333333333,
              "#9c179e"
             ],
             [
              0.4444444444444444,
              "#bd3786"
             ],
             [
              0.5555555555555556,
              "#d8576b"
             ],
             [
              0.6666666666666666,
              "#ed7953"
             ],
             [
              0.7777777777777778,
              "#fb9f3a"
             ],
             [
              0.8888888888888888,
              "#fdca26"
             ],
             [
              1,
              "#f0f921"
             ]
            ],
            "type": "contour"
           }
          ],
          "contourcarpet": [
           {
            "colorbar": {
             "outlinewidth": 0,
             "ticks": ""
            },
            "type": "contourcarpet"
           }
          ],
          "heatmap": [
           {
            "colorbar": {
             "outlinewidth": 0,
             "ticks": ""
            },
            "colorscale": [
             [
              0,
              "#0d0887"
             ],
             [
              0.1111111111111111,
              "#46039f"
             ],
             [
              0.2222222222222222,
              "#7201a8"
             ],
             [
              0.3333333333333333,
              "#9c179e"
             ],
             [
              0.4444444444444444,
              "#bd3786"
             ],
             [
              0.5555555555555556,
              "#d8576b"
             ],
             [
              0.6666666666666666,
              "#ed7953"
             ],
             [
              0.7777777777777778,
              "#fb9f3a"
             ],
             [
              0.8888888888888888,
              "#fdca26"
             ],
             [
              1,
              "#f0f921"
             ]
            ],
            "type": "heatmap"
           }
          ],
          "heatmapgl": [
           {
            "colorbar": {
             "outlinewidth": 0,
             "ticks": ""
            },
            "colorscale": [
             [
              0,
              "#0d0887"
             ],
             [
              0.1111111111111111,
              "#46039f"
             ],
             [
              0.2222222222222222,
              "#7201a8"
             ],
             [
              0.3333333333333333,
              "#9c179e"
             ],
             [
              0.4444444444444444,
              "#bd3786"
             ],
             [
              0.5555555555555556,
              "#d8576b"
             ],
             [
              0.6666666666666666,
              "#ed7953"
             ],
             [
              0.7777777777777778,
              "#fb9f3a"
             ],
             [
              0.8888888888888888,
              "#fdca26"
             ],
             [
              1,
              "#f0f921"
             ]
            ],
            "type": "heatmapgl"
           }
          ],
          "histogram": [
           {
            "marker": {
             "colorbar": {
              "outlinewidth": 0,
              "ticks": ""
             }
            },
            "type": "histogram"
           }
          ],
          "histogram2d": [
           {
            "colorbar": {
             "outlinewidth": 0,
             "ticks": ""
            },
            "colorscale": [
             [
              0,
              "#0d0887"
             ],
             [
              0.1111111111111111,
              "#46039f"
             ],
             [
              0.2222222222222222,
              "#7201a8"
             ],
             [
              0.3333333333333333,
              "#9c179e"
             ],
             [
              0.4444444444444444,
              "#bd3786"
             ],
             [
              0.5555555555555556,
              "#d8576b"
             ],
             [
              0.6666666666666666,
              "#ed7953"
             ],
             [
              0.7777777777777778,
              "#fb9f3a"
             ],
             [
              0.8888888888888888,
              "#fdca26"
             ],
             [
              1,
              "#f0f921"
             ]
            ],
            "type": "histogram2d"
           }
          ],
          "histogram2dcontour": [
           {
            "colorbar": {
             "outlinewidth": 0,
             "ticks": ""
            },
            "colorscale": [
             [
              0,
              "#0d0887"
             ],
             [
              0.1111111111111111,
              "#46039f"
             ],
             [
              0.2222222222222222,
              "#7201a8"
             ],
             [
              0.3333333333333333,
              "#9c179e"
             ],
             [
              0.4444444444444444,
              "#bd3786"
             ],
             [
              0.5555555555555556,
              "#d8576b"
             ],
             [
              0.6666666666666666,
              "#ed7953"
             ],
             [
              0.7777777777777778,
              "#fb9f3a"
             ],
             [
              0.8888888888888888,
              "#fdca26"
             ],
             [
              1,
              "#f0f921"
             ]
            ],
            "type": "histogram2dcontour"
           }
          ],
          "mesh3d": [
           {
            "colorbar": {
             "outlinewidth": 0,
             "ticks": ""
            },
            "type": "mesh3d"
           }
          ],
          "parcoords": [
           {
            "line": {
             "colorbar": {
              "outlinewidth": 0,
              "ticks": ""
             }
            },
            "type": "parcoords"
           }
          ],
          "pie": [
           {
            "automargin": true,
            "type": "pie"
           }
          ],
          "scatter": [
           {
            "marker": {
             "colorbar": {
              "outlinewidth": 0,
              "ticks": ""
             }
            },
            "type": "scatter"
           }
          ],
          "scatter3d": [
           {
            "line": {
             "colorbar": {
              "outlinewidth": 0,
              "ticks": ""
             }
            },
            "marker": {
             "colorbar": {
              "outlinewidth": 0,
              "ticks": ""
             }
            },
            "type": "scatter3d"
           }
          ],
          "scattercarpet": [
           {
            "marker": {
             "colorbar": {
              "outlinewidth": 0,
              "ticks": ""
             }
            },
            "type": "scattercarpet"
           }
          ],
          "scattergeo": [
           {
            "marker": {
             "colorbar": {
              "outlinewidth": 0,
              "ticks": ""
             }
            },
            "type": "scattergeo"
           }
          ],
          "scattergl": [
           {
            "marker": {
             "colorbar": {
              "outlinewidth": 0,
              "ticks": ""
             }
            },
            "type": "scattergl"
           }
          ],
          "scattermapbox": [
           {
            "marker": {
             "colorbar": {
              "outlinewidth": 0,
              "ticks": ""
             }
            },
            "type": "scattermapbox"
           }
          ],
          "scatterpolar": [
           {
            "marker": {
             "colorbar": {
              "outlinewidth": 0,
              "ticks": ""
             }
            },
            "type": "scatterpolar"
           }
          ],
          "scatterpolargl": [
           {
            "marker": {
             "colorbar": {
              "outlinewidth": 0,
              "ticks": ""
             }
            },
            "type": "scatterpolargl"
           }
          ],
          "scatterternary": [
           {
            "marker": {
             "colorbar": {
              "outlinewidth": 0,
              "ticks": ""
             }
            },
            "type": "scatterternary"
           }
          ],
          "surface": [
           {
            "colorbar": {
             "outlinewidth": 0,
             "ticks": ""
            },
            "colorscale": [
             [
              0,
              "#0d0887"
             ],
             [
              0.1111111111111111,
              "#46039f"
             ],
             [
              0.2222222222222222,
              "#7201a8"
             ],
             [
              0.3333333333333333,
              "#9c179e"
             ],
             [
              0.4444444444444444,
              "#bd3786"
             ],
             [
              0.5555555555555556,
              "#d8576b"
             ],
             [
              0.6666666666666666,
              "#ed7953"
             ],
             [
              0.7777777777777778,
              "#fb9f3a"
             ],
             [
              0.8888888888888888,
              "#fdca26"
             ],
             [
              1,
              "#f0f921"
             ]
            ],
            "type": "surface"
           }
          ],
          "table": [
           {
            "cells": {
             "fill": {
              "color": "#EBF0F8"
             },
             "line": {
              "color": "white"
             }
            },
            "header": {
             "fill": {
              "color": "#C8D4E3"
             },
             "line": {
              "color": "white"
             }
            },
            "type": "table"
           }
          ]
         },
         "layout": {
          "annotationdefaults": {
           "arrowcolor": "#2a3f5f",
           "arrowhead": 0,
           "arrowwidth": 1
          },
          "coloraxis": {
           "colorbar": {
            "outlinewidth": 0,
            "ticks": ""
           }
          },
          "colorscale": {
           "diverging": [
            [
             0,
             "#8e0152"
            ],
            [
             0.1,
             "#c51b7d"
            ],
            [
             0.2,
             "#de77ae"
            ],
            [
             0.3,
             "#f1b6da"
            ],
            [
             0.4,
             "#fde0ef"
            ],
            [
             0.5,
             "#f7f7f7"
            ],
            [
             0.6,
             "#e6f5d0"
            ],
            [
             0.7,
             "#b8e186"
            ],
            [
             0.8,
             "#7fbc41"
            ],
            [
             0.9,
             "#4d9221"
            ],
            [
             1,
             "#276419"
            ]
           ],
           "sequential": [
            [
             0,
             "#0d0887"
            ],
            [
             0.1111111111111111,
             "#46039f"
            ],
            [
             0.2222222222222222,
             "#7201a8"
            ],
            [
             0.3333333333333333,
             "#9c179e"
            ],
            [
             0.4444444444444444,
             "#bd3786"
            ],
            [
             0.5555555555555556,
             "#d8576b"
            ],
            [
             0.6666666666666666,
             "#ed7953"
            ],
            [
             0.7777777777777778,
             "#fb9f3a"
            ],
            [
             0.8888888888888888,
             "#fdca26"
            ],
            [
             1,
             "#f0f921"
            ]
           ],
           "sequentialminus": [
            [
             0,
             "#0d0887"
            ],
            [
             0.1111111111111111,
             "#46039f"
            ],
            [
             0.2222222222222222,
             "#7201a8"
            ],
            [
             0.3333333333333333,
             "#9c179e"
            ],
            [
             0.4444444444444444,
             "#bd3786"
            ],
            [
             0.5555555555555556,
             "#d8576b"
            ],
            [
             0.6666666666666666,
             "#ed7953"
            ],
            [
             0.7777777777777778,
             "#fb9f3a"
            ],
            [
             0.8888888888888888,
             "#fdca26"
            ],
            [
             1,
             "#f0f921"
            ]
           ]
          },
          "colorway": [
           "#636efa",
           "#EF553B",
           "#00cc96",
           "#ab63fa",
           "#FFA15A",
           "#19d3f3",
           "#FF6692",
           "#B6E880",
           "#FF97FF",
           "#FECB52"
          ],
          "font": {
           "color": "#2a3f5f"
          },
          "geo": {
           "bgcolor": "white",
           "lakecolor": "white",
           "landcolor": "#E5ECF6",
           "showlakes": true,
           "showland": true,
           "subunitcolor": "white"
          },
          "hoverlabel": {
           "align": "left"
          },
          "hovermode": "closest",
          "mapbox": {
           "style": "light"
          },
          "paper_bgcolor": "white",
          "plot_bgcolor": "#E5ECF6",
          "polar": {
           "angularaxis": {
            "gridcolor": "white",
            "linecolor": "white",
            "ticks": ""
           },
           "bgcolor": "#E5ECF6",
           "radialaxis": {
            "gridcolor": "white",
            "linecolor": "white",
            "ticks": ""
           }
          },
          "scene": {
           "xaxis": {
            "backgroundcolor": "#E5ECF6",
            "gridcolor": "white",
            "gridwidth": 2,
            "linecolor": "white",
            "showbackground": true,
            "ticks": "",
            "zerolinecolor": "white"
           },
           "yaxis": {
            "backgroundcolor": "#E5ECF6",
            "gridcolor": "white",
            "gridwidth": 2,
            "linecolor": "white",
            "showbackground": true,
            "ticks": "",
            "zerolinecolor": "white"
           },
           "zaxis": {
            "backgroundcolor": "#E5ECF6",
            "gridcolor": "white",
            "gridwidth": 2,
            "linecolor": "white",
            "showbackground": true,
            "ticks": "",
            "zerolinecolor": "white"
           }
          },
          "shapedefaults": {
           "line": {
            "color": "#2a3f5f"
           }
          },
          "ternary": {
           "aaxis": {
            "gridcolor": "white",
            "linecolor": "white",
            "ticks": ""
           },
           "baxis": {
            "gridcolor": "white",
            "linecolor": "white",
            "ticks": ""
           },
           "bgcolor": "#E5ECF6",
           "caxis": {
            "gridcolor": "white",
            "linecolor": "white",
            "ticks": ""
           }
          },
          "title": {
           "x": 0.05
          },
          "xaxis": {
           "automargin": true,
           "gridcolor": "white",
           "linecolor": "white",
           "ticks": "",
           "title": {
            "standoff": 15
           },
           "zerolinecolor": "white",
           "zerolinewidth": 2
          },
          "yaxis": {
           "automargin": true,
           "gridcolor": "white",
           "linecolor": "white",
           "ticks": "",
           "title": {
            "standoff": 15
           },
           "zerolinecolor": "white",
           "zerolinewidth": 2
          }
         }
        },
        "width": 800,
        "xaxis": {
         "range": [
          -1,
          5
         ],
         "zeroline": false
        },
        "yaxis": {
         "range": [
          -1,
          5
         ]
        }
       }
      },
      "text/html": [
       "<div>\n",
       "        \n",
       "        \n",
       "            <div id=\"568b531d-bcfb-4121-ab79-c565d9dad3fc\" class=\"plotly-graph-div\" style=\"height:800px; width:800px;\"></div>\n",
       "            <script type=\"text/javascript\">\n",
       "                require([\"plotly\"], function(Plotly) {\n",
       "                    window.PLOTLYENV=window.PLOTLYENV || {};\n",
       "                    \n",
       "                if (document.getElementById(\"568b531d-bcfb-4121-ab79-c565d9dad3fc\")) {\n",
       "                    Plotly.newPlot(\n",
       "                        '568b531d-bcfb-4121-ab79-c565d9dad3fc',\n",
       "                        [{\"mode\": \"text\", \"text\": [\"aa:69\", \"a4:a8\", \"d9:ab\", \"95:51\"], \"type\": \"scatter\", \"x\": [0.25, 1.1, 2.8, 3.1], \"y\": [2.5500000000000003, 4.699999999999999, 4.699999999999999, 0.9]}],\n",
       "                        {\"height\": 800, \"shapes\": [{\"fillcolor\": \"#002200\", \"line\": {\"width\": 0}, \"type\": \"circle\", \"x0\": 0.2, \"x1\": 0.3, \"xref\": \"x\", \"y0\": 2.4000000000000004, \"y1\": 2.5, \"yref\": \"y\"}, {\"fillcolor\": \"#002200\", \"line\": {\"width\": 0}, \"type\": \"circle\", \"x0\": 1.05, \"x1\": 1.1500000000000001, \"xref\": \"x\", \"y0\": 4.55, \"y1\": 4.6499999999999995, \"yref\": \"y\"}, {\"fillcolor\": \"#002200\", \"line\": {\"width\": 0}, \"type\": \"circle\", \"x0\": 2.75, \"x1\": 2.8499999999999996, \"xref\": \"x\", \"y0\": 4.55, \"y1\": 4.6499999999999995, \"yref\": \"y\"}, {\"fillcolor\": \"#002200\", \"line\": {\"width\": 0}, \"type\": \"circle\", \"x0\": 3.0500000000000003, \"x1\": 3.15, \"xref\": \"x\", \"y0\": 0.75, \"y1\": 0.8500000000000001, \"yref\": \"y\"}, {\"line\": {\"color\": \"#AAAAFF\", \"width\": 1}, \"type\": \"rect\", \"x0\": 0, \"x1\": 3.4, \"xref\": \"x\", \"y0\": 0, \"y1\": 4.6, \"yref\": \"y\"}, {\"line\": {\"color\": \"rgba(127, 127, 127, 0.1)\", \"width\": 103.8437872298322}, \"type\": \"circle\", \"x0\": -2.1381150692883186, \"x1\": 2.6381150692883186, \"xref\": \"x\", \"y0\": 0.06188493071168155, \"y1\": 4.838115069288319, \"yref\": \"y\"}, {\"line\": {\"width\": 2}, \"type\": \"circle\", \"x0\": -2.1381150692883186, \"x1\": 2.6381150692883186, \"xref\": \"x\", \"y0\": 0.06188493071168155, \"y1\": 4.838115069288319, \"yref\": \"y\"}, {\"line\": {\"color\": \"rgba(127, 127, 127, 0.1)\", \"width\": 165.25565152663947}, \"type\": \"circle\", \"x0\": -0.11735230832166765, \"x1\": 5.717352308321667, \"xref\": \"x\", \"y0\": 1.6826476916783322, \"y1\": 7.517352308321668, \"yref\": \"y\"}, {\"line\": {\"width\": 2}, \"type\": \"circle\", \"x0\": -0.11735230832166765, \"x1\": 5.717352308321667, \"xref\": \"x\", \"y0\": 1.6826476916783322, \"y1\": 7.517352308321668, \"yref\": \"y\"}, {\"line\": {\"color\": \"rgba(127, 127, 127, 0.1)\", \"width\": 79.00399104572303}, \"type\": \"circle\", \"x0\": 2.1390825638050726, \"x1\": 4.060917436194928, \"xref\": \"x\", \"y0\": -0.1609174361949276, \"y1\": 1.7609174361949278, \"yref\": \"y\"}, {\"line\": {\"width\": 2}, \"type\": \"circle\", \"x0\": 2.1390825638050726, \"x1\": 4.060917436194928, \"xref\": \"x\", \"y0\": -0.1609174361949276, \"y1\": 1.7609174361949278, \"yref\": \"y\"}, {\"fillcolor\": \"#AA00AA\", \"line\": {\"width\": 0}, \"type\": \"circle\", \"x0\": -0.13472155198490846, \"x1\": -0.08472155198490847, \"xref\": \"x\", \"y0\": 4.7858672112593545, \"y1\": 4.835867211259355, \"yref\": \"y\"}, {\"fillcolor\": \"#AA00AA\", \"line\": {\"width\": 0}, \"type\": \"circle\", \"x0\": 2.4911242655035677, \"x1\": 2.5411242655035675, \"xref\": \"x\", \"y0\": 1.6714919393544174, \"y1\": 1.7214919393544172, \"yref\": \"y\"}, {\"fillcolor\": \"#AA00AA\", \"line\": {\"width\": 0}, \"type\": \"circle\", \"x0\": 3.309123602246895, \"x1\": 3.359123602246895, \"xref\": \"x\", \"y0\": 1.7069594723239216, \"y1\": 1.7569594723239215, \"yref\": \"y\"}, {\"fillcolor\": \"#AA00AA\", \"line\": {\"width\": 0}, \"type\": \"circle\", \"x0\": 2.697536731648902, \"x1\": 2.7475367316489017, \"xref\": \"x\", \"y0\": 1.6586762983293433, \"y1\": 1.708676298329343, \"yref\": \"y\"}, {\"fillcolor\": \"#AA00AA\", \"line\": {\"width\": 0}, \"type\": \"circle\", \"x0\": 2.415561425400177, \"x1\": 2.465561425400177, \"xref\": \"x\", \"y0\": 1.4739299575159066, \"y1\": 1.5239299575159064, \"yref\": \"y\"}, {\"fillcolor\": \"#AA00AA\", \"line\": {\"width\": 0}, \"type\": \"circle\", \"x0\": 2.1405228627684516, \"x1\": 2.1905228627684514, \"xref\": \"x\", \"y0\": 0.9988633493338351, \"y1\": 1.048863349333835, \"yref\": \"y\"}, {\"line\": {\"color\": \"RoyalBlue\", \"width\": 1}, \"type\": \"line\", \"x0\": -0.10972155198490846, \"x1\": 3.334123602246895, \"y0\": 4.810867211259355, \"y1\": 1.7319594723239216}, {\"line\": {\"color\": \"RoyalBlue\", \"width\": 1}, \"type\": \"line\", \"x0\": 3.334123602246895, \"x1\": 2.440561425400177, \"y0\": 1.7319594723239216, \"y1\": 1.4989299575159065}, {\"line\": {\"color\": \"RoyalBlue\", \"width\": 1}, \"type\": \"line\", \"x0\": 2.440561425400177, \"x1\": -0.10972155198490846, \"y0\": 1.4989299575159065, \"y1\": 4.810867211259355}, {\"line\": {\"color\": \"#AAAA00\", \"width\": 1}, \"type\": \"circle\", \"x0\": -2.0082131574193287, \"x1\": 5.784855474527438, \"xref\": \"x\", \"y0\": -1.2159487689403221, \"y1\": 6.577119863006445, \"yref\": \"y\"}, {\"fillcolor\": \"#0000FF\", \"line\": {\"width\": 0}, \"type\": \"circle\", \"x0\": 1.8633211585540548, \"x1\": 1.9133211585540546, \"xref\": \"x\", \"y0\": 2.6555855470330614, \"y1\": 2.705585547033061, \"yref\": \"y\"}, {\"line\": {\"color\": \"RoyalBlue\", \"width\": 1}, \"type\": \"line\", \"x0\": -0.10972155198490846, \"x1\": 3.334123602246895, \"y0\": 4.810867211259355, \"y1\": 1.7319594723239216}, {\"line\": {\"color\": \"RoyalBlue\", \"width\": 1}, \"type\": \"line\", \"x0\": 3.334123602246895, \"x1\": 2.1655228627684515, \"y0\": 1.7319594723239216, \"y1\": 1.0238633493338352}, {\"line\": {\"color\": \"RoyalBlue\", \"width\": 1}, \"type\": \"line\", \"x0\": 2.1655228627684515, \"x1\": -0.10972155198490846, \"y0\": 1.0238633493338352, \"y1\": 4.810867211259355}, {\"line\": {\"color\": \"#AAAA00\", \"width\": 1}, \"type\": \"circle\", \"x0\": -2.157833129185321, \"x1\": 5.751116404538947, \"xref\": \"x\", \"y0\": -1.4322447558897635, \"y1\": 6.476704777834504, \"yref\": \"y\"}, {\"fillcolor\": \"#0000FF\", \"line\": {\"width\": 0}, \"type\": \"circle\", \"x0\": 1.7716416376768127, \"x1\": 1.8216416376768125, \"xref\": \"x\", \"y0\": 2.4972300109723706, \"y1\": 2.5472300109723705, \"yref\": \"y\"}, {\"line\": {\"color\": \"RoyalBlue\", \"width\": 1}, \"type\": \"line\", \"x0\": -0.10972155198490846, \"x1\": 2.7225367316489018, \"y0\": 4.810867211259355, \"y1\": 1.6836762983293432}, {\"line\": {\"color\": \"RoyalBlue\", \"width\": 1}, \"type\": \"line\", \"x0\": 2.7225367316489018, \"x1\": 2.440561425400177, \"y0\": 1.6836762983293432, \"y1\": 1.4989299575159065}, {\"line\": {\"color\": \"RoyalBlue\", \"width\": 1}, \"type\": \"line\", \"x0\": 2.440561425400177, \"x1\": -0.10972155198490846, \"y0\": 1.4989299575159065, \"y1\": 4.810867211259355}, {\"line\": {\"color\": \"#AAAA00\", \"width\": 1}, \"type\": \"circle\", \"x0\": -2.088913362068193, \"x1\": 5.45783109877764, \"xref\": \"x\", \"y0\": -1.1088810747213813, \"y1\": 6.437863386124452, \"yref\": \"y\"}, {\"fillcolor\": \"#0000FF\", \"line\": {\"width\": 0}, \"type\": \"circle\", \"x0\": 1.6594588683547236, \"x1\": 1.7094588683547234, \"xref\": \"x\", \"y0\": 2.6394911557015353, \"y1\": 2.689491155701535, \"yref\": \"y\"}, {\"line\": {\"color\": \"RoyalBlue\", \"width\": 1}, \"type\": \"line\", \"x0\": -0.10972155198490846, \"x1\": 2.7225367316489018, \"y0\": 4.810867211259355, \"y1\": 1.6836762983293432}, {\"line\": {\"color\": \"RoyalBlue\", \"width\": 1}, \"type\": \"line\", \"x0\": 2.7225367316489018, \"x1\": 2.1655228627684515, \"y0\": 1.6836762983293432, \"y1\": 1.0238633493338352}, {\"line\": {\"color\": \"RoyalBlue\", \"width\": 1}, \"type\": \"line\", \"x0\": 2.1655228627684515, \"x1\": -0.10972155198490846, \"y0\": 1.0238633493338352, \"y1\": 4.810867211259355}, {\"line\": {\"color\": \"#AAAA00\", \"width\": 1}, \"type\": \"circle\", \"x0\": -2.2484531643638053, \"x1\": 5.434011859318769, \"xref\": \"x\", \"y0\": -1.3350968922004425, \"y1\": 6.347368131482131, \"yref\": \"y\"}, {\"fillcolor\": \"#0000FF\", \"line\": {\"width\": 0}, \"type\": \"circle\", \"x0\": 1.5677793474774817, \"x1\": 1.6177793474774815, \"xref\": \"x\", \"y0\": 2.4811356196408445, \"y1\": 2.5311356196408443, \"yref\": \"y\"}, {\"line\": {\"color\": \"RoyalBlue\", \"width\": 1}, \"type\": \"line\", \"x0\": 2.5161242655035676, \"x1\": 3.334123602246895, \"y0\": 1.6964919393544173, \"y1\": 1.7319594723239216}, {\"line\": {\"color\": \"RoyalBlue\", \"width\": 1}, \"type\": \"line\", \"x0\": 3.334123602246895, \"x1\": 2.440561425400177, \"y0\": 1.7319594723239216, \"y1\": 1.4989299575159065}, {\"line\": {\"color\": \"RoyalBlue\", \"width\": 1}, \"type\": \"line\", \"x0\": 2.440561425400177, \"x1\": 2.5161242655035676, \"y0\": 1.4989299575159065, \"y1\": 1.6964919393544173}, {\"line\": {\"color\": \"#AAAA00\", \"width\": 1}, \"type\": \"circle\", \"x0\": 1.2702578533193376, \"x1\": 4.2569483421144225, \"xref\": \"x\", \"y0\": 0.14911521200053923, \"y1\": 3.1358057007956246, \"yref\": \"y\"}, {\"fillcolor\": \"#0000FF\", \"line\": {\"width\": 0}, \"type\": \"circle\", \"x0\": 2.7386030977168803, \"x1\": 2.78860309771688, \"xref\": \"x\", \"y0\": 1.617460456398082, \"y1\": 1.6674604563980817, \"yref\": \"y\"}, {\"line\": {\"color\": \"RoyalBlue\", \"width\": 1}, \"type\": \"line\", \"x0\": 2.5161242655035676, \"x1\": 3.334123602246895, \"y0\": 1.6964919393544173, \"y1\": 1.7319594723239216}, {\"line\": {\"color\": \"RoyalBlue\", \"width\": 1}, \"type\": \"line\", \"x0\": 3.334123602246895, \"x1\": 2.1655228627684515, \"y0\": 1.7319594723239216, \"y1\": 1.0238633493338352}, {\"line\": {\"color\": \"RoyalBlue\", \"width\": 1}, \"type\": \"line\", \"x0\": 2.1655228627684515, \"x1\": 2.5161242655035676, \"y0\": 1.0238633493338352, \"y1\": 1.6964919393544173}, {\"line\": {\"color\": \"#AAAA00\", \"width\": 1}, \"type\": \"circle\", \"x0\": 1.04901125621066, \"x1\": 4.294835897468617, \"xref\": \"x\", \"y0\": -0.1388074002915871, \"y1\": 3.1070172409663694, \"yref\": \"y\"}, {\"fillcolor\": \"#0000FF\", \"line\": {\"width\": 0}, \"type\": \"circle\", \"x0\": 2.6469235768396384, \"x1\": 2.6969235768396382, \"xref\": \"x\", \"y0\": 1.4591049203373914, \"y1\": 1.5091049203373912, \"yref\": \"y\"}, {\"line\": {\"color\": \"RoyalBlue\", \"width\": 1}, \"type\": \"line\", \"x0\": 2.5161242655035676, \"x1\": 2.7225367316489018, \"y0\": 1.6964919393544173, \"y1\": 1.6836762983293432}, {\"line\": {\"color\": \"RoyalBlue\", \"width\": 1}, \"type\": \"line\", \"x0\": 2.7225367316489018, \"x1\": 2.440561425400177, \"y0\": 1.6836762983293432, \"y1\": 1.4989299575159065}, {\"line\": {\"color\": \"RoyalBlue\", \"width\": 1}, \"type\": \"line\", \"x0\": 2.440561425400177, \"x1\": 2.5161242655035676, \"y0\": 1.4989299575159065, \"y1\": 1.6964919393544173}, {\"line\": {\"color\": \"#AAAA00\", \"width\": 1}, \"type\": \"circle\", \"x0\": 1.4713043354209385, \"x1\": 3.6481772796141594, \"xref\": \"x\", \"y0\": 0.5379295929699452, \"y1\": 2.714802537163166, \"yref\": \"y\"}, {\"fillcolor\": \"#0000FF\", \"line\": {\"width\": 0}, \"type\": \"circle\", \"x0\": 2.534740807517549, \"x1\": 2.584740807517549, \"xref\": \"x\", \"y0\": 1.6013660650665558, \"y1\": 1.6513660650665556, \"yref\": \"y\"}, {\"line\": {\"color\": \"RoyalBlue\", \"width\": 1}, \"type\": \"line\", \"x0\": 2.5161242655035676, \"x1\": 2.7225367316489018, \"y0\": 1.6964919393544173, \"y1\": 1.6836762983293432}, {\"line\": {\"color\": \"RoyalBlue\", \"width\": 1}, \"type\": \"line\", \"x0\": 2.7225367316489018, \"x1\": 2.1655228627684515, \"y0\": 1.6836762983293432, \"y1\": 1.0238633493338352}, {\"line\": {\"color\": \"RoyalBlue\", \"width\": 1}, \"type\": \"line\", \"x0\": 2.1655228627684515, \"x1\": 2.5161242655035676, \"y0\": 1.0238633493338352, \"y1\": 1.6964919393544173}, {\"line\": {\"color\": \"#AAAA00\", \"width\": 1}, \"type\": \"circle\", \"x0\": 1.2186430553722674, \"x1\": 3.717479517908347, \"xref\": \"x\", \"y0\": 0.2185922977378254, \"y1\": 2.717428760273905, \"yref\": \"y\"}, {\"fillcolor\": \"#0000FF\", \"line\": {\"width\": 0}, \"type\": \"circle\", \"x0\": 2.443061286640307, \"x1\": 2.493061286640307, \"xref\": \"x\", \"y0\": 1.4430105290058652, \"y1\": 1.493010529005865, \"yref\": \"y\"}, {\"line\": {\"color\": \"#FF9999\", \"width\": 3}, \"type\": \"circle\", \"x0\": 1.4713043354209385, \"x1\": 3.6481772796141594, \"xref\": \"x\", \"y0\": 0.5379295929699452, \"y1\": 2.714802537163166, \"yref\": \"y\"}, {\"fillcolor\": \"#FF9999\", \"line\": {\"width\": 0}, \"type\": \"circle\", \"x0\": 2.534740807517549, \"x1\": 2.584740807517549, \"xref\": \"x\", \"y0\": 1.6013660650665558, \"y1\": 1.6513660650665556, \"yref\": \"y\"}, {\"line\": {\"color\": \"#FF0000\", \"width\": 4}, \"type\": \"circle\", \"x0\": 1.4713043354209385, \"x1\": 3.6481772796141594, \"xref\": \"x\", \"y0\": 0.5379295929699452, \"y1\": 2.714802537163166, \"yref\": \"y\"}, {\"fillcolor\": \"#FF0000\", \"line\": {\"width\": 0}, \"type\": \"circle\", \"x0\": 2.509740807517549, \"x1\": 2.6097408075175488, \"xref\": \"x\", \"y0\": 1.5763660650665556, \"y1\": 1.6763660650665557, \"yref\": \"y\"}], \"template\": {\"data\": {\"bar\": [{\"error_x\": {\"color\": \"#2a3f5f\"}, \"error_y\": {\"color\": \"#2a3f5f\"}, \"marker\": {\"line\": {\"color\": \"#E5ECF6\", \"width\": 0.5}}, \"type\": \"bar\"}], \"barpolar\": [{\"marker\": {\"line\": {\"color\": \"#E5ECF6\", \"width\": 0.5}}, \"type\": \"barpolar\"}], \"carpet\": [{\"aaxis\": {\"endlinecolor\": \"#2a3f5f\", \"gridcolor\": \"white\", \"linecolor\": \"white\", \"minorgridcolor\": \"white\", \"startlinecolor\": \"#2a3f5f\"}, \"baxis\": {\"endlinecolor\": \"#2a3f5f\", \"gridcolor\": \"white\", \"linecolor\": \"white\", \"minorgridcolor\": \"white\", \"startlinecolor\": \"#2a3f5f\"}, \"type\": \"carpet\"}], \"choropleth\": [{\"colorbar\": {\"outlinewidth\": 0, \"ticks\": \"\"}, \"type\": \"choropleth\"}], \"contour\": [{\"colorbar\": {\"outlinewidth\": 0, \"ticks\": \"\"}, \"colorscale\": [[0.0, \"#0d0887\"], [0.1111111111111111, \"#46039f\"], [0.2222222222222222, \"#7201a8\"], [0.3333333333333333, \"#9c179e\"], [0.4444444444444444, \"#bd3786\"], [0.5555555555555556, \"#d8576b\"], [0.6666666666666666, \"#ed7953\"], [0.7777777777777778, \"#fb9f3a\"], [0.8888888888888888, \"#fdca26\"], [1.0, \"#f0f921\"]], \"type\": \"contour\"}], \"contourcarpet\": [{\"colorbar\": {\"outlinewidth\": 0, \"ticks\": \"\"}, \"type\": \"contourcarpet\"}], \"heatmap\": [{\"colorbar\": {\"outlinewidth\": 0, \"ticks\": \"\"}, \"colorscale\": [[0.0, \"#0d0887\"], [0.1111111111111111, \"#46039f\"], [0.2222222222222222, \"#7201a8\"], [0.3333333333333333, \"#9c179e\"], [0.4444444444444444, \"#bd3786\"], [0.5555555555555556, \"#d8576b\"], [0.6666666666666666, \"#ed7953\"], [0.7777777777777778, \"#fb9f3a\"], [0.8888888888888888, \"#fdca26\"], [1.0, \"#f0f921\"]], \"type\": \"heatmap\"}], \"heatmapgl\": [{\"colorbar\": {\"outlinewidth\": 0, \"ticks\": \"\"}, \"colorscale\": [[0.0, \"#0d0887\"], [0.1111111111111111, \"#46039f\"], [0.2222222222222222, \"#7201a8\"], [0.3333333333333333, \"#9c179e\"], [0.4444444444444444, \"#bd3786\"], [0.5555555555555556, \"#d8576b\"], [0.6666666666666666, \"#ed7953\"], [0.7777777777777778, \"#fb9f3a\"], [0.8888888888888888, \"#fdca26\"], [1.0, \"#f0f921\"]], \"type\": \"heatmapgl\"}], \"histogram\": [{\"marker\": {\"colorbar\": {\"outlinewidth\": 0, \"ticks\": \"\"}}, \"type\": \"histogram\"}], \"histogram2d\": [{\"colorbar\": {\"outlinewidth\": 0, \"ticks\": \"\"}, \"colorscale\": [[0.0, \"#0d0887\"], [0.1111111111111111, \"#46039f\"], [0.2222222222222222, \"#7201a8\"], [0.3333333333333333, \"#9c179e\"], [0.4444444444444444, \"#bd3786\"], [0.5555555555555556, \"#d8576b\"], [0.6666666666666666, \"#ed7953\"], [0.7777777777777778, \"#fb9f3a\"], [0.8888888888888888, \"#fdca26\"], [1.0, \"#f0f921\"]], \"type\": \"histogram2d\"}], \"histogram2dcontour\": [{\"colorbar\": {\"outlinewidth\": 0, \"ticks\": \"\"}, \"colorscale\": [[0.0, \"#0d0887\"], [0.1111111111111111, \"#46039f\"], [0.2222222222222222, \"#7201a8\"], [0.3333333333333333, \"#9c179e\"], [0.4444444444444444, \"#bd3786\"], [0.5555555555555556, \"#d8576b\"], [0.6666666666666666, \"#ed7953\"], [0.7777777777777778, \"#fb9f3a\"], [0.8888888888888888, \"#fdca26\"], [1.0, \"#f0f921\"]], \"type\": \"histogram2dcontour\"}], \"mesh3d\": [{\"colorbar\": {\"outlinewidth\": 0, \"ticks\": \"\"}, \"type\": \"mesh3d\"}], \"parcoords\": [{\"line\": {\"colorbar\": {\"outlinewidth\": 0, \"ticks\": \"\"}}, \"type\": \"parcoords\"}], \"pie\": [{\"automargin\": true, \"type\": \"pie\"}], \"scatter\": [{\"marker\": {\"colorbar\": {\"outlinewidth\": 0, \"ticks\": \"\"}}, \"type\": \"scatter\"}], \"scatter3d\": [{\"line\": {\"colorbar\": {\"outlinewidth\": 0, \"ticks\": \"\"}}, \"marker\": {\"colorbar\": {\"outlinewidth\": 0, \"ticks\": \"\"}}, \"type\": \"scatter3d\"}], \"scattercarpet\": [{\"marker\": {\"colorbar\": {\"outlinewidth\": 0, \"ticks\": \"\"}}, \"type\": \"scattercarpet\"}], \"scattergeo\": [{\"marker\": {\"colorbar\": {\"outlinewidth\": 0, \"ticks\": \"\"}}, \"type\": \"scattergeo\"}], \"scattergl\": [{\"marker\": {\"colorbar\": {\"outlinewidth\": 0, \"ticks\": \"\"}}, \"type\": \"scattergl\"}], \"scattermapbox\": [{\"marker\": {\"colorbar\": {\"outlinewidth\": 0, \"ticks\": \"\"}}, \"type\": \"scattermapbox\"}], \"scatterpolar\": [{\"marker\": {\"colorbar\": {\"outlinewidth\": 0, \"ticks\": \"\"}}, \"type\": \"scatterpolar\"}], \"scatterpolargl\": [{\"marker\": {\"colorbar\": {\"outlinewidth\": 0, \"ticks\": \"\"}}, \"type\": \"scatterpolargl\"}], \"scatterternary\": [{\"marker\": {\"colorbar\": {\"outlinewidth\": 0, \"ticks\": \"\"}}, \"type\": \"scatterternary\"}], \"surface\": [{\"colorbar\": {\"outlinewidth\": 0, \"ticks\": \"\"}, \"colorscale\": [[0.0, \"#0d0887\"], [0.1111111111111111, \"#46039f\"], [0.2222222222222222, \"#7201a8\"], [0.3333333333333333, \"#9c179e\"], [0.4444444444444444, \"#bd3786\"], [0.5555555555555556, \"#d8576b\"], [0.6666666666666666, \"#ed7953\"], [0.7777777777777778, \"#fb9f3a\"], [0.8888888888888888, \"#fdca26\"], [1.0, \"#f0f921\"]], \"type\": \"surface\"}], \"table\": [{\"cells\": {\"fill\": {\"color\": \"#EBF0F8\"}, \"line\": {\"color\": \"white\"}}, \"header\": {\"fill\": {\"color\": \"#C8D4E3\"}, \"line\": {\"color\": \"white\"}}, \"type\": \"table\"}]}, \"layout\": {\"annotationdefaults\": {\"arrowcolor\": \"#2a3f5f\", \"arrowhead\": 0, \"arrowwidth\": 1}, \"coloraxis\": {\"colorbar\": {\"outlinewidth\": 0, \"ticks\": \"\"}}, \"colorscale\": {\"diverging\": [[0, \"#8e0152\"], [0.1, \"#c51b7d\"], [0.2, \"#de77ae\"], [0.3, \"#f1b6da\"], [0.4, \"#fde0ef\"], [0.5, \"#f7f7f7\"], [0.6, \"#e6f5d0\"], [0.7, \"#b8e186\"], [0.8, \"#7fbc41\"], [0.9, \"#4d9221\"], [1, \"#276419\"]], \"sequential\": [[0.0, \"#0d0887\"], [0.1111111111111111, \"#46039f\"], [0.2222222222222222, \"#7201a8\"], [0.3333333333333333, \"#9c179e\"], [0.4444444444444444, \"#bd3786\"], [0.5555555555555556, \"#d8576b\"], [0.6666666666666666, \"#ed7953\"], [0.7777777777777778, \"#fb9f3a\"], [0.8888888888888888, \"#fdca26\"], [1.0, \"#f0f921\"]], \"sequentialminus\": [[0.0, \"#0d0887\"], [0.1111111111111111, \"#46039f\"], [0.2222222222222222, \"#7201a8\"], [0.3333333333333333, \"#9c179e\"], [0.4444444444444444, \"#bd3786\"], [0.5555555555555556, \"#d8576b\"], [0.6666666666666666, \"#ed7953\"], [0.7777777777777778, \"#fb9f3a\"], [0.8888888888888888, \"#fdca26\"], [1.0, \"#f0f921\"]]}, \"colorway\": [\"#636efa\", \"#EF553B\", \"#00cc96\", \"#ab63fa\", \"#FFA15A\", \"#19d3f3\", \"#FF6692\", \"#B6E880\", \"#FF97FF\", \"#FECB52\"], \"font\": {\"color\": \"#2a3f5f\"}, \"geo\": {\"bgcolor\": \"white\", \"lakecolor\": \"white\", \"landcolor\": \"#E5ECF6\", \"showlakes\": true, \"showland\": true, \"subunitcolor\": \"white\"}, \"hoverlabel\": {\"align\": \"left\"}, \"hovermode\": \"closest\", \"mapbox\": {\"style\": \"light\"}, \"paper_bgcolor\": \"white\", \"plot_bgcolor\": \"#E5ECF6\", \"polar\": {\"angularaxis\": {\"gridcolor\": \"white\", \"linecolor\": \"white\", \"ticks\": \"\"}, \"bgcolor\": \"#E5ECF6\", \"radialaxis\": {\"gridcolor\": \"white\", \"linecolor\": \"white\", \"ticks\": \"\"}}, \"scene\": {\"xaxis\": {\"backgroundcolor\": \"#E5ECF6\", \"gridcolor\": \"white\", \"gridwidth\": 2, \"linecolor\": \"white\", \"showbackground\": true, \"ticks\": \"\", \"zerolinecolor\": \"white\"}, \"yaxis\": {\"backgroundcolor\": \"#E5ECF6\", \"gridcolor\": \"white\", \"gridwidth\": 2, \"linecolor\": \"white\", \"showbackground\": true, \"ticks\": \"\", \"zerolinecolor\": \"white\"}, \"zaxis\": {\"backgroundcolor\": \"#E5ECF6\", \"gridcolor\": \"white\", \"gridwidth\": 2, \"linecolor\": \"white\", \"showbackground\": true, \"ticks\": \"\", \"zerolinecolor\": \"white\"}}, \"shapedefaults\": {\"line\": {\"color\": \"#2a3f5f\"}}, \"ternary\": {\"aaxis\": {\"gridcolor\": \"white\", \"linecolor\": \"white\", \"ticks\": \"\"}, \"baxis\": {\"gridcolor\": \"white\", \"linecolor\": \"white\", \"ticks\": \"\"}, \"bgcolor\": \"#E5ECF6\", \"caxis\": {\"gridcolor\": \"white\", \"linecolor\": \"white\", \"ticks\": \"\"}}, \"title\": {\"x\": 0.05}, \"xaxis\": {\"automargin\": true, \"gridcolor\": \"white\", \"linecolor\": \"white\", \"ticks\": \"\", \"title\": {\"standoff\": 15}, \"zerolinecolor\": \"white\", \"zerolinewidth\": 2}, \"yaxis\": {\"automargin\": true, \"gridcolor\": \"white\", \"linecolor\": \"white\", \"ticks\": \"\", \"title\": {\"standoff\": 15}, \"zerolinecolor\": \"white\", \"zerolinewidth\": 2}}}, \"width\": 800, \"xaxis\": {\"range\": [-1, 5], \"zeroline\": false}, \"yaxis\": {\"range\": [-1, 5]}},\n",
       "                        {\"responsive\": true}\n",
       "                    ).then(function(){\n",
       "                            \n",
       "var gd = document.getElementById('568b531d-bcfb-4121-ab79-c565d9dad3fc');\n",
       "var x = new MutationObserver(function (mutations, observer) {{\n",
       "        var display = window.getComputedStyle(gd).display;\n",
       "        if (!display || display === 'none') {{\n",
       "            console.log([gd, 'removed!']);\n",
       "            Plotly.purge(gd);\n",
       "            observer.disconnect();\n",
       "        }}\n",
       "}});\n",
       "\n",
       "// Listen for the removal of the full notebook cells\n",
       "var notebookContainer = gd.closest('#notebook-container');\n",
       "if (notebookContainer) {{\n",
       "    x.observe(notebookContainer, {childList: true});\n",
       "}}\n",
       "\n",
       "// Listen for the clearing of the current output cell\n",
       "var outputEl = gd.closest('.output');\n",
       "if (outputEl) {{\n",
       "    x.observe(outputEl, {childList: true});\n",
       "}}\n",
       "\n",
       "                        })\n",
       "                };\n",
       "                });\n",
       "            </script>\n",
       "        </div>"
      ]
     },
     "metadata": {},
     "output_type": "display_data"
    }
   ],
   "source": [
    "%run trilateration_sandbox"
   ]
  },
  {
   "cell_type": "code",
   "execution_count": null,
   "metadata": {},
   "outputs": [],
   "source": []
  }
 ],
 "metadata": {
  "kernelspec": {
   "display_name": "Python 3",
   "language": "python",
   "name": "python3"
  },
  "language_info": {
   "codemirror_mode": {
    "name": "ipython",
    "version": 3
   },
   "file_extension": ".py",
   "mimetype": "text/x-python",
   "name": "python",
   "nbconvert_exporter": "python",
   "pygments_lexer": "ipython3",
   "version": "3.7.3"
  }
 },
 "nbformat": 4,
 "nbformat_minor": 2
}
