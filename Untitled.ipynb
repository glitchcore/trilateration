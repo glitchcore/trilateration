{
 "cells": [
  {
   "cell_type": "code",
   "execution_count": 6,
   "metadata": {},
   "outputs": [
    {
     "name": "stdout",
     "output_type": "stream",
     "text": [
      "[2.5597408075175014, 1.626366065066552, 0.1744811927673788]\n"
     ]
    },
    {
     "data": {
      "application/vnd.plotly.v1+json": {
       "config": {
        "plotlyServerURL": "https://plot.ly"
       },
       "data": [
        {
         "mode": "text",
         "text": [
          "aa:69",
          "a4:a8",
          "d9:ab",
          "95:51"
         ],
         "type": "scatter",
         "x": [
          0.25,
          1.1,
          2.8,
          3.1
         ],
         "y": [
          2.5500000000000003,
          4.699999999999999,
          4.699999999999999,
          0.9
         ]
        }
       ],
       "layout": {
        "height": 800,
        "shapes": [
         {
          "fillcolor": "#002200",
          "line": {
           "width": 0
          },
          "type": "circle",
          "x0": 0.2,
          "x1": 0.3,
          "xref": "x",
          "y0": 2.4000000000000004,
          "y1": 2.5,
          "yref": "y"
         },
         {
          "fillcolor": "#002200",
          "line": {
           "width": 0
          },
          "type": "circle",
          "x0": 1.05,
          "x1": 1.1500000000000001,
          "xref": "x",
          "y0": 4.55,
          "y1": 4.6499999999999995,
          "yref": "y"
         },
         {
          "fillcolor": "#002200",
          "line": {
           "width": 0
          },
          "type": "circle",
          "x0": 2.75,
          "x1": 2.8499999999999996,
          "xref": "x",
          "y0": 4.55,
          "y1": 4.6499999999999995,
          "yref": "y"
         },
         {
          "fillcolor": "#002200",
          "line": {
           "width": 0
          },
          "type": "circle",
          "x0": 3.0500000000000003,
          "x1": 3.15,
          "xref": "x",
          "y0": 0.75,
          "y1": 0.8500000000000001,
          "yref": "y"
         },
         {
          "line": {
           "color": "#AAAAFF",
           "width": 1
          },
          "type": "rect",
          "x0": 0,
          "x1": 3.4,
          "xref": "x",
          "y0": 0,
          "y1": 4.6,
          "yref": "y"
         },
         {
          "line": {
           "width": 2
          },
          "type": "circle",
          "x0": 2.1390825638050726,
          "x1": 4.060917436194928,
          "xref": "x",
          "y0": -0.1609174361949276,
          "y1": 1.7609174361949278,
          "yref": "y"
         },
         {
          "line": {
           "width": 2
          },
          "type": "circle",
          "x0": -2.1381150692883186,
          "x1": 2.6381150692883186,
          "xref": "x",
          "y0": 0.06188493071168155,
          "y1": 4.838115069288319,
          "yref": "y"
         },
         {
          "line": {
           "width": 2
          },
          "type": "circle",
          "x0": -0.11735230832166765,
          "x1": 5.717352308321667,
          "xref": "x",
          "y0": 1.6826476916783322,
          "y1": 7.517352308321668,
          "yref": "y"
         },
         {
          "fillcolor": "#AA0000",
          "line": {
           "width": 0
          },
          "type": "circle",
          "x0": 2.4005614254001766,
          "x1": 2.4805614254001767,
          "xref": "x",
          "y0": 1.4589299575159056,
          "y1": 1.5389299575159057,
          "yref": "y"
         },
         {
          "fillcolor": "#AA0000",
          "line": {
           "width": 0
          },
          "type": "circle",
          "x0": 2.125522862768452,
          "x1": 2.205522862768452,
          "xref": "x",
          "y0": 0.983863349333836,
          "y1": 1.063863349333836,
          "yref": "y"
         },
         {
          "fillcolor": "#AA0000",
          "line": {
           "width": 0
          },
          "type": "circle",
          "x0": -0.14972155198490847,
          "x1": -0.06972155198490845,
          "xref": "x",
          "y0": 4.770867211259355,
          "y1": 4.850867211259355,
          "yref": "y"
         },
         {
          "fillcolor": "#AA0000",
          "line": {
           "width": 0
          },
          "type": "circle",
          "x0": 2.4761242655035676,
          "x1": 2.5561242655035676,
          "xref": "x",
          "y0": 1.6564919393544173,
          "y1": 1.7364919393544174,
          "yref": "y"
         },
         {
          "fillcolor": "#AA0000",
          "line": {
           "width": 0
          },
          "type": "circle",
          "x0": 3.294123602247034,
          "x1": 3.374123602247034,
          "xref": "x",
          "y0": 1.691959472323933,
          "y1": 1.7719594723239331,
          "yref": "y"
         },
         {
          "fillcolor": "#AA0000",
          "line": {
           "width": 0
          },
          "type": "circle",
          "x0": 2.6825367316487605,
          "x1": 2.7625367316487606,
          "xref": "x",
          "y0": 1.6436762983293325,
          "y1": 1.7236762983293326,
          "yref": "y"
         },
         {
          "line": {
           "color": "RoyalBlue",
           "width": 1
          },
          "type": "line",
          "x0": 2.4405614254001766,
          "x1": -0.10972155198490846,
          "y0": 1.4989299575159056,
          "y1": 4.810867211259355
         },
         {
          "line": {
           "color": "RoyalBlue",
           "width": 1
          },
          "type": "line",
          "x0": -0.10972155198490846,
          "x1": 3.334123602247034,
          "y0": 4.810867211259355,
          "y1": 1.731959472323933
         },
         {
          "line": {
           "color": "RoyalBlue",
           "width": 1
          },
          "type": "line",
          "x0": 3.334123602247034,
          "x1": 2.4405614254001766,
          "y0": 1.731959472323933,
          "y1": 1.4989299575159056
         },
         {
          "line": {
           "color": "#AAAA00",
           "width": 2
          },
          "type": "circle",
          "x0": -1.0323422321975286,
          "x1": 4.80898454930573,
          "xref": "x",
          "y0": -0.2400778437185651,
          "y1": 5.601248937784694,
          "yref": "y"
         },
         {
          "fillcolor": "#0000FF",
          "line": {
           "width": 0
          },
          "type": "circle",
          "x0": 1.863321158554101,
          "x1": 1.9133211585541008,
          "xref": "x",
          "y0": 2.6555855470330645,
          "y1": 2.7055855470330643,
          "yref": "y"
         },
         {
          "line": {
           "color": "RoyalBlue",
           "width": 1
          },
          "type": "line",
          "x0": 2.4405614254001766,
          "x1": -0.10972155198490846,
          "y0": 1.4989299575159056,
          "y1": 4.810867211259355
         },
         {
          "line": {
           "color": "RoyalBlue",
           "width": 1
          },
          "type": "line",
          "x0": -0.10972155198490846,
          "x1": 2.7225367316487605,
          "y0": 4.810867211259355,
          "y1": 1.6836762983293325
         },
         {
          "line": {
           "color": "RoyalBlue",
           "width": 1
          },
          "type": "line",
          "x0": 2.7225367316487605,
          "x1": 2.4405614254001766,
          "y0": 1.6836762983293325,
          "y1": 1.4989299575159056
         },
         {
          "line": {
           "color": "#AAAA00",
           "width": 2
          },
          "type": "circle",
          "x0": -1.1130424368464293,
          "x1": 4.481960173555782,
          "xref": "x",
          "y0": -0.13301014949957457,
          "y1": 5.461992460902637,
          "yref": "y"
         },
         {
          "fillcolor": "#0000FF",
          "line": {
           "width": 0
          },
          "type": "circle",
          "x0": 1.6594588683546765,
          "x1": 1.7094588683546763,
          "xref": "x",
          "y0": 2.6394911557015313,
          "y1": 2.689491155701531,
          "yref": "y"
         },
         {
          "line": {
           "color": "RoyalBlue",
           "width": 1
          },
          "type": "line",
          "x0": 2.4405614254001766,
          "x1": 2.5161242655035676,
          "y0": 1.4989299575159056,
          "y1": 1.6964919393544173
         },
         {
          "line": {
           "color": "RoyalBlue",
           "width": 1
          },
          "type": "line",
          "x0": 2.5161242655035676,
          "x1": 3.334123602247034,
          "y0": 1.6964919393544173,
          "y1": 1.731959472323933
         },
         {
          "line": {
           "color": "RoyalBlue",
           "width": 1
          },
          "type": "line",
          "x0": 3.334123602247034,
          "x1": 2.4405614254001766,
          "y0": 1.731959472323933,
          "y1": 1.4989299575159056
         },
         {
          "line": {
           "color": "#AAAA00",
           "width": 2
          },
          "type": "circle",
          "x0": 2.186105288248367,
          "x1": 3.341100907185485,
          "xref": "x",
          "y0": 1.0649626469295264,
          "y1": 2.2199582658666444,
          "yref": "y"
         },
         {
          "fillcolor": "#0000FF",
          "line": {
           "width": 0
          },
          "type": "circle",
          "x0": 2.738603097716926,
          "x1": 2.788603097716926,
          "xref": "x",
          "y0": 1.6174604563980854,
          "y1": 1.6674604563980853,
          "yref": "y"
         },
         {
          "line": {
           "color": "RoyalBlue",
           "width": 1
          },
          "type": "line",
          "x0": 2.4405614254001766,
          "x1": 2.5161242655035676,
          "y0": 1.4989299575159056,
          "y1": 1.6964919393544173
         },
         {
          "line": {
           "color": "RoyalBlue",
           "width": 1
          },
          "type": "line",
          "x0": 2.5161242655035676,
          "x1": 2.7225367316487605,
          "y0": 1.6964919393544173,
          "y1": 1.6836762983293325
         },
         {
          "line": {
           "color": "RoyalBlue",
           "width": 1
          },
          "type": "line",
          "x0": 2.7225367316487605,
          "x1": 2.4405614254001766,
          "y0": 1.6836762983293325,
          "y1": 1.4989299575159056
         },
         {
          "line": {
           "color": "#AAAA00",
           "width": 2
          },
          "type": "circle",
          "x0": 2.385259614750123,
          "x1": 2.73422200028488,
          "xref": "x",
          "y0": 1.451884872299173,
          "y1": 1.8008472578339307,
          "yref": "y"
         },
         {
          "fillcolor": "#0000FF",
          "line": {
           "width": 0
          },
          "type": "circle",
          "x0": 2.5347408075175015,
          "x1": 2.5847408075175013,
          "xref": "x",
          "y0": 1.601366065066552,
          "y1": 1.6513660650665518,
          "yref": "y"
         },
         {
          "line": {
           "color": "RoyalBlue",
           "width": 1
          },
          "type": "line",
          "x0": 2.165522862768452,
          "x1": -0.10972155198490846,
          "y0": 1.023863349333836,
          "y1": 4.810867211259355
         },
         {
          "line": {
           "color": "RoyalBlue",
           "width": 1
          },
          "type": "line",
          "x0": -0.10972155198490846,
          "x1": 3.334123602247034,
          "y0": 4.810867211259355,
          "y1": 1.731959472323933
         },
         {
          "line": {
           "color": "RoyalBlue",
           "width": 1
          },
          "type": "line",
          "x0": 3.334123602247034,
          "x1": 2.165522862768452,
          "y0": 1.731959472323933,
          "y1": 1.023863349333836
         },
         {
          "line": {
           "color": "#AAAA00",
           "width": 2
          },
          "type": "circle",
          "x0": -1.1819622039635183,
          "x1": 4.7752454793172365,
          "xref": "x",
          "y0": -0.4563738306680025,
          "y1": 5.500833852612752,
          "yref": "y"
         },
         {
          "fillcolor": "#0000FF",
          "line": {
           "width": 0
          },
          "type": "circle",
          "x0": 1.7716416376768593,
          "x1": 1.8216416376768592,
          "xref": "x",
          "y0": 2.497230010972375,
          "y1": 2.547230010972375,
          "yref": "y"
         },
         {
          "line": {
           "color": "RoyalBlue",
           "width": 1
          },
          "type": "line",
          "x0": 2.165522862768452,
          "x1": -0.10972155198490846,
          "y0": 1.023863349333836,
          "y1": 4.810867211259355
         },
         {
          "line": {
           "color": "RoyalBlue",
           "width": 1
          },
          "type": "line",
          "x0": -0.10972155198490846,
          "x1": 2.7225367316487605,
          "y0": 4.810867211259355,
          "y1": 1.6836762983293325
         },
         {
          "line": {
           "color": "RoyalBlue",
           "width": 1
          },
          "type": "line",
          "x0": 2.7225367316487605,
          "x1": 2.165522862768452,
          "y0": 1.6836762983293325,
          "y1": 1.023863349333836
         },
         {
          "line": {
           "color": "#AAAA00",
           "width": 2
          },
          "type": "circle",
          "x0": -1.272582239142044,
          "x1": 4.458140934096914,
          "xref": "x",
          "y0": -0.35922596697863796,
          "y1": 5.37149720626032,
          "yref": "y"
         },
         {
          "fillcolor": "#0000FF",
          "line": {
           "width": 0
          },
          "type": "circle",
          "x0": 1.5677793474774349,
          "x1": 1.6177793474774347,
          "xref": "x",
          "y0": 2.481135619640841,
          "y1": 2.5311356196408408,
          "yref": "y"
         },
         {
          "line": {
           "color": "RoyalBlue",
           "width": 1
          },
          "type": "line",
          "x0": 2.165522862768452,
          "x1": 2.5161242655035676,
          "y0": 1.023863349333836,
          "y1": 1.6964919393544173
         },
         {
          "line": {
           "color": "RoyalBlue",
           "width": 1
          },
          "type": "line",
          "x0": 2.5161242655035676,
          "x1": 3.334123602247034,
          "y0": 1.6964919393544173,
          "y1": 1.731959472323933
         },
         {
          "line": {
           "color": "RoyalBlue",
           "width": 1
          },
          "type": "line",
          "x0": 3.334123602247034,
          "x1": 2.165522862768452,
          "y0": 1.731959472323933,
          "y1": 1.023863349333836
         },
         {
          "line": {
           "color": "#AAAA00",
           "width": 2
          },
          "type": "circle",
          "x0": 1.9648586911396932,
          "x1": 3.3789884625396756,
          "xref": "x",
          "y0": 0.777040034637404,
          "y1": 2.1911698060373865,
          "yref": "y"
         },
         {
          "fillcolor": "#0000FF",
          "line": {
           "width": 0
          },
          "type": "circle",
          "x0": 2.6469235768396846,
          "x1": 2.6969235768396844,
          "xref": "x",
          "y0": 1.4591049203373954,
          "y1": 1.5091049203373952,
          "yref": "y"
         },
         {
          "line": {
           "color": "RoyalBlue",
           "width": 1
          },
          "type": "line",
          "x0": 2.165522862768452,
          "x1": 2.5161242655035676,
          "y0": 1.023863349333836,
          "y1": 1.6964919393544173
         },
         {
          "line": {
           "color": "RoyalBlue",
           "width": 1
          },
          "type": "line",
          "x0": 2.5161242655035676,
          "x1": 2.7225367316487605,
          "y0": 1.6964919393544173,
          "y1": 1.6836762983293325
         },
         {
          "line": {
           "color": "RoyalBlue",
           "width": 1
          },
          "type": "line",
          "x0": 2.7225367316487605,
          "x1": 2.165522862768452,
          "y0": 1.6836762983293325,
          "y1": 1.023863349333836
         },
         {
          "line": {
           "color": "#AAAA00",
           "width": 2
          },
          "type": "circle",
          "x0": 1.9306636544074294,
          "x1": 3.0054589188730905,
          "xref": "x",
          "y0": 0.9306128967730314,
          "y1": 2.0054081612386927,
          "yref": "y"
         },
         {
          "fillcolor": "#0000FF",
          "line": {
           "width": 0
          },
          "type": "circle",
          "x0": 2.44306128664026,
          "x1": 2.49306128664026,
          "xref": "x",
          "y0": 1.4430105290058621,
          "y1": 1.493010529005862,
          "yref": "y"
         }
        ],
        "template": {
         "data": {
          "bar": [
           {
            "error_x": {
             "color": "#2a3f5f"
            },
            "error_y": {
             "color": "#2a3f5f"
            },
            "marker": {
             "line": {
              "color": "#E5ECF6",
              "width": 0.5
             }
            },
            "type": "bar"
           }
          ],
          "barpolar": [
           {
            "marker": {
             "line": {
              "color": "#E5ECF6",
              "width": 0.5
             }
            },
            "type": "barpolar"
           }
          ],
          "carpet": [
           {
            "aaxis": {
             "endlinecolor": "#2a3f5f",
             "gridcolor": "white",
             "linecolor": "white",
             "minorgridcolor": "white",
             "startlinecolor": "#2a3f5f"
            },
            "baxis": {
             "endlinecolor": "#2a3f5f",
             "gridcolor": "white",
             "linecolor": "white",
             "minorgridcolor": "white",
             "startlinecolor": "#2a3f5f"
            },
            "type": "carpet"
           }
          ],
          "choropleth": [
           {
            "colorbar": {
             "outlinewidth": 0,
             "ticks": ""
            },
            "type": "choropleth"
           }
          ],
          "contour": [
           {
            "colorbar": {
             "outlinewidth": 0,
             "ticks": ""
            },
            "colorscale": [
             [
              0,
              "#0d0887"
             ],
             [
              0.1111111111111111,
              "#46039f"
             ],
             [
              0.2222222222222222,
              "#7201a8"
             ],
             [
              0.3333333333333333,
              "#9c179e"
             ],
             [
              0.4444444444444444,
              "#bd3786"
             ],
             [
              0.5555555555555556,
              "#d8576b"
             ],
             [
              0.6666666666666666,
              "#ed7953"
             ],
             [
              0.7777777777777778,
              "#fb9f3a"
             ],
             [
              0.8888888888888888,
              "#fdca26"
             ],
             [
              1,
              "#f0f921"
             ]
            ],
            "type": "contour"
           }
          ],
          "contourcarpet": [
           {
            "colorbar": {
             "outlinewidth": 0,
             "ticks": ""
            },
            "type": "contourcarpet"
           }
          ],
          "heatmap": [
           {
            "colorbar": {
             "outlinewidth": 0,
             "ticks": ""
            },
            "colorscale": [
             [
              0,
              "#0d0887"
             ],
             [
              0.1111111111111111,
              "#46039f"
             ],
             [
              0.2222222222222222,
              "#7201a8"
             ],
             [
              0.3333333333333333,
              "#9c179e"
             ],
             [
              0.4444444444444444,
              "#bd3786"
             ],
             [
              0.5555555555555556,
              "#d8576b"
             ],
             [
              0.6666666666666666,
              "#ed7953"
             ],
             [
              0.7777777777777778,
              "#fb9f3a"
             ],
             [
              0.8888888888888888,
              "#fdca26"
             ],
             [
              1,
              "#f0f921"
             ]
            ],
            "type": "heatmap"
           }
          ],
          "heatmapgl": [
           {
            "colorbar": {
             "outlinewidth": 0,
             "ticks": ""
            },
            "colorscale": [
             [
              0,
              "#0d0887"
             ],
             [
              0.1111111111111111,
              "#46039f"
             ],
             [
              0.2222222222222222,
              "#7201a8"
             ],
             [
              0.3333333333333333,
              "#9c179e"
             ],
             [
              0.4444444444444444,
              "#bd3786"
             ],
             [
              0.5555555555555556,
              "#d8576b"
             ],
             [
              0.6666666666666666,
              "#ed7953"
             ],
             [
              0.7777777777777778,
              "#fb9f3a"
             ],
             [
              0.8888888888888888,
              "#fdca26"
             ],
             [
              1,
              "#f0f921"
             ]
            ],
            "type": "heatmapgl"
           }
          ],
          "histogram": [
           {
            "marker": {
             "colorbar": {
              "outlinewidth": 0,
              "ticks": ""
             }
            },
            "type": "histogram"
           }
          ],
          "histogram2d": [
           {
            "colorbar": {
             "outlinewidth": 0,
             "ticks": ""
            },
            "colorscale": [
             [
              0,
              "#0d0887"
             ],
             [
              0.1111111111111111,
              "#46039f"
             ],
             [
              0.2222222222222222,
              "#7201a8"
             ],
             [
              0.3333333333333333,
              "#9c179e"
             ],
             [
              0.4444444444444444,
              "#bd3786"
             ],
             [
              0.5555555555555556,
              "#d8576b"
             ],
             [
              0.6666666666666666,
              "#ed7953"
             ],
             [
              0.7777777777777778,
              "#fb9f3a"
             ],
             [
              0.8888888888888888,
              "#fdca26"
             ],
             [
              1,
              "#f0f921"
             ]
            ],
            "type": "histogram2d"
           }
          ],
          "histogram2dcontour": [
           {
            "colorbar": {
             "outlinewidth": 0,
             "ticks": ""
            },
            "colorscale": [
             [
              0,
              "#0d0887"
             ],
             [
              0.1111111111111111,
              "#46039f"
             ],
             [
              0.2222222222222222,
              "#7201a8"
             ],
             [
              0.3333333333333333,
              "#9c179e"
             ],
             [
              0.4444444444444444,
              "#bd3786"
             ],
             [
              0.5555555555555556,
              "#d8576b"
             ],
             [
              0.6666666666666666,
              "#ed7953"
             ],
             [
              0.7777777777777778,
              "#fb9f3a"
             ],
             [
              0.8888888888888888,
              "#fdca26"
             ],
             [
              1,
              "#f0f921"
             ]
            ],
            "type": "histogram2dcontour"
           }
          ],
          "mesh3d": [
           {
            "colorbar": {
             "outlinewidth": 0,
             "ticks": ""
            },
            "type": "mesh3d"
           }
          ],
          "parcoords": [
           {
            "line": {
             "colorbar": {
              "outlinewidth": 0,
              "ticks": ""
             }
            },
            "type": "parcoords"
           }
          ],
          "pie": [
           {
            "automargin": true,
            "type": "pie"
           }
          ],
          "scatter": [
           {
            "marker": {
             "colorbar": {
              "outlinewidth": 0,
              "ticks": ""
             }
            },
            "type": "scatter"
           }
          ],
          "scatter3d": [
           {
            "line": {
             "colorbar": {
              "outlinewidth": 0,
              "ticks": ""
             }
            },
            "marker": {
             "colorbar": {
              "outlinewidth": 0,
              "ticks": ""
             }
            },
            "type": "scatter3d"
           }
          ],
          "scattercarpet": [
           {
            "marker": {
             "colorbar": {
              "outlinewidth": 0,
              "ticks": ""
             }
            },
            "type": "scattercarpet"
           }
          ],
          "scattergeo": [
           {
            "marker": {
             "colorbar": {
              "outlinewidth": 0,
              "ticks": ""
             }
            },
            "type": "scattergeo"
           }
          ],
          "scattergl": [
           {
            "marker": {
             "colorbar": {
              "outlinewidth": 0,
              "ticks": ""
             }
            },
            "type": "scattergl"
           }
          ],
          "scattermapbox": [
           {
            "marker": {
             "colorbar": {
              "outlinewidth": 0,
              "ticks": ""
             }
            },
            "type": "scattermapbox"
           }
          ],
          "scatterpolar": [
           {
            "marker": {
             "colorbar": {
              "outlinewidth": 0,
              "ticks": ""
             }
            },
            "type": "scatterpolar"
           }
          ],
          "scatterpolargl": [
           {
            "marker": {
             "colorbar": {
              "outlinewidth": 0,
              "ticks": ""
             }
            },
            "type": "scatterpolargl"
           }
          ],
          "scatterternary": [
           {
            "marker": {
             "colorbar": {
              "outlinewidth": 0,
              "ticks": ""
             }
            },
            "type": "scatterternary"
           }
          ],
          "surface": [
           {
            "colorbar": {
             "outlinewidth": 0,
             "ticks": ""
            },
            "colorscale": [
             [
              0,
              "#0d0887"
             ],
             [
              0.1111111111111111,
              "#46039f"
             ],
             [
              0.2222222222222222,
              "#7201a8"
             ],
             [
              0.3333333333333333,
              "#9c179e"
             ],
             [
              0.4444444444444444,
              "#bd3786"
             ],
             [
              0.5555555555555556,
              "#d8576b"
             ],
             [
              0.6666666666666666,
              "#ed7953"
             ],
             [
              0.7777777777777778,
              "#fb9f3a"
             ],
             [
              0.8888888888888888,
              "#fdca26"
             ],
             [
              1,
              "#f0f921"
             ]
            ],
            "type": "surface"
           }
          ],
          "table": [
           {
            "cells": {
             "fill": {
              "color": "#EBF0F8"
             },
             "line": {
              "color": "white"
             }
            },
            "header": {
             "fill": {
              "color": "#C8D4E3"
             },
             "line": {
              "color": "white"
             }
            },
            "type": "table"
           }
          ]
         },
         "layout": {
          "annotationdefaults": {
           "arrowcolor": "#2a3f5f",
           "arrowhead": 0,
           "arrowwidth": 1
          },
          "coloraxis": {
           "colorbar": {
            "outlinewidth": 0,
            "ticks": ""
           }
          },
          "colorscale": {
           "diverging": [
            [
             0,
             "#8e0152"
            ],
            [
             0.1,
             "#c51b7d"
            ],
            [
             0.2,
             "#de77ae"
            ],
            [
             0.3,
             "#f1b6da"
            ],
            [
             0.4,
             "#fde0ef"
            ],
            [
             0.5,
             "#f7f7f7"
            ],
            [
             0.6,
             "#e6f5d0"
            ],
            [
             0.7,
             "#b8e186"
            ],
            [
             0.8,
             "#7fbc41"
            ],
            [
             0.9,
             "#4d9221"
            ],
            [
             1,
             "#276419"
            ]
           ],
           "sequential": [
            [
             0,
             "#0d0887"
            ],
            [
             0.1111111111111111,
             "#46039f"
            ],
            [
             0.2222222222222222,
             "#7201a8"
            ],
            [
             0.3333333333333333,
             "#9c179e"
            ],
            [
             0.4444444444444444,
             "#bd3786"
            ],
            [
             0.5555555555555556,
             "#d8576b"
            ],
            [
             0.6666666666666666,
             "#ed7953"
            ],
            [
             0.7777777777777778,
             "#fb9f3a"
            ],
            [
             0.8888888888888888,
             "#fdca26"
            ],
            [
             1,
             "#f0f921"
            ]
           ],
           "sequentialminus": [
            [
             0,
             "#0d0887"
            ],
            [
             0.1111111111111111,
             "#46039f"
            ],
            [
             0.2222222222222222,
             "#7201a8"
            ],
            [
             0.3333333333333333,
             "#9c179e"
            ],
            [
             0.4444444444444444,
             "#bd3786"
            ],
            [
             0.5555555555555556,
             "#d8576b"
            ],
            [
             0.6666666666666666,
             "#ed7953"
            ],
            [
             0.7777777777777778,
             "#fb9f3a"
            ],
            [
             0.8888888888888888,
             "#fdca26"
            ],
            [
             1,
             "#f0f921"
            ]
           ]
          },
          "colorway": [
           "#636efa",
           "#EF553B",
           "#00cc96",
           "#ab63fa",
           "#FFA15A",
           "#19d3f3",
           "#FF6692",
           "#B6E880",
           "#FF97FF",
           "#FECB52"
          ],
          "font": {
           "color": "#2a3f5f"
          },
          "geo": {
           "bgcolor": "white",
           "lakecolor": "white",
           "landcolor": "#E5ECF6",
           "showlakes": true,
           "showland": true,
           "subunitcolor": "white"
          },
          "hoverlabel": {
           "align": "left"
          },
          "hovermode": "closest",
          "mapbox": {
           "style": "light"
          },
          "paper_bgcolor": "white",
          "plot_bgcolor": "#E5ECF6",
          "polar": {
           "angularaxis": {
            "gridcolor": "white",
            "linecolor": "white",
            "ticks": ""
           },
           "bgcolor": "#E5ECF6",
           "radialaxis": {
            "gridcolor": "white",
            "linecolor": "white",
            "ticks": ""
           }
          },
          "scene": {
           "xaxis": {
            "backgroundcolor": "#E5ECF6",
            "gridcolor": "white",
            "gridwidth": 2,
            "linecolor": "white",
            "showbackground": true,
            "ticks": "",
            "zerolinecolor": "white"
           },
           "yaxis": {
            "backgroundcolor": "#E5ECF6",
            "gridcolor": "white",
            "gridwidth": 2,
            "linecolor": "white",
            "showbackground": true,
            "ticks": "",
            "zerolinecolor": "white"
           },
           "zaxis": {
            "backgroundcolor": "#E5ECF6",
            "gridcolor": "white",
            "gridwidth": 2,
            "linecolor": "white",
            "showbackground": true,
            "ticks": "",
            "zerolinecolor": "white"
           }
          },
          "shapedefaults": {
           "line": {
            "color": "#2a3f5f"
           }
          },
          "ternary": {
           "aaxis": {
            "gridcolor": "white",
            "linecolor": "white",
            "ticks": ""
           },
           "baxis": {
            "gridcolor": "white",
            "linecolor": "white",
            "ticks": ""
           },
           "bgcolor": "#E5ECF6",
           "caxis": {
            "gridcolor": "white",
            "linecolor": "white",
            "ticks": ""
           }
          },
          "title": {
           "x": 0.05
          },
          "xaxis": {
           "automargin": true,
           "gridcolor": "white",
           "linecolor": "white",
           "ticks": "",
           "title": {
            "standoff": 15
           },
           "zerolinecolor": "white",
           "zerolinewidth": 2
          },
          "yaxis": {
           "automargin": true,
           "gridcolor": "white",
           "linecolor": "white",
           "ticks": "",
           "title": {
            "standoff": 15
           },
           "zerolinecolor": "white",
           "zerolinewidth": 2
          }
         }
        },
        "width": 800,
        "xaxis": {
         "range": [
          -1,
          5
         ],
         "zeroline": false
        },
        "yaxis": {
         "range": [
          -1,
          5
         ]
        }
       }
      },
      "text/html": [
       "<div>\n",
       "        \n",
       "        \n",
       "            <div id=\"3e9e7364-02e3-4f08-923f-2db0a79eda11\" class=\"plotly-graph-div\" style=\"height:800px; width:800px;\"></div>\n",
       "            <script type=\"text/javascript\">\n",
       "                require([\"plotly\"], function(Plotly) {\n",
       "                    window.PLOTLYENV=window.PLOTLYENV || {};\n",
       "                    \n",
       "                if (document.getElementById(\"3e9e7364-02e3-4f08-923f-2db0a79eda11\")) {\n",
       "                    Plotly.newPlot(\n",
       "                        '3e9e7364-02e3-4f08-923f-2db0a79eda11',\n",
       "                        [{\"mode\": \"text\", \"text\": [\"aa:69\", \"a4:a8\", \"d9:ab\", \"95:51\"], \"type\": \"scatter\", \"x\": [0.25, 1.1, 2.8, 3.1], \"y\": [2.5500000000000003, 4.699999999999999, 4.699999999999999, 0.9]}],\n",
       "                        {\"height\": 800, \"shapes\": [{\"fillcolor\": \"#002200\", \"line\": {\"width\": 0}, \"type\": \"circle\", \"x0\": 0.2, \"x1\": 0.3, \"xref\": \"x\", \"y0\": 2.4000000000000004, \"y1\": 2.5, \"yref\": \"y\"}, {\"fillcolor\": \"#002200\", \"line\": {\"width\": 0}, \"type\": \"circle\", \"x0\": 1.05, \"x1\": 1.1500000000000001, \"xref\": \"x\", \"y0\": 4.55, \"y1\": 4.6499999999999995, \"yref\": \"y\"}, {\"fillcolor\": \"#002200\", \"line\": {\"width\": 0}, \"type\": \"circle\", \"x0\": 2.75, \"x1\": 2.8499999999999996, \"xref\": \"x\", \"y0\": 4.55, \"y1\": 4.6499999999999995, \"yref\": \"y\"}, {\"fillcolor\": \"#002200\", \"line\": {\"width\": 0}, \"type\": \"circle\", \"x0\": 3.0500000000000003, \"x1\": 3.15, \"xref\": \"x\", \"y0\": 0.75, \"y1\": 0.8500000000000001, \"yref\": \"y\"}, {\"line\": {\"color\": \"#AAAAFF\", \"width\": 1}, \"type\": \"rect\", \"x0\": 0, \"x1\": 3.4, \"xref\": \"x\", \"y0\": 0, \"y1\": 4.6, \"yref\": \"y\"}, {\"line\": {\"width\": 2}, \"type\": \"circle\", \"x0\": 2.1390825638050726, \"x1\": 4.060917436194928, \"xref\": \"x\", \"y0\": -0.1609174361949276, \"y1\": 1.7609174361949278, \"yref\": \"y\"}, {\"line\": {\"width\": 2}, \"type\": \"circle\", \"x0\": -2.1381150692883186, \"x1\": 2.6381150692883186, \"xref\": \"x\", \"y0\": 0.06188493071168155, \"y1\": 4.838115069288319, \"yref\": \"y\"}, {\"line\": {\"width\": 2}, \"type\": \"circle\", \"x0\": -0.11735230832166765, \"x1\": 5.717352308321667, \"xref\": \"x\", \"y0\": 1.6826476916783322, \"y1\": 7.517352308321668, \"yref\": \"y\"}, {\"fillcolor\": \"#AA0000\", \"line\": {\"width\": 0}, \"type\": \"circle\", \"x0\": 2.4005614254001766, \"x1\": 2.4805614254001767, \"xref\": \"x\", \"y0\": 1.4589299575159056, \"y1\": 1.5389299575159057, \"yref\": \"y\"}, {\"fillcolor\": \"#AA0000\", \"line\": {\"width\": 0}, \"type\": \"circle\", \"x0\": 2.125522862768452, \"x1\": 2.205522862768452, \"xref\": \"x\", \"y0\": 0.983863349333836, \"y1\": 1.063863349333836, \"yref\": \"y\"}, {\"fillcolor\": \"#AA0000\", \"line\": {\"width\": 0}, \"type\": \"circle\", \"x0\": -0.14972155198490847, \"x1\": -0.06972155198490845, \"xref\": \"x\", \"y0\": 4.770867211259355, \"y1\": 4.850867211259355, \"yref\": \"y\"}, {\"fillcolor\": \"#AA0000\", \"line\": {\"width\": 0}, \"type\": \"circle\", \"x0\": 2.4761242655035676, \"x1\": 2.5561242655035676, \"xref\": \"x\", \"y0\": 1.6564919393544173, \"y1\": 1.7364919393544174, \"yref\": \"y\"}, {\"fillcolor\": \"#AA0000\", \"line\": {\"width\": 0}, \"type\": \"circle\", \"x0\": 3.294123602247034, \"x1\": 3.374123602247034, \"xref\": \"x\", \"y0\": 1.691959472323933, \"y1\": 1.7719594723239331, \"yref\": \"y\"}, {\"fillcolor\": \"#AA0000\", \"line\": {\"width\": 0}, \"type\": \"circle\", \"x0\": 2.6825367316487605, \"x1\": 2.7625367316487606, \"xref\": \"x\", \"y0\": 1.6436762983293325, \"y1\": 1.7236762983293326, \"yref\": \"y\"}, {\"line\": {\"color\": \"RoyalBlue\", \"width\": 1}, \"type\": \"line\", \"x0\": 2.4405614254001766, \"x1\": -0.10972155198490846, \"y0\": 1.4989299575159056, \"y1\": 4.810867211259355}, {\"line\": {\"color\": \"RoyalBlue\", \"width\": 1}, \"type\": \"line\", \"x0\": -0.10972155198490846, \"x1\": 3.334123602247034, \"y0\": 4.810867211259355, \"y1\": 1.731959472323933}, {\"line\": {\"color\": \"RoyalBlue\", \"width\": 1}, \"type\": \"line\", \"x0\": 3.334123602247034, \"x1\": 2.4405614254001766, \"y0\": 1.731959472323933, \"y1\": 1.4989299575159056}, {\"line\": {\"color\": \"#AAAA00\", \"width\": 2}, \"type\": \"circle\", \"x0\": -1.0323422321975286, \"x1\": 4.80898454930573, \"xref\": \"x\", \"y0\": -0.2400778437185651, \"y1\": 5.601248937784694, \"yref\": \"y\"}, {\"fillcolor\": \"#0000FF\", \"line\": {\"width\": 0}, \"type\": \"circle\", \"x0\": 1.863321158554101, \"x1\": 1.9133211585541008, \"xref\": \"x\", \"y0\": 2.6555855470330645, \"y1\": 2.7055855470330643, \"yref\": \"y\"}, {\"line\": {\"color\": \"RoyalBlue\", \"width\": 1}, \"type\": \"line\", \"x0\": 2.4405614254001766, \"x1\": -0.10972155198490846, \"y0\": 1.4989299575159056, \"y1\": 4.810867211259355}, {\"line\": {\"color\": \"RoyalBlue\", \"width\": 1}, \"type\": \"line\", \"x0\": -0.10972155198490846, \"x1\": 2.7225367316487605, \"y0\": 4.810867211259355, \"y1\": 1.6836762983293325}, {\"line\": {\"color\": \"RoyalBlue\", \"width\": 1}, \"type\": \"line\", \"x0\": 2.7225367316487605, \"x1\": 2.4405614254001766, \"y0\": 1.6836762983293325, \"y1\": 1.4989299575159056}, {\"line\": {\"color\": \"#AAAA00\", \"width\": 2}, \"type\": \"circle\", \"x0\": -1.1130424368464293, \"x1\": 4.481960173555782, \"xref\": \"x\", \"y0\": -0.13301014949957457, \"y1\": 5.461992460902637, \"yref\": \"y\"}, {\"fillcolor\": \"#0000FF\", \"line\": {\"width\": 0}, \"type\": \"circle\", \"x0\": 1.6594588683546765, \"x1\": 1.7094588683546763, \"xref\": \"x\", \"y0\": 2.6394911557015313, \"y1\": 2.689491155701531, \"yref\": \"y\"}, {\"line\": {\"color\": \"RoyalBlue\", \"width\": 1}, \"type\": \"line\", \"x0\": 2.4405614254001766, \"x1\": 2.5161242655035676, \"y0\": 1.4989299575159056, \"y1\": 1.6964919393544173}, {\"line\": {\"color\": \"RoyalBlue\", \"width\": 1}, \"type\": \"line\", \"x0\": 2.5161242655035676, \"x1\": 3.334123602247034, \"y0\": 1.6964919393544173, \"y1\": 1.731959472323933}, {\"line\": {\"color\": \"RoyalBlue\", \"width\": 1}, \"type\": \"line\", \"x0\": 3.334123602247034, \"x1\": 2.4405614254001766, \"y0\": 1.731959472323933, \"y1\": 1.4989299575159056}, {\"line\": {\"color\": \"#AAAA00\", \"width\": 2}, \"type\": \"circle\", \"x0\": 2.186105288248367, \"x1\": 3.341100907185485, \"xref\": \"x\", \"y0\": 1.0649626469295264, \"y1\": 2.2199582658666444, \"yref\": \"y\"}, {\"fillcolor\": \"#0000FF\", \"line\": {\"width\": 0}, \"type\": \"circle\", \"x0\": 2.738603097716926, \"x1\": 2.788603097716926, \"xref\": \"x\", \"y0\": 1.6174604563980854, \"y1\": 1.6674604563980853, \"yref\": \"y\"}, {\"line\": {\"color\": \"RoyalBlue\", \"width\": 1}, \"type\": \"line\", \"x0\": 2.4405614254001766, \"x1\": 2.5161242655035676, \"y0\": 1.4989299575159056, \"y1\": 1.6964919393544173}, {\"line\": {\"color\": \"RoyalBlue\", \"width\": 1}, \"type\": \"line\", \"x0\": 2.5161242655035676, \"x1\": 2.7225367316487605, \"y0\": 1.6964919393544173, \"y1\": 1.6836762983293325}, {\"line\": {\"color\": \"RoyalBlue\", \"width\": 1}, \"type\": \"line\", \"x0\": 2.7225367316487605, \"x1\": 2.4405614254001766, \"y0\": 1.6836762983293325, \"y1\": 1.4989299575159056}, {\"line\": {\"color\": \"#AAAA00\", \"width\": 2}, \"type\": \"circle\", \"x0\": 2.385259614750123, \"x1\": 2.73422200028488, \"xref\": \"x\", \"y0\": 1.451884872299173, \"y1\": 1.8008472578339307, \"yref\": \"y\"}, {\"fillcolor\": \"#0000FF\", \"line\": {\"width\": 0}, \"type\": \"circle\", \"x0\": 2.5347408075175015, \"x1\": 2.5847408075175013, \"xref\": \"x\", \"y0\": 1.601366065066552, \"y1\": 1.6513660650665518, \"yref\": \"y\"}, {\"line\": {\"color\": \"RoyalBlue\", \"width\": 1}, \"type\": \"line\", \"x0\": 2.165522862768452, \"x1\": -0.10972155198490846, \"y0\": 1.023863349333836, \"y1\": 4.810867211259355}, {\"line\": {\"color\": \"RoyalBlue\", \"width\": 1}, \"type\": \"line\", \"x0\": -0.10972155198490846, \"x1\": 3.334123602247034, \"y0\": 4.810867211259355, \"y1\": 1.731959472323933}, {\"line\": {\"color\": \"RoyalBlue\", \"width\": 1}, \"type\": \"line\", \"x0\": 3.334123602247034, \"x1\": 2.165522862768452, \"y0\": 1.731959472323933, \"y1\": 1.023863349333836}, {\"line\": {\"color\": \"#AAAA00\", \"width\": 2}, \"type\": \"circle\", \"x0\": -1.1819622039635183, \"x1\": 4.7752454793172365, \"xref\": \"x\", \"y0\": -0.4563738306680025, \"y1\": 5.500833852612752, \"yref\": \"y\"}, {\"fillcolor\": \"#0000FF\", \"line\": {\"width\": 0}, \"type\": \"circle\", \"x0\": 1.7716416376768593, \"x1\": 1.8216416376768592, \"xref\": \"x\", \"y0\": 2.497230010972375, \"y1\": 2.547230010972375, \"yref\": \"y\"}, {\"line\": {\"color\": \"RoyalBlue\", \"width\": 1}, \"type\": \"line\", \"x0\": 2.165522862768452, \"x1\": -0.10972155198490846, \"y0\": 1.023863349333836, \"y1\": 4.810867211259355}, {\"line\": {\"color\": \"RoyalBlue\", \"width\": 1}, \"type\": \"line\", \"x0\": -0.10972155198490846, \"x1\": 2.7225367316487605, \"y0\": 4.810867211259355, \"y1\": 1.6836762983293325}, {\"line\": {\"color\": \"RoyalBlue\", \"width\": 1}, \"type\": \"line\", \"x0\": 2.7225367316487605, \"x1\": 2.165522862768452, \"y0\": 1.6836762983293325, \"y1\": 1.023863349333836}, {\"line\": {\"color\": \"#AAAA00\", \"width\": 2}, \"type\": \"circle\", \"x0\": -1.272582239142044, \"x1\": 4.458140934096914, \"xref\": \"x\", \"y0\": -0.35922596697863796, \"y1\": 5.37149720626032, \"yref\": \"y\"}, {\"fillcolor\": \"#0000FF\", \"line\": {\"width\": 0}, \"type\": \"circle\", \"x0\": 1.5677793474774349, \"x1\": 1.6177793474774347, \"xref\": \"x\", \"y0\": 2.481135619640841, \"y1\": 2.5311356196408408, \"yref\": \"y\"}, {\"line\": {\"color\": \"RoyalBlue\", \"width\": 1}, \"type\": \"line\", \"x0\": 2.165522862768452, \"x1\": 2.5161242655035676, \"y0\": 1.023863349333836, \"y1\": 1.6964919393544173}, {\"line\": {\"color\": \"RoyalBlue\", \"width\": 1}, \"type\": \"line\", \"x0\": 2.5161242655035676, \"x1\": 3.334123602247034, \"y0\": 1.6964919393544173, \"y1\": 1.731959472323933}, {\"line\": {\"color\": \"RoyalBlue\", \"width\": 1}, \"type\": \"line\", \"x0\": 3.334123602247034, \"x1\": 2.165522862768452, \"y0\": 1.731959472323933, \"y1\": 1.023863349333836}, {\"line\": {\"color\": \"#AAAA00\", \"width\": 2}, \"type\": \"circle\", \"x0\": 1.9648586911396932, \"x1\": 3.3789884625396756, \"xref\": \"x\", \"y0\": 0.777040034637404, \"y1\": 2.1911698060373865, \"yref\": \"y\"}, {\"fillcolor\": \"#0000FF\", \"line\": {\"width\": 0}, \"type\": \"circle\", \"x0\": 2.6469235768396846, \"x1\": 2.6969235768396844, \"xref\": \"x\", \"y0\": 1.4591049203373954, \"y1\": 1.5091049203373952, \"yref\": \"y\"}, {\"line\": {\"color\": \"RoyalBlue\", \"width\": 1}, \"type\": \"line\", \"x0\": 2.165522862768452, \"x1\": 2.5161242655035676, \"y0\": 1.023863349333836, \"y1\": 1.6964919393544173}, {\"line\": {\"color\": \"RoyalBlue\", \"width\": 1}, \"type\": \"line\", \"x0\": 2.5161242655035676, \"x1\": 2.7225367316487605, \"y0\": 1.6964919393544173, \"y1\": 1.6836762983293325}, {\"line\": {\"color\": \"RoyalBlue\", \"width\": 1}, \"type\": \"line\", \"x0\": 2.7225367316487605, \"x1\": 2.165522862768452, \"y0\": 1.6836762983293325, \"y1\": 1.023863349333836}, {\"line\": {\"color\": \"#AAAA00\", \"width\": 2}, \"type\": \"circle\", \"x0\": 1.9306636544074294, \"x1\": 3.0054589188730905, \"xref\": \"x\", \"y0\": 0.9306128967730314, \"y1\": 2.0054081612386927, \"yref\": \"y\"}, {\"fillcolor\": \"#0000FF\", \"line\": {\"width\": 0}, \"type\": \"circle\", \"x0\": 2.44306128664026, \"x1\": 2.49306128664026, \"xref\": \"x\", \"y0\": 1.4430105290058621, \"y1\": 1.493010529005862, \"yref\": \"y\"}], \"template\": {\"data\": {\"bar\": [{\"error_x\": {\"color\": \"#2a3f5f\"}, \"error_y\": {\"color\": \"#2a3f5f\"}, \"marker\": {\"line\": {\"color\": \"#E5ECF6\", \"width\": 0.5}}, \"type\": \"bar\"}], \"barpolar\": [{\"marker\": {\"line\": {\"color\": \"#E5ECF6\", \"width\": 0.5}}, \"type\": \"barpolar\"}], \"carpet\": [{\"aaxis\": {\"endlinecolor\": \"#2a3f5f\", \"gridcolor\": \"white\", \"linecolor\": \"white\", \"minorgridcolor\": \"white\", \"startlinecolor\": \"#2a3f5f\"}, \"baxis\": {\"endlinecolor\": \"#2a3f5f\", \"gridcolor\": \"white\", \"linecolor\": \"white\", \"minorgridcolor\": \"white\", \"startlinecolor\": \"#2a3f5f\"}, \"type\": \"carpet\"}], \"choropleth\": [{\"colorbar\": {\"outlinewidth\": 0, \"ticks\": \"\"}, \"type\": \"choropleth\"}], \"contour\": [{\"colorbar\": {\"outlinewidth\": 0, \"ticks\": \"\"}, \"colorscale\": [[0.0, \"#0d0887\"], [0.1111111111111111, \"#46039f\"], [0.2222222222222222, \"#7201a8\"], [0.3333333333333333, \"#9c179e\"], [0.4444444444444444, \"#bd3786\"], [0.5555555555555556, \"#d8576b\"], [0.6666666666666666, \"#ed7953\"], [0.7777777777777778, \"#fb9f3a\"], [0.8888888888888888, \"#fdca26\"], [1.0, \"#f0f921\"]], \"type\": \"contour\"}], \"contourcarpet\": [{\"colorbar\": {\"outlinewidth\": 0, \"ticks\": \"\"}, \"type\": \"contourcarpet\"}], \"heatmap\": [{\"colorbar\": {\"outlinewidth\": 0, \"ticks\": \"\"}, \"colorscale\": [[0.0, \"#0d0887\"], [0.1111111111111111, \"#46039f\"], [0.2222222222222222, \"#7201a8\"], [0.3333333333333333, \"#9c179e\"], [0.4444444444444444, \"#bd3786\"], [0.5555555555555556, \"#d8576b\"], [0.6666666666666666, \"#ed7953\"], [0.7777777777777778, \"#fb9f3a\"], [0.8888888888888888, \"#fdca26\"], [1.0, \"#f0f921\"]], \"type\": \"heatmap\"}], \"heatmapgl\": [{\"colorbar\": {\"outlinewidth\": 0, \"ticks\": \"\"}, \"colorscale\": [[0.0, \"#0d0887\"], [0.1111111111111111, \"#46039f\"], [0.2222222222222222, \"#7201a8\"], [0.3333333333333333, \"#9c179e\"], [0.4444444444444444, \"#bd3786\"], [0.5555555555555556, \"#d8576b\"], [0.6666666666666666, \"#ed7953\"], [0.7777777777777778, \"#fb9f3a\"], [0.8888888888888888, \"#fdca26\"], [1.0, \"#f0f921\"]], \"type\": \"heatmapgl\"}], \"histogram\": [{\"marker\": {\"colorbar\": {\"outlinewidth\": 0, \"ticks\": \"\"}}, \"type\": \"histogram\"}], \"histogram2d\": [{\"colorbar\": {\"outlinewidth\": 0, \"ticks\": \"\"}, \"colorscale\": [[0.0, \"#0d0887\"], [0.1111111111111111, \"#46039f\"], [0.2222222222222222, \"#7201a8\"], [0.3333333333333333, \"#9c179e\"], [0.4444444444444444, \"#bd3786\"], [0.5555555555555556, \"#d8576b\"], [0.6666666666666666, \"#ed7953\"], [0.7777777777777778, \"#fb9f3a\"], [0.8888888888888888, \"#fdca26\"], [1.0, \"#f0f921\"]], \"type\": \"histogram2d\"}], \"histogram2dcontour\": [{\"colorbar\": {\"outlinewidth\": 0, \"ticks\": \"\"}, \"colorscale\": [[0.0, \"#0d0887\"], [0.1111111111111111, \"#46039f\"], [0.2222222222222222, \"#7201a8\"], [0.3333333333333333, \"#9c179e\"], [0.4444444444444444, \"#bd3786\"], [0.5555555555555556, \"#d8576b\"], [0.6666666666666666, \"#ed7953\"], [0.7777777777777778, \"#fb9f3a\"], [0.8888888888888888, \"#fdca26\"], [1.0, \"#f0f921\"]], \"type\": \"histogram2dcontour\"}], \"mesh3d\": [{\"colorbar\": {\"outlinewidth\": 0, \"ticks\": \"\"}, \"type\": \"mesh3d\"}], \"parcoords\": [{\"line\": {\"colorbar\": {\"outlinewidth\": 0, \"ticks\": \"\"}}, \"type\": \"parcoords\"}], \"pie\": [{\"automargin\": true, \"type\": \"pie\"}], \"scatter\": [{\"marker\": {\"colorbar\": {\"outlinewidth\": 0, \"ticks\": \"\"}}, \"type\": \"scatter\"}], \"scatter3d\": [{\"line\": {\"colorbar\": {\"outlinewidth\": 0, \"ticks\": \"\"}}, \"marker\": {\"colorbar\": {\"outlinewidth\": 0, \"ticks\": \"\"}}, \"type\": \"scatter3d\"}], \"scattercarpet\": [{\"marker\": {\"colorbar\": {\"outlinewidth\": 0, \"ticks\": \"\"}}, \"type\": \"scattercarpet\"}], \"scattergeo\": [{\"marker\": {\"colorbar\": {\"outlinewidth\": 0, \"ticks\": \"\"}}, \"type\": \"scattergeo\"}], \"scattergl\": [{\"marker\": {\"colorbar\": {\"outlinewidth\": 0, \"ticks\": \"\"}}, \"type\": \"scattergl\"}], \"scattermapbox\": [{\"marker\": {\"colorbar\": {\"outlinewidth\": 0, \"ticks\": \"\"}}, \"type\": \"scattermapbox\"}], \"scatterpolar\": [{\"marker\": {\"colorbar\": {\"outlinewidth\": 0, \"ticks\": \"\"}}, \"type\": \"scatterpolar\"}], \"scatterpolargl\": [{\"marker\": {\"colorbar\": {\"outlinewidth\": 0, \"ticks\": \"\"}}, \"type\": \"scatterpolargl\"}], \"scatterternary\": [{\"marker\": {\"colorbar\": {\"outlinewidth\": 0, \"ticks\": \"\"}}, \"type\": \"scatterternary\"}], \"surface\": [{\"colorbar\": {\"outlinewidth\": 0, \"ticks\": \"\"}, \"colorscale\": [[0.0, \"#0d0887\"], [0.1111111111111111, \"#46039f\"], [0.2222222222222222, \"#7201a8\"], [0.3333333333333333, \"#9c179e\"], [0.4444444444444444, \"#bd3786\"], [0.5555555555555556, \"#d8576b\"], [0.6666666666666666, \"#ed7953\"], [0.7777777777777778, \"#fb9f3a\"], [0.8888888888888888, \"#fdca26\"], [1.0, \"#f0f921\"]], \"type\": \"surface\"}], \"table\": [{\"cells\": {\"fill\": {\"color\": \"#EBF0F8\"}, \"line\": {\"color\": \"white\"}}, \"header\": {\"fill\": {\"color\": \"#C8D4E3\"}, \"line\": {\"color\": \"white\"}}, \"type\": \"table\"}]}, \"layout\": {\"annotationdefaults\": {\"arrowcolor\": \"#2a3f5f\", \"arrowhead\": 0, \"arrowwidth\": 1}, \"coloraxis\": {\"colorbar\": {\"outlinewidth\": 0, \"ticks\": \"\"}}, \"colorscale\": {\"diverging\": [[0, \"#8e0152\"], [0.1, \"#c51b7d\"], [0.2, \"#de77ae\"], [0.3, \"#f1b6da\"], [0.4, \"#fde0ef\"], [0.5, \"#f7f7f7\"], [0.6, \"#e6f5d0\"], [0.7, \"#b8e186\"], [0.8, \"#7fbc41\"], [0.9, \"#4d9221\"], [1, \"#276419\"]], \"sequential\": [[0.0, \"#0d0887\"], [0.1111111111111111, \"#46039f\"], [0.2222222222222222, \"#7201a8\"], [0.3333333333333333, \"#9c179e\"], [0.4444444444444444, \"#bd3786\"], [0.5555555555555556, \"#d8576b\"], [0.6666666666666666, \"#ed7953\"], [0.7777777777777778, \"#fb9f3a\"], [0.8888888888888888, \"#fdca26\"], [1.0, \"#f0f921\"]], \"sequentialminus\": [[0.0, \"#0d0887\"], [0.1111111111111111, \"#46039f\"], [0.2222222222222222, \"#7201a8\"], [0.3333333333333333, \"#9c179e\"], [0.4444444444444444, \"#bd3786\"], [0.5555555555555556, \"#d8576b\"], [0.6666666666666666, \"#ed7953\"], [0.7777777777777778, \"#fb9f3a\"], [0.8888888888888888, \"#fdca26\"], [1.0, \"#f0f921\"]]}, \"colorway\": [\"#636efa\", \"#EF553B\", \"#00cc96\", \"#ab63fa\", \"#FFA15A\", \"#19d3f3\", \"#FF6692\", \"#B6E880\", \"#FF97FF\", \"#FECB52\"], \"font\": {\"color\": \"#2a3f5f\"}, \"geo\": {\"bgcolor\": \"white\", \"lakecolor\": \"white\", \"landcolor\": \"#E5ECF6\", \"showlakes\": true, \"showland\": true, \"subunitcolor\": \"white\"}, \"hoverlabel\": {\"align\": \"left\"}, \"hovermode\": \"closest\", \"mapbox\": {\"style\": \"light\"}, \"paper_bgcolor\": \"white\", \"plot_bgcolor\": \"#E5ECF6\", \"polar\": {\"angularaxis\": {\"gridcolor\": \"white\", \"linecolor\": \"white\", \"ticks\": \"\"}, \"bgcolor\": \"#E5ECF6\", \"radialaxis\": {\"gridcolor\": \"white\", \"linecolor\": \"white\", \"ticks\": \"\"}}, \"scene\": {\"xaxis\": {\"backgroundcolor\": \"#E5ECF6\", \"gridcolor\": \"white\", \"gridwidth\": 2, \"linecolor\": \"white\", \"showbackground\": true, \"ticks\": \"\", \"zerolinecolor\": \"white\"}, \"yaxis\": {\"backgroundcolor\": \"#E5ECF6\", \"gridcolor\": \"white\", \"gridwidth\": 2, \"linecolor\": \"white\", \"showbackground\": true, \"ticks\": \"\", \"zerolinecolor\": \"white\"}, \"zaxis\": {\"backgroundcolor\": \"#E5ECF6\", \"gridcolor\": \"white\", \"gridwidth\": 2, \"linecolor\": \"white\", \"showbackground\": true, \"ticks\": \"\", \"zerolinecolor\": \"white\"}}, \"shapedefaults\": {\"line\": {\"color\": \"#2a3f5f\"}}, \"ternary\": {\"aaxis\": {\"gridcolor\": \"white\", \"linecolor\": \"white\", \"ticks\": \"\"}, \"baxis\": {\"gridcolor\": \"white\", \"linecolor\": \"white\", \"ticks\": \"\"}, \"bgcolor\": \"#E5ECF6\", \"caxis\": {\"gridcolor\": \"white\", \"linecolor\": \"white\", \"ticks\": \"\"}}, \"title\": {\"x\": 0.05}, \"xaxis\": {\"automargin\": true, \"gridcolor\": \"white\", \"linecolor\": \"white\", \"ticks\": \"\", \"title\": {\"standoff\": 15}, \"zerolinecolor\": \"white\", \"zerolinewidth\": 2}, \"yaxis\": {\"automargin\": true, \"gridcolor\": \"white\", \"linecolor\": \"white\", \"ticks\": \"\", \"title\": {\"standoff\": 15}, \"zerolinecolor\": \"white\", \"zerolinewidth\": 2}}}, \"width\": 800, \"xaxis\": {\"range\": [-1, 5], \"zeroline\": false}, \"yaxis\": {\"range\": [-1, 5]}},\n",
       "                        {\"responsive\": true}\n",
       "                    ).then(function(){\n",
       "                            \n",
       "var gd = document.getElementById('3e9e7364-02e3-4f08-923f-2db0a79eda11');\n",
       "var x = new MutationObserver(function (mutations, observer) {{\n",
       "        var display = window.getComputedStyle(gd).display;\n",
       "        if (!display || display === 'none') {{\n",
       "            console.log([gd, 'removed!']);\n",
       "            Plotly.purge(gd);\n",
       "            observer.disconnect();\n",
       "        }}\n",
       "}});\n",
       "\n",
       "// Listen for the removal of the full notebook cells\n",
       "var notebookContainer = gd.closest('#notebook-container');\n",
       "if (notebookContainer) {{\n",
       "    x.observe(notebookContainer, {childList: true});\n",
       "}}\n",
       "\n",
       "// Listen for the clearing of the current output cell\n",
       "var outputEl = gd.closest('.output');\n",
       "if (outputEl) {{\n",
       "    x.observe(outputEl, {childList: true});\n",
       "}}\n",
       "\n",
       "                        })\n",
       "                };\n",
       "                });\n",
       "            </script>\n",
       "        </div>"
      ]
     },
     "metadata": {},
     "output_type": "display_data"
    }
   ],
   "source": [
    "%run trilateration_sandbox"
   ]
  },
  {
   "cell_type": "code",
   "execution_count": null,
   "metadata": {},
   "outputs": [],
   "source": []
  }
 ],
 "metadata": {
  "kernelspec": {
   "display_name": "Python 3",
   "language": "python",
   "name": "python3"
  },
  "language_info": {
   "codemirror_mode": {
    "name": "ipython",
    "version": 3
   },
   "file_extension": ".py",
   "mimetype": "text/x-python",
   "name": "python",
   "nbconvert_exporter": "python",
   "pygments_lexer": "ipython3",
   "version": "3.7.3"
  }
 },
 "nbformat": 4,
 "nbformat_minor": 2
}
