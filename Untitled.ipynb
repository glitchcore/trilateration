{
 "cells": [
  {
   "cell_type": "code",
   "execution_count": 33,
   "metadata": {},
   "outputs": [
    {
     "name": "stdout",
     "output_type": "stream",
     "text": [
      "[{'x': 0.25, 'y': 2.45, 'r': 2.3881150692883186, 'var': 0.519218936149161}, {'x': 1.1, 'y': 4.6, 'r': 1.3612251515424445, 'var': 0.37249832287395557}, {'x': 2.8, 'y': 4.6, 'r': 2.9173523083216675, 'var': 0.8262782576331973}, {'x': 3.1, 'y': 0.8, 'r': 0.9609174361949276, 'var': 0.39501995522861516}]\n"
     ]
    },
    {
     "data": {
      "application/vnd.plotly.v1+json": {
       "config": {
        "plotlyServerURL": "https://plot.ly"
       },
       "data": [
        {
         "mode": "text",
         "text": [
          "aa:69",
          "a4:a8",
          "d9:ab",
          "95:51"
         ],
         "type": "scatter",
         "x": [
          0.25,
          1.1,
          2.8,
          3.1
         ],
         "y": [
          2.5500000000000003,
          4.699999999999999,
          4.699999999999999,
          0.9
         ]
        }
       ],
       "layout": {
        "height": 800,
        "shapes": [
         {
          "fillcolor": "#002200",
          "line": {
           "width": 0
          },
          "type": "circle",
          "x0": 0.2,
          "x1": 0.3,
          "xref": "x",
          "y0": 2.4000000000000004,
          "y1": 2.5,
          "yref": "y"
         },
         {
          "fillcolor": "#002200",
          "line": {
           "width": 0
          },
          "type": "circle",
          "x0": 1.05,
          "x1": 1.1500000000000001,
          "xref": "x",
          "y0": 4.55,
          "y1": 4.6499999999999995,
          "yref": "y"
         },
         {
          "fillcolor": "#002200",
          "line": {
           "width": 0
          },
          "type": "circle",
          "x0": 2.75,
          "x1": 2.8499999999999996,
          "xref": "x",
          "y0": 4.55,
          "y1": 4.6499999999999995,
          "yref": "y"
         },
         {
          "fillcolor": "#002200",
          "line": {
           "width": 0
          },
          "type": "circle",
          "x0": 3.0500000000000003,
          "x1": 3.15,
          "xref": "x",
          "y0": 0.75,
          "y1": 0.8500000000000001,
          "yref": "y"
         },
         {
          "line": {
           "color": "#AAAAFF",
           "width": 1
          },
          "type": "rect",
          "x0": 0,
          "x1": 3.4,
          "xref": "x",
          "y0": 0,
          "y1": 4.6,
          "yref": "y"
         },
         {
          "line": {
           "color": "rgba(127, 127, 127, 0.1)",
           "width": 74.49966457479111
          },
          "type": "circle",
          "x0": -0.2612251515424444,
          "x1": 2.4612251515424446,
          "xref": "x",
          "y0": 3.238774848457555,
          "y1": 5.961225151542444,
          "yref": "y"
         },
         {
          "line": {
           "width": 2
          },
          "type": "circle",
          "x0": -0.2612251515424444,
          "x1": 2.4612251515424446,
          "xref": "x",
          "y0": 3.238774848457555,
          "y1": 5.961225151542444,
          "yref": "y"
         },
         {
          "line": {
           "color": "rgba(127, 127, 127, 0.1)",
           "width": 165.25565152663947
          },
          "type": "circle",
          "x0": -0.11735230832166765,
          "x1": 5.717352308321667,
          "xref": "x",
          "y0": 1.6826476916783322,
          "y1": 7.517352308321668,
          "yref": "y"
         },
         {
          "line": {
           "width": 2
          },
          "type": "circle",
          "x0": -0.11735230832166765,
          "x1": 5.717352308321667,
          "xref": "x",
          "y0": 1.6826476916783322,
          "y1": 7.517352308321668,
          "yref": "y"
         },
         {
          "line": {
           "color": "rgba(127, 127, 127, 0.1)",
           "width": 79.00399104572303
          },
          "type": "circle",
          "x0": 2.1390825638050726,
          "x1": 4.060917436194928,
          "xref": "x",
          "y0": -0.1609174361949276,
          "y1": 1.7609174361949278,
          "yref": "y"
         },
         {
          "line": {
           "width": 2
          },
          "type": "circle",
          "x0": 2.1390825638050726,
          "x1": 4.060917436194928,
          "xref": "x",
          "y0": -0.1609174361949276,
          "y1": 1.7609174361949278,
          "yref": "y"
         },
         {
          "fillcolor": "#0000FF",
          "line": {
           "width": 0
          },
          "type": "circle",
          "x0": 1.8410908071472136,
          "x1": 1.8910908071472134,
          "xref": "x",
          "y0": 3.1399432287522835,
          "y1": 3.1899432287522833,
          "yref": "y"
         },
         {
          "fillcolor": "#0000FF",
          "line": {
           "width": 0
          },
          "type": "circle",
          "x0": 1.6372285169478824,
          "x1": 1.6872285169478822,
          "xref": "x",
          "y0": 3.123848837420758,
          "y1": 3.1738488374207576,
          "yref": "y"
         },
         {
          "fillcolor": "#0000FF",
          "line": {
           "width": 0
          },
          "type": "circle",
          "x0": 1.8410908071472136,
          "x1": 1.8910908071472134,
          "xref": "x",
          "y0": 2.6130059352310617,
          "y1": 2.6630059352310615,
          "yref": "y"
         },
         {
          "fillcolor": "#0000FF",
          "line": {
           "width": 0
          },
          "type": "circle",
          "x0": 1.6372285169478824,
          "x1": 1.6872285169478822,
          "xref": "x",
          "y0": 2.5969115438995356,
          "y1": 2.6469115438995354,
          "yref": "y"
         },
         {
          "line": {
           "color": "#FF9999",
           "width": 3
          },
          "type": "circle",
          "x0": -1.2937789454632778,
          "x1": 4.618235979359042,
          "xref": "x",
          "y0": -0.33409591851162457,
          "y1": 5.577919006310696,
          "yref": "y"
         },
         {
          "fillcolor": "#FF9999",
          "line": {
           "width": 0
          },
          "type": "circle",
          "x0": 1.6372285169478824,
          "x1": 1.6872285169478822,
          "xref": "x",
          "y0": 2.5969115438995356,
          "y1": 2.6469115438995354,
          "yref": "y"
         },
         {
          "line": {
           "color": "rgba(127, 127, 127, 0.1)",
           "width": 103.8437872298322
          },
          "type": "circle",
          "x0": -2.1381150692883186,
          "x1": 2.6381150692883186,
          "xref": "x",
          "y0": 0.06188493071168155,
          "y1": 4.838115069288319,
          "yref": "y"
         },
         {
          "line": {
           "width": 2
          },
          "type": "circle",
          "x0": -2.1381150692883186,
          "x1": 2.6381150692883186,
          "xref": "x",
          "y0": 0.06188493071168155,
          "y1": 4.838115069288319,
          "yref": "y"
         },
         {
          "line": {
           "color": "rgba(127, 127, 127, 0.1)",
           "width": 165.25565152663947
          },
          "type": "circle",
          "x0": -0.11735230832166765,
          "x1": 5.717352308321667,
          "xref": "x",
          "y0": 1.6826476916783322,
          "y1": 7.517352308321668,
          "yref": "y"
         },
         {
          "line": {
           "width": 2
          },
          "type": "circle",
          "x0": -0.11735230832166765,
          "x1": 5.717352308321667,
          "xref": "x",
          "y0": 1.6826476916783322,
          "y1": 7.517352308321668,
          "yref": "y"
         },
         {
          "line": {
           "color": "rgba(127, 127, 127, 0.1)",
           "width": 79.00399104572303
          },
          "type": "circle",
          "x0": 2.1390825638050726,
          "x1": 4.060917436194928,
          "xref": "x",
          "y0": -0.1609174361949276,
          "y1": 1.7609174361949278,
          "yref": "y"
         },
         {
          "line": {
           "width": 2
          },
          "type": "circle",
          "x0": 2.1390825638050726,
          "x1": 4.060917436194928,
          "xref": "x",
          "y0": -0.1609174361949276,
          "y1": 1.7609174361949278,
          "yref": "y"
         },
         {
          "fillcolor": "#0000FF",
          "line": {
           "width": 0
          },
          "type": "circle",
          "x0": 1.8633211585540548,
          "x1": 1.9133211585540546,
          "xref": "x",
          "y0": 2.6555855470330614,
          "y1": 2.705585547033061,
          "yref": "y"
         },
         {
          "fillcolor": "#0000FF",
          "line": {
           "width": 0
          },
          "type": "circle",
          "x0": 1.7716416376768127,
          "x1": 1.8216416376768125,
          "xref": "x",
          "y0": 2.4972300109723706,
          "y1": 2.5472300109723705,
          "yref": "y"
         },
         {
          "fillcolor": "#0000FF",
          "line": {
           "width": 0
          },
          "type": "circle",
          "x0": 1.6594588683547236,
          "x1": 1.7094588683547234,
          "xref": "x",
          "y0": 2.6394911557015353,
          "y1": 2.689491155701535,
          "yref": "y"
         },
         {
          "fillcolor": "#0000FF",
          "line": {
           "width": 0
          },
          "type": "circle",
          "x0": 1.5677793474774817,
          "x1": 1.6177793474774815,
          "xref": "x",
          "y0": 2.4811356196408445,
          "y1": 2.5311356196408443,
          "yref": "y"
         },
         {
          "fillcolor": "#0000FF",
          "line": {
           "width": 0
          },
          "type": "circle",
          "x0": 2.7386030977168803,
          "x1": 2.78860309771688,
          "xref": "x",
          "y0": 1.617460456398082,
          "y1": 1.6674604563980817,
          "yref": "y"
         },
         {
          "fillcolor": "#0000FF",
          "line": {
           "width": 0
          },
          "type": "circle",
          "x0": 2.6469235768396384,
          "x1": 2.6969235768396382,
          "xref": "x",
          "y0": 1.4591049203373914,
          "y1": 1.5091049203373912,
          "yref": "y"
         },
         {
          "fillcolor": "#0000FF",
          "line": {
           "width": 0
          },
          "type": "circle",
          "x0": 2.534740807517549,
          "x1": 2.584740807517549,
          "xref": "x",
          "y0": 1.6013660650665558,
          "y1": 1.6513660650665556,
          "yref": "y"
         },
         {
          "fillcolor": "#0000FF",
          "line": {
           "width": 0
          },
          "type": "circle",
          "x0": 2.443061286640307,
          "x1": 2.493061286640307,
          "xref": "x",
          "y0": 1.4430105290058652,
          "y1": 1.493010529005865,
          "yref": "y"
         },
         {
          "line": {
           "color": "#FF9999",
           "width": 3
          },
          "type": "circle",
          "x0": 1.4713043354209385,
          "x1": 3.6481772796141594,
          "xref": "x",
          "y0": 0.5379295929699452,
          "y1": 2.714802537163166,
          "yref": "y"
         },
         {
          "fillcolor": "#FF9999",
          "line": {
           "width": 0
          },
          "type": "circle",
          "x0": 2.534740807517549,
          "x1": 2.584740807517549,
          "xref": "x",
          "y0": 1.6013660650665558,
          "y1": 1.6513660650665556,
          "yref": "y"
         },
         {
          "line": {
           "color": "rgba(127, 127, 127, 0.1)",
           "width": 103.8437872298322
          },
          "type": "circle",
          "x0": -2.1381150692883186,
          "x1": 2.6381150692883186,
          "xref": "x",
          "y0": 0.06188493071168155,
          "y1": 4.838115069288319,
          "yref": "y"
         },
         {
          "line": {
           "width": 2
          },
          "type": "circle",
          "x0": -2.1381150692883186,
          "x1": 2.6381150692883186,
          "xref": "x",
          "y0": 0.06188493071168155,
          "y1": 4.838115069288319,
          "yref": "y"
         },
         {
          "line": {
           "color": "rgba(127, 127, 127, 0.1)",
           "width": 74.49966457479111
          },
          "type": "circle",
          "x0": -0.2612251515424444,
          "x1": 2.4612251515424446,
          "xref": "x",
          "y0": 3.238774848457555,
          "y1": 5.961225151542444,
          "yref": "y"
         },
         {
          "line": {
           "width": 2
          },
          "type": "circle",
          "x0": -0.2612251515424444,
          "x1": 2.4612251515424446,
          "xref": "x",
          "y0": 3.238774848457555,
          "y1": 5.961225151542444,
          "yref": "y"
         },
         {
          "line": {
           "color": "rgba(127, 127, 127, 0.1)",
           "width": 79.00399104572303
          },
          "type": "circle",
          "x0": 2.1390825638050726,
          "x1": 4.060917436194928,
          "xref": "x",
          "y0": -0.1609174361949276,
          "y1": 1.7609174361949278,
          "yref": "y"
         },
         {
          "line": {
           "width": 2
          },
          "type": "circle",
          "x0": 2.1390825638050726,
          "x1": 4.060917436194928,
          "xref": "x",
          "y0": -0.1609174361949276,
          "y1": 1.7609174361949278,
          "yref": "y"
         },
         {
          "fillcolor": "#0000FF",
          "line": {
           "width": 0
          },
          "type": "circle",
          "x0": 1.463140771143015,
          "x1": 1.513140771143015,
          "xref": "x",
          "y0": 2.8606317547914193,
          "y1": 2.910631754791419,
          "yref": "y"
         },
         {
          "fillcolor": "#0000FF",
          "line": {
           "width": 0
          },
          "type": "circle",
          "x0": 1.3714612502657737,
          "x1": 1.4214612502657735,
          "xref": "x",
          "y0": 2.7022762187307294,
          "y1": 2.7522762187307293,
          "yref": "y"
         },
         {
          "fillcolor": "#0000FF",
          "line": {
           "width": 0
          },
          "type": "circle",
          "x0": 2.282918273860174,
          "x1": 2.332918273860174,
          "xref": "x",
          "y0": 2.5365336723218452,
          "y1": 2.586533672321845,
          "yref": "y"
         },
         {
          "fillcolor": "#0000FF",
          "line": {
           "width": 0
          },
          "type": "circle",
          "x0": 2.1912387529829322,
          "x1": 2.241238752982932,
          "xref": "x",
          "y0": 2.3781781362611545,
          "y1": 2.4281781362611543,
          "yref": "y"
         },
         {
          "line": {
           "color": "#FF9999",
           "width": 3
          },
          "type": "circle",
          "x0": 0.4134660988101859,
          "x1": 4.2023704489101625,
          "xref": "x",
          "y0": 0.6670814972718571,
          "y1": 4.455985847371833,
          "yref": "y"
         },
         {
          "fillcolor": "#FF9999",
          "line": {
           "width": 0
          },
          "type": "circle",
          "x0": 2.282918273860174,
          "x1": 2.332918273860174,
          "xref": "x",
          "y0": 2.5365336723218452,
          "y1": 2.586533672321845,
          "yref": "y"
         },
         {
          "line": {
           "color": "rgba(127, 127, 127, 0.1)",
           "width": 103.8437872298322
          },
          "type": "circle",
          "x0": -2.1381150692883186,
          "x1": 2.6381150692883186,
          "xref": "x",
          "y0": 0.06188493071168155,
          "y1": 4.838115069288319,
          "yref": "y"
         },
         {
          "line": {
           "width": 2
          },
          "type": "circle",
          "x0": -2.1381150692883186,
          "x1": 2.6381150692883186,
          "xref": "x",
          "y0": 0.06188493071168155,
          "y1": 4.838115069288319,
          "yref": "y"
         },
         {
          "line": {
           "color": "rgba(127, 127, 127, 0.1)",
           "width": 74.49966457479111
          },
          "type": "circle",
          "x0": -0.2612251515424444,
          "x1": 2.4612251515424446,
          "xref": "x",
          "y0": 3.238774848457555,
          "y1": 5.961225151542444,
          "yref": "y"
         },
         {
          "line": {
           "width": 2
          },
          "type": "circle",
          "x0": -0.2612251515424444,
          "x1": 2.4612251515424446,
          "xref": "x",
          "y0": 3.238774848457555,
          "y1": 5.961225151542444,
          "yref": "y"
         },
         {
          "line": {
           "color": "rgba(127, 127, 127, 0.1)",
           "width": 165.25565152663947
          },
          "type": "circle",
          "x0": -0.11735230832166765,
          "x1": 5.717352308321667,
          "xref": "x",
          "y0": 1.6826476916783322,
          "y1": 7.517352308321668,
          "yref": "y"
         },
         {
          "line": {
           "width": 2
          },
          "type": "circle",
          "x0": -0.11735230832166765,
          "x1": 5.717352308321667,
          "xref": "x",
          "y0": 1.6826476916783322,
          "y1": 7.517352308321668,
          "yref": "y"
         },
         {
          "fillcolor": "#0000FF",
          "line": {
           "width": 0
          },
          "type": "circle",
          "x0": -0.1471620978498718,
          "x1": -0.09716209784987179,
          "xref": "x",
          "y0": 4.9705913949161475,
          "y1": 5.020591394916148,
          "yref": "y"
         },
         {
          "fillcolor": "#0000FF",
          "line": {
           "width": 0
          },
          "type": "circle",
          "x0": 0.7281198413129535,
          "x1": 0.7781198413129535,
          "xref": "x",
          "y0": 3.932466304281168,
          "y1": 3.982466304281168,
          "yref": "y"
         },
         {
          "fillcolor": "#0000FF",
          "line": {
           "width": 0
          },
          "type": "circle",
          "x0": -0.1471620978498718,
          "x1": -0.09716209784987179,
          "xref": "x",
          "y0": 4.443654101394926,
          "y1": 4.4936541013949265,
          "yref": "y"
         },
         {
          "fillcolor": "#0000FF",
          "line": {
           "width": 0
          },
          "type": "circle",
          "x0": 0.7281198413129535,
          "x1": 0.7781198413129535,
          "xref": "x",
          "y0": 3.4055290107599463,
          "y1": 3.455529010759946,
          "yref": "y"
         },
         {
          "fillcolor": "#0000FF",
          "line": {
           "width": 0
          },
          "type": "circle",
          "x0": 0.6726154048672868,
          "x1": 0.7226154048672868,
          "xref": "x",
          "y0": 4.646493312446573,
          "y1": 4.696493312446574,
          "yref": "y"
         },
         {
          "fillcolor": "#0000FF",
          "line": {
           "width": 0
          },
          "type": "circle",
          "x0": 1.5478973440301123,
          "x1": 1.597897344030112,
          "xref": "x",
          "y0": 3.608368221811594,
          "y1": 3.658368221811594,
          "yref": "y"
         },
         {
          "fillcolor": "#0000FF",
          "line": {
           "width": 0
          },
          "type": "circle",
          "x0": 0.6726154048672868,
          "x1": 0.7226154048672868,
          "xref": "x",
          "y0": 4.119556018925351,
          "y1": 4.169556018925352,
          "yref": "y"
         },
         {
          "fillcolor": "#0000FF",
          "line": {
           "width": 0
          },
          "type": "circle",
          "x0": 1.5478973440301123,
          "x1": 1.597897344030112,
          "xref": "x",
          "y0": 3.0814309282903722,
          "y1": 3.131430928290372,
          "yref": "y"
         },
         {
          "line": {
           "color": "#FF9999",
           "width": 3
          },
          "type": "circle",
          "x0": -1.439445667715925,
          "x1": 1.1951214720161814,
          "xref": "x",
          "y0": 3.6783078250500947,
          "y1": 6.312874964782202,
          "yref": "y"
         },
         {
          "fillcolor": "#FF9999",
          "line": {
           "width": 0
          },
          "type": "circle",
          "x0": -0.1471620978498718,
          "x1": -0.09716209784987179,
          "xref": "x",
          "y0": 4.9705913949161475,
          "y1": 5.020591394916148,
          "yref": "y"
         },
         {
          "line": {
           "color": "#FF0000",
           "width": 4
          },
          "type": "circle",
          "x0": 1.4713043354209385,
          "x1": 3.6481772796141594,
          "xref": "x",
          "y0": 0.5379295929699452,
          "y1": 2.714802537163166,
          "yref": "y"
         },
         {
          "fillcolor": "#FF0000",
          "line": {
           "width": 0
          },
          "type": "circle",
          "x0": 2.509740807517549,
          "x1": 2.6097408075175488,
          "xref": "x",
          "y0": 1.5763660650665556,
          "y1": 1.6763660650665557,
          "yref": "y"
         }
        ],
        "template": {
         "data": {
          "bar": [
           {
            "error_x": {
             "color": "#2a3f5f"
            },
            "error_y": {
             "color": "#2a3f5f"
            },
            "marker": {
             "line": {
              "color": "#E5ECF6",
              "width": 0.5
             }
            },
            "type": "bar"
           }
          ],
          "barpolar": [
           {
            "marker": {
             "line": {
              "color": "#E5ECF6",
              "width": 0.5
             }
            },
            "type": "barpolar"
           }
          ],
          "carpet": [
           {
            "aaxis": {
             "endlinecolor": "#2a3f5f",
             "gridcolor": "white",
             "linecolor": "white",
             "minorgridcolor": "white",
             "startlinecolor": "#2a3f5f"
            },
            "baxis": {
             "endlinecolor": "#2a3f5f",
             "gridcolor": "white",
             "linecolor": "white",
             "minorgridcolor": "white",
             "startlinecolor": "#2a3f5f"
            },
            "type": "carpet"
           }
          ],
          "choropleth": [
           {
            "colorbar": {
             "outlinewidth": 0,
             "ticks": ""
            },
            "type": "choropleth"
           }
          ],
          "contour": [
           {
            "colorbar": {
             "outlinewidth": 0,
             "ticks": ""
            },
            "colorscale": [
             [
              0,
              "#0d0887"
             ],
             [
              0.1111111111111111,
              "#46039f"
             ],
             [
              0.2222222222222222,
              "#7201a8"
             ],
             [
              0.3333333333333333,
              "#9c179e"
             ],
             [
              0.4444444444444444,
              "#bd3786"
             ],
             [
              0.5555555555555556,
              "#d8576b"
             ],
             [
              0.6666666666666666,
              "#ed7953"
             ],
             [
              0.7777777777777778,
              "#fb9f3a"
             ],
             [
              0.8888888888888888,
              "#fdca26"
             ],
             [
              1,
              "#f0f921"
             ]
            ],
            "type": "contour"
           }
          ],
          "contourcarpet": [
           {
            "colorbar": {
             "outlinewidth": 0,
             "ticks": ""
            },
            "type": "contourcarpet"
           }
          ],
          "heatmap": [
           {
            "colorbar": {
             "outlinewidth": 0,
             "ticks": ""
            },
            "colorscale": [
             [
              0,
              "#0d0887"
             ],
             [
              0.1111111111111111,
              "#46039f"
             ],
             [
              0.2222222222222222,
              "#7201a8"
             ],
             [
              0.3333333333333333,
              "#9c179e"
             ],
             [
              0.4444444444444444,
              "#bd3786"
             ],
             [
              0.5555555555555556,
              "#d8576b"
             ],
             [
              0.6666666666666666,
              "#ed7953"
             ],
             [
              0.7777777777777778,
              "#fb9f3a"
             ],
             [
              0.8888888888888888,
              "#fdca26"
             ],
             [
              1,
              "#f0f921"
             ]
            ],
            "type": "heatmap"
           }
          ],
          "heatmapgl": [
           {
            "colorbar": {
             "outlinewidth": 0,
             "ticks": ""
            },
            "colorscale": [
             [
              0,
              "#0d0887"
             ],
             [
              0.1111111111111111,
              "#46039f"
             ],
             [
              0.2222222222222222,
              "#7201a8"
             ],
             [
              0.3333333333333333,
              "#9c179e"
             ],
             [
              0.4444444444444444,
              "#bd3786"
             ],
             [
              0.5555555555555556,
              "#d8576b"
             ],
             [
              0.6666666666666666,
              "#ed7953"
             ],
             [
              0.7777777777777778,
              "#fb9f3a"
             ],
             [
              0.8888888888888888,
              "#fdca26"
             ],
             [
              1,
              "#f0f921"
             ]
            ],
            "type": "heatmapgl"
           }
          ],
          "histogram": [
           {
            "marker": {
             "colorbar": {
              "outlinewidth": 0,
              "ticks": ""
             }
            },
            "type": "histogram"
           }
          ],
          "histogram2d": [
           {
            "colorbar": {
             "outlinewidth": 0,
             "ticks": ""
            },
            "colorscale": [
             [
              0,
              "#0d0887"
             ],
             [
              0.1111111111111111,
              "#46039f"
             ],
             [
              0.2222222222222222,
              "#7201a8"
             ],
             [
              0.3333333333333333,
              "#9c179e"
             ],
             [
              0.4444444444444444,
              "#bd3786"
             ],
             [
              0.5555555555555556,
              "#d8576b"
             ],
             [
              0.6666666666666666,
              "#ed7953"
             ],
             [
              0.7777777777777778,
              "#fb9f3a"
             ],
             [
              0.8888888888888888,
              "#fdca26"
             ],
             [
              1,
              "#f0f921"
             ]
            ],
            "type": "histogram2d"
           }
          ],
          "histogram2dcontour": [
           {
            "colorbar": {
             "outlinewidth": 0,
             "ticks": ""
            },
            "colorscale": [
             [
              0,
              "#0d0887"
             ],
             [
              0.1111111111111111,
              "#46039f"
             ],
             [
              0.2222222222222222,
              "#7201a8"
             ],
             [
              0.3333333333333333,
              "#9c179e"
             ],
             [
              0.4444444444444444,
              "#bd3786"
             ],
             [
              0.5555555555555556,
              "#d8576b"
             ],
             [
              0.6666666666666666,
              "#ed7953"
             ],
             [
              0.7777777777777778,
              "#fb9f3a"
             ],
             [
              0.8888888888888888,
              "#fdca26"
             ],
             [
              1,
              "#f0f921"
             ]
            ],
            "type": "histogram2dcontour"
           }
          ],
          "mesh3d": [
           {
            "colorbar": {
             "outlinewidth": 0,
             "ticks": ""
            },
            "type": "mesh3d"
           }
          ],
          "parcoords": [
           {
            "line": {
             "colorbar": {
              "outlinewidth": 0,
              "ticks": ""
             }
            },
            "type": "parcoords"
           }
          ],
          "pie": [
           {
            "automargin": true,
            "type": "pie"
           }
          ],
          "scatter": [
           {
            "marker": {
             "colorbar": {
              "outlinewidth": 0,
              "ticks": ""
             }
            },
            "type": "scatter"
           }
          ],
          "scatter3d": [
           {
            "line": {
             "colorbar": {
              "outlinewidth": 0,
              "ticks": ""
             }
            },
            "marker": {
             "colorbar": {
              "outlinewidth": 0,
              "ticks": ""
             }
            },
            "type": "scatter3d"
           }
          ],
          "scattercarpet": [
           {
            "marker": {
             "colorbar": {
              "outlinewidth": 0,
              "ticks": ""
             }
            },
            "type": "scattercarpet"
           }
          ],
          "scattergeo": [
           {
            "marker": {
             "colorbar": {
              "outlinewidth": 0,
              "ticks": ""
             }
            },
            "type": "scattergeo"
           }
          ],
          "scattergl": [
           {
            "marker": {
             "colorbar": {
              "outlinewidth": 0,
              "ticks": ""
             }
            },
            "type": "scattergl"
           }
          ],
          "scattermapbox": [
           {
            "marker": {
             "colorbar": {
              "outlinewidth": 0,
              "ticks": ""
             }
            },
            "type": "scattermapbox"
           }
          ],
          "scatterpolar": [
           {
            "marker": {
             "colorbar": {
              "outlinewidth": 0,
              "ticks": ""
             }
            },
            "type": "scatterpolar"
           }
          ],
          "scatterpolargl": [
           {
            "marker": {
             "colorbar": {
              "outlinewidth": 0,
              "ticks": ""
             }
            },
            "type": "scatterpolargl"
           }
          ],
          "scatterternary": [
           {
            "marker": {
             "colorbar": {
              "outlinewidth": 0,
              "ticks": ""
             }
            },
            "type": "scatterternary"
           }
          ],
          "surface": [
           {
            "colorbar": {
             "outlinewidth": 0,
             "ticks": ""
            },
            "colorscale": [
             [
              0,
              "#0d0887"
             ],
             [
              0.1111111111111111,
              "#46039f"
             ],
             [
              0.2222222222222222,
              "#7201a8"
             ],
             [
              0.3333333333333333,
              "#9c179e"
             ],
             [
              0.4444444444444444,
              "#bd3786"
             ],
             [
              0.5555555555555556,
              "#d8576b"
             ],
             [
              0.6666666666666666,
              "#ed7953"
             ],
             [
              0.7777777777777778,
              "#fb9f3a"
             ],
             [
              0.8888888888888888,
              "#fdca26"
             ],
             [
              1,
              "#f0f921"
             ]
            ],
            "type": "surface"
           }
          ],
          "table": [
           {
            "cells": {
             "fill": {
              "color": "#EBF0F8"
             },
             "line": {
              "color": "white"
             }
            },
            "header": {
             "fill": {
              "color": "#C8D4E3"
             },
             "line": {
              "color": "white"
             }
            },
            "type": "table"
           }
          ]
         },
         "layout": {
          "annotationdefaults": {
           "arrowcolor": "#2a3f5f",
           "arrowhead": 0,
           "arrowwidth": 1
          },
          "coloraxis": {
           "colorbar": {
            "outlinewidth": 0,
            "ticks": ""
           }
          },
          "colorscale": {
           "diverging": [
            [
             0,
             "#8e0152"
            ],
            [
             0.1,
             "#c51b7d"
            ],
            [
             0.2,
             "#de77ae"
            ],
            [
             0.3,
             "#f1b6da"
            ],
            [
             0.4,
             "#fde0ef"
            ],
            [
             0.5,
             "#f7f7f7"
            ],
            [
             0.6,
             "#e6f5d0"
            ],
            [
             0.7,
             "#b8e186"
            ],
            [
             0.8,
             "#7fbc41"
            ],
            [
             0.9,
             "#4d9221"
            ],
            [
             1,
             "#276419"
            ]
           ],
           "sequential": [
            [
             0,
             "#0d0887"
            ],
            [
             0.1111111111111111,
             "#46039f"
            ],
            [
             0.2222222222222222,
             "#7201a8"
            ],
            [
             0.3333333333333333,
             "#9c179e"
            ],
            [
             0.4444444444444444,
             "#bd3786"
            ],
            [
             0.5555555555555556,
             "#d8576b"
            ],
            [
             0.6666666666666666,
             "#ed7953"
            ],
            [
             0.7777777777777778,
             "#fb9f3a"
            ],
            [
             0.8888888888888888,
             "#fdca26"
            ],
            [
             1,
             "#f0f921"
            ]
           ],
           "sequentialminus": [
            [
             0,
             "#0d0887"
            ],
            [
             0.1111111111111111,
             "#46039f"
            ],
            [
             0.2222222222222222,
             "#7201a8"
            ],
            [
             0.3333333333333333,
             "#9c179e"
            ],
            [
             0.4444444444444444,
             "#bd3786"
            ],
            [
             0.5555555555555556,
             "#d8576b"
            ],
            [
             0.6666666666666666,
             "#ed7953"
            ],
            [
             0.7777777777777778,
             "#fb9f3a"
            ],
            [
             0.8888888888888888,
             "#fdca26"
            ],
            [
             1,
             "#f0f921"
            ]
           ]
          },
          "colorway": [
           "#636efa",
           "#EF553B",
           "#00cc96",
           "#ab63fa",
           "#FFA15A",
           "#19d3f3",
           "#FF6692",
           "#B6E880",
           "#FF97FF",
           "#FECB52"
          ],
          "font": {
           "color": "#2a3f5f"
          },
          "geo": {
           "bgcolor": "white",
           "lakecolor": "white",
           "landcolor": "#E5ECF6",
           "showlakes": true,
           "showland": true,
           "subunitcolor": "white"
          },
          "hoverlabel": {
           "align": "left"
          },
          "hovermode": "closest",
          "mapbox": {
           "style": "light"
          },
          "paper_bgcolor": "white",
          "plot_bgcolor": "#E5ECF6",
          "polar": {
           "angularaxis": {
            "gridcolor": "white",
            "linecolor": "white",
            "ticks": ""
           },
           "bgcolor": "#E5ECF6",
           "radialaxis": {
            "gridcolor": "white",
            "linecolor": "white",
            "ticks": ""
           }
          },
          "scene": {
           "xaxis": {
            "backgroundcolor": "#E5ECF6",
            "gridcolor": "white",
            "gridwidth": 2,
            "linecolor": "white",
            "showbackground": true,
            "ticks": "",
            "zerolinecolor": "white"
           },
           "yaxis": {
            "backgroundcolor": "#E5ECF6",
            "gridcolor": "white",
            "gridwidth": 2,
            "linecolor": "white",
            "showbackground": true,
            "ticks": "",
            "zerolinecolor": "white"
           },
           "zaxis": {
            "backgroundcolor": "#E5ECF6",
            "gridcolor": "white",
            "gridwidth": 2,
            "linecolor": "white",
            "showbackground": true,
            "ticks": "",
            "zerolinecolor": "white"
           }
          },
          "shapedefaults": {
           "line": {
            "color": "#2a3f5f"
           }
          },
          "ternary": {
           "aaxis": {
            "gridcolor": "white",
            "linecolor": "white",
            "ticks": ""
           },
           "baxis": {
            "gridcolor": "white",
            "linecolor": "white",
            "ticks": ""
           },
           "bgcolor": "#E5ECF6",
           "caxis": {
            "gridcolor": "white",
            "linecolor": "white",
            "ticks": ""
           }
          },
          "title": {
           "x": 0.05
          },
          "xaxis": {
           "automargin": true,
           "gridcolor": "white",
           "linecolor": "white",
           "ticks": "",
           "title": {
            "standoff": 15
           },
           "zerolinecolor": "white",
           "zerolinewidth": 2
          },
          "yaxis": {
           "automargin": true,
           "gridcolor": "white",
           "linecolor": "white",
           "ticks": "",
           "title": {
            "standoff": 15
           },
           "zerolinecolor": "white",
           "zerolinewidth": 2
          }
         }
        },
        "width": 800,
        "xaxis": {
         "range": [
          -1,
          5
         ],
         "zeroline": false
        },
        "yaxis": {
         "range": [
          -1,
          5
         ]
        }
       }
      },
      "text/html": [
       "<div>\n",
       "        \n",
       "        \n",
       "            <div id=\"30814ba0-bbe7-4cad-941a-8157134d65be\" class=\"plotly-graph-div\" style=\"height:800px; width:800px;\"></div>\n",
       "            <script type=\"text/javascript\">\n",
       "                require([\"plotly\"], function(Plotly) {\n",
       "                    window.PLOTLYENV=window.PLOTLYENV || {};\n",
       "                    \n",
       "                if (document.getElementById(\"30814ba0-bbe7-4cad-941a-8157134d65be\")) {\n",
       "                    Plotly.newPlot(\n",
       "                        '30814ba0-bbe7-4cad-941a-8157134d65be',\n",
       "                        [{\"mode\": \"text\", \"text\": [\"aa:69\", \"a4:a8\", \"d9:ab\", \"95:51\"], \"type\": \"scatter\", \"x\": [0.25, 1.1, 2.8, 3.1], \"y\": [2.5500000000000003, 4.699999999999999, 4.699999999999999, 0.9]}],\n",
       "                        {\"height\": 800, \"shapes\": [{\"fillcolor\": \"#002200\", \"line\": {\"width\": 0}, \"type\": \"circle\", \"x0\": 0.2, \"x1\": 0.3, \"xref\": \"x\", \"y0\": 2.4000000000000004, \"y1\": 2.5, \"yref\": \"y\"}, {\"fillcolor\": \"#002200\", \"line\": {\"width\": 0}, \"type\": \"circle\", \"x0\": 1.05, \"x1\": 1.1500000000000001, \"xref\": \"x\", \"y0\": 4.55, \"y1\": 4.6499999999999995, \"yref\": \"y\"}, {\"fillcolor\": \"#002200\", \"line\": {\"width\": 0}, \"type\": \"circle\", \"x0\": 2.75, \"x1\": 2.8499999999999996, \"xref\": \"x\", \"y0\": 4.55, \"y1\": 4.6499999999999995, \"yref\": \"y\"}, {\"fillcolor\": \"#002200\", \"line\": {\"width\": 0}, \"type\": \"circle\", \"x0\": 3.0500000000000003, \"x1\": 3.15, \"xref\": \"x\", \"y0\": 0.75, \"y1\": 0.8500000000000001, \"yref\": \"y\"}, {\"line\": {\"color\": \"#AAAAFF\", \"width\": 1}, \"type\": \"rect\", \"x0\": 0, \"x1\": 3.4, \"xref\": \"x\", \"y0\": 0, \"y1\": 4.6, \"yref\": \"y\"}, {\"line\": {\"color\": \"rgba(127, 127, 127, 0.1)\", \"width\": 74.49966457479111}, \"type\": \"circle\", \"x0\": -0.2612251515424444, \"x1\": 2.4612251515424446, \"xref\": \"x\", \"y0\": 3.238774848457555, \"y1\": 5.961225151542444, \"yref\": \"y\"}, {\"line\": {\"width\": 2}, \"type\": \"circle\", \"x0\": -0.2612251515424444, \"x1\": 2.4612251515424446, \"xref\": \"x\", \"y0\": 3.238774848457555, \"y1\": 5.961225151542444, \"yref\": \"y\"}, {\"line\": {\"color\": \"rgba(127, 127, 127, 0.1)\", \"width\": 165.25565152663947}, \"type\": \"circle\", \"x0\": -0.11735230832166765, \"x1\": 5.717352308321667, \"xref\": \"x\", \"y0\": 1.6826476916783322, \"y1\": 7.517352308321668, \"yref\": \"y\"}, {\"line\": {\"width\": 2}, \"type\": \"circle\", \"x0\": -0.11735230832166765, \"x1\": 5.717352308321667, \"xref\": \"x\", \"y0\": 1.6826476916783322, \"y1\": 7.517352308321668, \"yref\": \"y\"}, {\"line\": {\"color\": \"rgba(127, 127, 127, 0.1)\", \"width\": 79.00399104572303}, \"type\": \"circle\", \"x0\": 2.1390825638050726, \"x1\": 4.060917436194928, \"xref\": \"x\", \"y0\": -0.1609174361949276, \"y1\": 1.7609174361949278, \"yref\": \"y\"}, {\"line\": {\"width\": 2}, \"type\": \"circle\", \"x0\": 2.1390825638050726, \"x1\": 4.060917436194928, \"xref\": \"x\", \"y0\": -0.1609174361949276, \"y1\": 1.7609174361949278, \"yref\": \"y\"}, {\"fillcolor\": \"#0000FF\", \"line\": {\"width\": 0}, \"type\": \"circle\", \"x0\": 1.8410908071472136, \"x1\": 1.8910908071472134, \"xref\": \"x\", \"y0\": 3.1399432287522835, \"y1\": 3.1899432287522833, \"yref\": \"y\"}, {\"fillcolor\": \"#0000FF\", \"line\": {\"width\": 0}, \"type\": \"circle\", \"x0\": 1.6372285169478824, \"x1\": 1.6872285169478822, \"xref\": \"x\", \"y0\": 3.123848837420758, \"y1\": 3.1738488374207576, \"yref\": \"y\"}, {\"fillcolor\": \"#0000FF\", \"line\": {\"width\": 0}, \"type\": \"circle\", \"x0\": 1.8410908071472136, \"x1\": 1.8910908071472134, \"xref\": \"x\", \"y0\": 2.6130059352310617, \"y1\": 2.6630059352310615, \"yref\": \"y\"}, {\"fillcolor\": \"#0000FF\", \"line\": {\"width\": 0}, \"type\": \"circle\", \"x0\": 1.6372285169478824, \"x1\": 1.6872285169478822, \"xref\": \"x\", \"y0\": 2.5969115438995356, \"y1\": 2.6469115438995354, \"yref\": \"y\"}, {\"line\": {\"color\": \"#FF9999\", \"width\": 3}, \"type\": \"circle\", \"x0\": -1.2937789454632778, \"x1\": 4.618235979359042, \"xref\": \"x\", \"y0\": -0.33409591851162457, \"y1\": 5.577919006310696, \"yref\": \"y\"}, {\"fillcolor\": \"#FF9999\", \"line\": {\"width\": 0}, \"type\": \"circle\", \"x0\": 1.6372285169478824, \"x1\": 1.6872285169478822, \"xref\": \"x\", \"y0\": 2.5969115438995356, \"y1\": 2.6469115438995354, \"yref\": \"y\"}, {\"line\": {\"color\": \"rgba(127, 127, 127, 0.1)\", \"width\": 103.8437872298322}, \"type\": \"circle\", \"x0\": -2.1381150692883186, \"x1\": 2.6381150692883186, \"xref\": \"x\", \"y0\": 0.06188493071168155, \"y1\": 4.838115069288319, \"yref\": \"y\"}, {\"line\": {\"width\": 2}, \"type\": \"circle\", \"x0\": -2.1381150692883186, \"x1\": 2.6381150692883186, \"xref\": \"x\", \"y0\": 0.06188493071168155, \"y1\": 4.838115069288319, \"yref\": \"y\"}, {\"line\": {\"color\": \"rgba(127, 127, 127, 0.1)\", \"width\": 165.25565152663947}, \"type\": \"circle\", \"x0\": -0.11735230832166765, \"x1\": 5.717352308321667, \"xref\": \"x\", \"y0\": 1.6826476916783322, \"y1\": 7.517352308321668, \"yref\": \"y\"}, {\"line\": {\"width\": 2}, \"type\": \"circle\", \"x0\": -0.11735230832166765, \"x1\": 5.717352308321667, \"xref\": \"x\", \"y0\": 1.6826476916783322, \"y1\": 7.517352308321668, \"yref\": \"y\"}, {\"line\": {\"color\": \"rgba(127, 127, 127, 0.1)\", \"width\": 79.00399104572303}, \"type\": \"circle\", \"x0\": 2.1390825638050726, \"x1\": 4.060917436194928, \"xref\": \"x\", \"y0\": -0.1609174361949276, \"y1\": 1.7609174361949278, \"yref\": \"y\"}, {\"line\": {\"width\": 2}, \"type\": \"circle\", \"x0\": 2.1390825638050726, \"x1\": 4.060917436194928, \"xref\": \"x\", \"y0\": -0.1609174361949276, \"y1\": 1.7609174361949278, \"yref\": \"y\"}, {\"fillcolor\": \"#0000FF\", \"line\": {\"width\": 0}, \"type\": \"circle\", \"x0\": 1.8633211585540548, \"x1\": 1.9133211585540546, \"xref\": \"x\", \"y0\": 2.6555855470330614, \"y1\": 2.705585547033061, \"yref\": \"y\"}, {\"fillcolor\": \"#0000FF\", \"line\": {\"width\": 0}, \"type\": \"circle\", \"x0\": 1.7716416376768127, \"x1\": 1.8216416376768125, \"xref\": \"x\", \"y0\": 2.4972300109723706, \"y1\": 2.5472300109723705, \"yref\": \"y\"}, {\"fillcolor\": \"#0000FF\", \"line\": {\"width\": 0}, \"type\": \"circle\", \"x0\": 1.6594588683547236, \"x1\": 1.7094588683547234, \"xref\": \"x\", \"y0\": 2.6394911557015353, \"y1\": 2.689491155701535, \"yref\": \"y\"}, {\"fillcolor\": \"#0000FF\", \"line\": {\"width\": 0}, \"type\": \"circle\", \"x0\": 1.5677793474774817, \"x1\": 1.6177793474774815, \"xref\": \"x\", \"y0\": 2.4811356196408445, \"y1\": 2.5311356196408443, \"yref\": \"y\"}, {\"fillcolor\": \"#0000FF\", \"line\": {\"width\": 0}, \"type\": \"circle\", \"x0\": 2.7386030977168803, \"x1\": 2.78860309771688, \"xref\": \"x\", \"y0\": 1.617460456398082, \"y1\": 1.6674604563980817, \"yref\": \"y\"}, {\"fillcolor\": \"#0000FF\", \"line\": {\"width\": 0}, \"type\": \"circle\", \"x0\": 2.6469235768396384, \"x1\": 2.6969235768396382, \"xref\": \"x\", \"y0\": 1.4591049203373914, \"y1\": 1.5091049203373912, \"yref\": \"y\"}, {\"fillcolor\": \"#0000FF\", \"line\": {\"width\": 0}, \"type\": \"circle\", \"x0\": 2.534740807517549, \"x1\": 2.584740807517549, \"xref\": \"x\", \"y0\": 1.6013660650665558, \"y1\": 1.6513660650665556, \"yref\": \"y\"}, {\"fillcolor\": \"#0000FF\", \"line\": {\"width\": 0}, \"type\": \"circle\", \"x0\": 2.443061286640307, \"x1\": 2.493061286640307, \"xref\": \"x\", \"y0\": 1.4430105290058652, \"y1\": 1.493010529005865, \"yref\": \"y\"}, {\"line\": {\"color\": \"#FF9999\", \"width\": 3}, \"type\": \"circle\", \"x0\": 1.4713043354209385, \"x1\": 3.6481772796141594, \"xref\": \"x\", \"y0\": 0.5379295929699452, \"y1\": 2.714802537163166, \"yref\": \"y\"}, {\"fillcolor\": \"#FF9999\", \"line\": {\"width\": 0}, \"type\": \"circle\", \"x0\": 2.534740807517549, \"x1\": 2.584740807517549, \"xref\": \"x\", \"y0\": 1.6013660650665558, \"y1\": 1.6513660650665556, \"yref\": \"y\"}, {\"line\": {\"color\": \"rgba(127, 127, 127, 0.1)\", \"width\": 103.8437872298322}, \"type\": \"circle\", \"x0\": -2.1381150692883186, \"x1\": 2.6381150692883186, \"xref\": \"x\", \"y0\": 0.06188493071168155, \"y1\": 4.838115069288319, \"yref\": \"y\"}, {\"line\": {\"width\": 2}, \"type\": \"circle\", \"x0\": -2.1381150692883186, \"x1\": 2.6381150692883186, \"xref\": \"x\", \"y0\": 0.06188493071168155, \"y1\": 4.838115069288319, \"yref\": \"y\"}, {\"line\": {\"color\": \"rgba(127, 127, 127, 0.1)\", \"width\": 74.49966457479111}, \"type\": \"circle\", \"x0\": -0.2612251515424444, \"x1\": 2.4612251515424446, \"xref\": \"x\", \"y0\": 3.238774848457555, \"y1\": 5.961225151542444, \"yref\": \"y\"}, {\"line\": {\"width\": 2}, \"type\": \"circle\", \"x0\": -0.2612251515424444, \"x1\": 2.4612251515424446, \"xref\": \"x\", \"y0\": 3.238774848457555, \"y1\": 5.961225151542444, \"yref\": \"y\"}, {\"line\": {\"color\": \"rgba(127, 127, 127, 0.1)\", \"width\": 79.00399104572303}, \"type\": \"circle\", \"x0\": 2.1390825638050726, \"x1\": 4.060917436194928, \"xref\": \"x\", \"y0\": -0.1609174361949276, \"y1\": 1.7609174361949278, \"yref\": \"y\"}, {\"line\": {\"width\": 2}, \"type\": \"circle\", \"x0\": 2.1390825638050726, \"x1\": 4.060917436194928, \"xref\": \"x\", \"y0\": -0.1609174361949276, \"y1\": 1.7609174361949278, \"yref\": \"y\"}, {\"fillcolor\": \"#0000FF\", \"line\": {\"width\": 0}, \"type\": \"circle\", \"x0\": 1.463140771143015, \"x1\": 1.513140771143015, \"xref\": \"x\", \"y0\": 2.8606317547914193, \"y1\": 2.910631754791419, \"yref\": \"y\"}, {\"fillcolor\": \"#0000FF\", \"line\": {\"width\": 0}, \"type\": \"circle\", \"x0\": 1.3714612502657737, \"x1\": 1.4214612502657735, \"xref\": \"x\", \"y0\": 2.7022762187307294, \"y1\": 2.7522762187307293, \"yref\": \"y\"}, {\"fillcolor\": \"#0000FF\", \"line\": {\"width\": 0}, \"type\": \"circle\", \"x0\": 2.282918273860174, \"x1\": 2.332918273860174, \"xref\": \"x\", \"y0\": 2.5365336723218452, \"y1\": 2.586533672321845, \"yref\": \"y\"}, {\"fillcolor\": \"#0000FF\", \"line\": {\"width\": 0}, \"type\": \"circle\", \"x0\": 2.1912387529829322, \"x1\": 2.241238752982932, \"xref\": \"x\", \"y0\": 2.3781781362611545, \"y1\": 2.4281781362611543, \"yref\": \"y\"}, {\"line\": {\"color\": \"#FF9999\", \"width\": 3}, \"type\": \"circle\", \"x0\": 0.4134660988101859, \"x1\": 4.2023704489101625, \"xref\": \"x\", \"y0\": 0.6670814972718571, \"y1\": 4.455985847371833, \"yref\": \"y\"}, {\"fillcolor\": \"#FF9999\", \"line\": {\"width\": 0}, \"type\": \"circle\", \"x0\": 2.282918273860174, \"x1\": 2.332918273860174, \"xref\": \"x\", \"y0\": 2.5365336723218452, \"y1\": 2.586533672321845, \"yref\": \"y\"}, {\"line\": {\"color\": \"rgba(127, 127, 127, 0.1)\", \"width\": 103.8437872298322}, \"type\": \"circle\", \"x0\": -2.1381150692883186, \"x1\": 2.6381150692883186, \"xref\": \"x\", \"y0\": 0.06188493071168155, \"y1\": 4.838115069288319, \"yref\": \"y\"}, {\"line\": {\"width\": 2}, \"type\": \"circle\", \"x0\": -2.1381150692883186, \"x1\": 2.6381150692883186, \"xref\": \"x\", \"y0\": 0.06188493071168155, \"y1\": 4.838115069288319, \"yref\": \"y\"}, {\"line\": {\"color\": \"rgba(127, 127, 127, 0.1)\", \"width\": 74.49966457479111}, \"type\": \"circle\", \"x0\": -0.2612251515424444, \"x1\": 2.4612251515424446, \"xref\": \"x\", \"y0\": 3.238774848457555, \"y1\": 5.961225151542444, \"yref\": \"y\"}, {\"line\": {\"width\": 2}, \"type\": \"circle\", \"x0\": -0.2612251515424444, \"x1\": 2.4612251515424446, \"xref\": \"x\", \"y0\": 3.238774848457555, \"y1\": 5.961225151542444, \"yref\": \"y\"}, {\"line\": {\"color\": \"rgba(127, 127, 127, 0.1)\", \"width\": 165.25565152663947}, \"type\": \"circle\", \"x0\": -0.11735230832166765, \"x1\": 5.717352308321667, \"xref\": \"x\", \"y0\": 1.6826476916783322, \"y1\": 7.517352308321668, \"yref\": \"y\"}, {\"line\": {\"width\": 2}, \"type\": \"circle\", \"x0\": -0.11735230832166765, \"x1\": 5.717352308321667, \"xref\": \"x\", \"y0\": 1.6826476916783322, \"y1\": 7.517352308321668, \"yref\": \"y\"}, {\"fillcolor\": \"#0000FF\", \"line\": {\"width\": 0}, \"type\": \"circle\", \"x0\": -0.1471620978498718, \"x1\": -0.09716209784987179, \"xref\": \"x\", \"y0\": 4.9705913949161475, \"y1\": 5.020591394916148, \"yref\": \"y\"}, {\"fillcolor\": \"#0000FF\", \"line\": {\"width\": 0}, \"type\": \"circle\", \"x0\": 0.7281198413129535, \"x1\": 0.7781198413129535, \"xref\": \"x\", \"y0\": 3.932466304281168, \"y1\": 3.982466304281168, \"yref\": \"y\"}, {\"fillcolor\": \"#0000FF\", \"line\": {\"width\": 0}, \"type\": \"circle\", \"x0\": -0.1471620978498718, \"x1\": -0.09716209784987179, \"xref\": \"x\", \"y0\": 4.443654101394926, \"y1\": 4.4936541013949265, \"yref\": \"y\"}, {\"fillcolor\": \"#0000FF\", \"line\": {\"width\": 0}, \"type\": \"circle\", \"x0\": 0.7281198413129535, \"x1\": 0.7781198413129535, \"xref\": \"x\", \"y0\": 3.4055290107599463, \"y1\": 3.455529010759946, \"yref\": \"y\"}, {\"fillcolor\": \"#0000FF\", \"line\": {\"width\": 0}, \"type\": \"circle\", \"x0\": 0.6726154048672868, \"x1\": 0.7226154048672868, \"xref\": \"x\", \"y0\": 4.646493312446573, \"y1\": 4.696493312446574, \"yref\": \"y\"}, {\"fillcolor\": \"#0000FF\", \"line\": {\"width\": 0}, \"type\": \"circle\", \"x0\": 1.5478973440301123, \"x1\": 1.597897344030112, \"xref\": \"x\", \"y0\": 3.608368221811594, \"y1\": 3.658368221811594, \"yref\": \"y\"}, {\"fillcolor\": \"#0000FF\", \"line\": {\"width\": 0}, \"type\": \"circle\", \"x0\": 0.6726154048672868, \"x1\": 0.7226154048672868, \"xref\": \"x\", \"y0\": 4.119556018925351, \"y1\": 4.169556018925352, \"yref\": \"y\"}, {\"fillcolor\": \"#0000FF\", \"line\": {\"width\": 0}, \"type\": \"circle\", \"x0\": 1.5478973440301123, \"x1\": 1.597897344030112, \"xref\": \"x\", \"y0\": 3.0814309282903722, \"y1\": 3.131430928290372, \"yref\": \"y\"}, {\"line\": {\"color\": \"#FF9999\", \"width\": 3}, \"type\": \"circle\", \"x0\": -1.439445667715925, \"x1\": 1.1951214720161814, \"xref\": \"x\", \"y0\": 3.6783078250500947, \"y1\": 6.312874964782202, \"yref\": \"y\"}, {\"fillcolor\": \"#FF9999\", \"line\": {\"width\": 0}, \"type\": \"circle\", \"x0\": -0.1471620978498718, \"x1\": -0.09716209784987179, \"xref\": \"x\", \"y0\": 4.9705913949161475, \"y1\": 5.020591394916148, \"yref\": \"y\"}, {\"line\": {\"color\": \"#FF0000\", \"width\": 4}, \"type\": \"circle\", \"x0\": 1.4713043354209385, \"x1\": 3.6481772796141594, \"xref\": \"x\", \"y0\": 0.5379295929699452, \"y1\": 2.714802537163166, \"yref\": \"y\"}, {\"fillcolor\": \"#FF0000\", \"line\": {\"width\": 0}, \"type\": \"circle\", \"x0\": 2.509740807517549, \"x1\": 2.6097408075175488, \"xref\": \"x\", \"y0\": 1.5763660650665556, \"y1\": 1.6763660650665557, \"yref\": \"y\"}], \"template\": {\"data\": {\"bar\": [{\"error_x\": {\"color\": \"#2a3f5f\"}, \"error_y\": {\"color\": \"#2a3f5f\"}, \"marker\": {\"line\": {\"color\": \"#E5ECF6\", \"width\": 0.5}}, \"type\": \"bar\"}], \"barpolar\": [{\"marker\": {\"line\": {\"color\": \"#E5ECF6\", \"width\": 0.5}}, \"type\": \"barpolar\"}], \"carpet\": [{\"aaxis\": {\"endlinecolor\": \"#2a3f5f\", \"gridcolor\": \"white\", \"linecolor\": \"white\", \"minorgridcolor\": \"white\", \"startlinecolor\": \"#2a3f5f\"}, \"baxis\": {\"endlinecolor\": \"#2a3f5f\", \"gridcolor\": \"white\", \"linecolor\": \"white\", \"minorgridcolor\": \"white\", \"startlinecolor\": \"#2a3f5f\"}, \"type\": \"carpet\"}], \"choropleth\": [{\"colorbar\": {\"outlinewidth\": 0, \"ticks\": \"\"}, \"type\": \"choropleth\"}], \"contour\": [{\"colorbar\": {\"outlinewidth\": 0, \"ticks\": \"\"}, \"colorscale\": [[0.0, \"#0d0887\"], [0.1111111111111111, \"#46039f\"], [0.2222222222222222, \"#7201a8\"], [0.3333333333333333, \"#9c179e\"], [0.4444444444444444, \"#bd3786\"], [0.5555555555555556, \"#d8576b\"], [0.6666666666666666, \"#ed7953\"], [0.7777777777777778, \"#fb9f3a\"], [0.8888888888888888, \"#fdca26\"], [1.0, \"#f0f921\"]], \"type\": \"contour\"}], \"contourcarpet\": [{\"colorbar\": {\"outlinewidth\": 0, \"ticks\": \"\"}, \"type\": \"contourcarpet\"}], \"heatmap\": [{\"colorbar\": {\"outlinewidth\": 0, \"ticks\": \"\"}, \"colorscale\": [[0.0, \"#0d0887\"], [0.1111111111111111, \"#46039f\"], [0.2222222222222222, \"#7201a8\"], [0.3333333333333333, \"#9c179e\"], [0.4444444444444444, \"#bd3786\"], [0.5555555555555556, \"#d8576b\"], [0.6666666666666666, \"#ed7953\"], [0.7777777777777778, \"#fb9f3a\"], [0.8888888888888888, \"#fdca26\"], [1.0, \"#f0f921\"]], \"type\": \"heatmap\"}], \"heatmapgl\": [{\"colorbar\": {\"outlinewidth\": 0, \"ticks\": \"\"}, \"colorscale\": [[0.0, \"#0d0887\"], [0.1111111111111111, \"#46039f\"], [0.2222222222222222, \"#7201a8\"], [0.3333333333333333, \"#9c179e\"], [0.4444444444444444, \"#bd3786\"], [0.5555555555555556, \"#d8576b\"], [0.6666666666666666, \"#ed7953\"], [0.7777777777777778, \"#fb9f3a\"], [0.8888888888888888, \"#fdca26\"], [1.0, \"#f0f921\"]], \"type\": \"heatmapgl\"}], \"histogram\": [{\"marker\": {\"colorbar\": {\"outlinewidth\": 0, \"ticks\": \"\"}}, \"type\": \"histogram\"}], \"histogram2d\": [{\"colorbar\": {\"outlinewidth\": 0, \"ticks\": \"\"}, \"colorscale\": [[0.0, \"#0d0887\"], [0.1111111111111111, \"#46039f\"], [0.2222222222222222, \"#7201a8\"], [0.3333333333333333, \"#9c179e\"], [0.4444444444444444, \"#bd3786\"], [0.5555555555555556, \"#d8576b\"], [0.6666666666666666, \"#ed7953\"], [0.7777777777777778, \"#fb9f3a\"], [0.8888888888888888, \"#fdca26\"], [1.0, \"#f0f921\"]], \"type\": \"histogram2d\"}], \"histogram2dcontour\": [{\"colorbar\": {\"outlinewidth\": 0, \"ticks\": \"\"}, \"colorscale\": [[0.0, \"#0d0887\"], [0.1111111111111111, \"#46039f\"], [0.2222222222222222, \"#7201a8\"], [0.3333333333333333, \"#9c179e\"], [0.4444444444444444, \"#bd3786\"], [0.5555555555555556, \"#d8576b\"], [0.6666666666666666, \"#ed7953\"], [0.7777777777777778, \"#fb9f3a\"], [0.8888888888888888, \"#fdca26\"], [1.0, \"#f0f921\"]], \"type\": \"histogram2dcontour\"}], \"mesh3d\": [{\"colorbar\": {\"outlinewidth\": 0, \"ticks\": \"\"}, \"type\": \"mesh3d\"}], \"parcoords\": [{\"line\": {\"colorbar\": {\"outlinewidth\": 0, \"ticks\": \"\"}}, \"type\": \"parcoords\"}], \"pie\": [{\"automargin\": true, \"type\": \"pie\"}], \"scatter\": [{\"marker\": {\"colorbar\": {\"outlinewidth\": 0, \"ticks\": \"\"}}, \"type\": \"scatter\"}], \"scatter3d\": [{\"line\": {\"colorbar\": {\"outlinewidth\": 0, \"ticks\": \"\"}}, \"marker\": {\"colorbar\": {\"outlinewidth\": 0, \"ticks\": \"\"}}, \"type\": \"scatter3d\"}], \"scattercarpet\": [{\"marker\": {\"colorbar\": {\"outlinewidth\": 0, \"ticks\": \"\"}}, \"type\": \"scattercarpet\"}], \"scattergeo\": [{\"marker\": {\"colorbar\": {\"outlinewidth\": 0, \"ticks\": \"\"}}, \"type\": \"scattergeo\"}], \"scattergl\": [{\"marker\": {\"colorbar\": {\"outlinewidth\": 0, \"ticks\": \"\"}}, \"type\": \"scattergl\"}], \"scattermapbox\": [{\"marker\": {\"colorbar\": {\"outlinewidth\": 0, \"ticks\": \"\"}}, \"type\": \"scattermapbox\"}], \"scatterpolar\": [{\"marker\": {\"colorbar\": {\"outlinewidth\": 0, \"ticks\": \"\"}}, \"type\": \"scatterpolar\"}], \"scatterpolargl\": [{\"marker\": {\"colorbar\": {\"outlinewidth\": 0, \"ticks\": \"\"}}, \"type\": \"scatterpolargl\"}], \"scatterternary\": [{\"marker\": {\"colorbar\": {\"outlinewidth\": 0, \"ticks\": \"\"}}, \"type\": \"scatterternary\"}], \"surface\": [{\"colorbar\": {\"outlinewidth\": 0, \"ticks\": \"\"}, \"colorscale\": [[0.0, \"#0d0887\"], [0.1111111111111111, \"#46039f\"], [0.2222222222222222, \"#7201a8\"], [0.3333333333333333, \"#9c179e\"], [0.4444444444444444, \"#bd3786\"], [0.5555555555555556, \"#d8576b\"], [0.6666666666666666, \"#ed7953\"], [0.7777777777777778, \"#fb9f3a\"], [0.8888888888888888, \"#fdca26\"], [1.0, \"#f0f921\"]], \"type\": \"surface\"}], \"table\": [{\"cells\": {\"fill\": {\"color\": \"#EBF0F8\"}, \"line\": {\"color\": \"white\"}}, \"header\": {\"fill\": {\"color\": \"#C8D4E3\"}, \"line\": {\"color\": \"white\"}}, \"type\": \"table\"}]}, \"layout\": {\"annotationdefaults\": {\"arrowcolor\": \"#2a3f5f\", \"arrowhead\": 0, \"arrowwidth\": 1}, \"coloraxis\": {\"colorbar\": {\"outlinewidth\": 0, \"ticks\": \"\"}}, \"colorscale\": {\"diverging\": [[0, \"#8e0152\"], [0.1, \"#c51b7d\"], [0.2, \"#de77ae\"], [0.3, \"#f1b6da\"], [0.4, \"#fde0ef\"], [0.5, \"#f7f7f7\"], [0.6, \"#e6f5d0\"], [0.7, \"#b8e186\"], [0.8, \"#7fbc41\"], [0.9, \"#4d9221\"], [1, \"#276419\"]], \"sequential\": [[0.0, \"#0d0887\"], [0.1111111111111111, \"#46039f\"], [0.2222222222222222, \"#7201a8\"], [0.3333333333333333, \"#9c179e\"], [0.4444444444444444, \"#bd3786\"], [0.5555555555555556, \"#d8576b\"], [0.6666666666666666, \"#ed7953\"], [0.7777777777777778, \"#fb9f3a\"], [0.8888888888888888, \"#fdca26\"], [1.0, \"#f0f921\"]], \"sequentialminus\": [[0.0, \"#0d0887\"], [0.1111111111111111, \"#46039f\"], [0.2222222222222222, \"#7201a8\"], [0.3333333333333333, \"#9c179e\"], [0.4444444444444444, \"#bd3786\"], [0.5555555555555556, \"#d8576b\"], [0.6666666666666666, \"#ed7953\"], [0.7777777777777778, \"#fb9f3a\"], [0.8888888888888888, \"#fdca26\"], [1.0, \"#f0f921\"]]}, \"colorway\": [\"#636efa\", \"#EF553B\", \"#00cc96\", \"#ab63fa\", \"#FFA15A\", \"#19d3f3\", \"#FF6692\", \"#B6E880\", \"#FF97FF\", \"#FECB52\"], \"font\": {\"color\": \"#2a3f5f\"}, \"geo\": {\"bgcolor\": \"white\", \"lakecolor\": \"white\", \"landcolor\": \"#E5ECF6\", \"showlakes\": true, \"showland\": true, \"subunitcolor\": \"white\"}, \"hoverlabel\": {\"align\": \"left\"}, \"hovermode\": \"closest\", \"mapbox\": {\"style\": \"light\"}, \"paper_bgcolor\": \"white\", \"plot_bgcolor\": \"#E5ECF6\", \"polar\": {\"angularaxis\": {\"gridcolor\": \"white\", \"linecolor\": \"white\", \"ticks\": \"\"}, \"bgcolor\": \"#E5ECF6\", \"radialaxis\": {\"gridcolor\": \"white\", \"linecolor\": \"white\", \"ticks\": \"\"}}, \"scene\": {\"xaxis\": {\"backgroundcolor\": \"#E5ECF6\", \"gridcolor\": \"white\", \"gridwidth\": 2, \"linecolor\": \"white\", \"showbackground\": true, \"ticks\": \"\", \"zerolinecolor\": \"white\"}, \"yaxis\": {\"backgroundcolor\": \"#E5ECF6\", \"gridcolor\": \"white\", \"gridwidth\": 2, \"linecolor\": \"white\", \"showbackground\": true, \"ticks\": \"\", \"zerolinecolor\": \"white\"}, \"zaxis\": {\"backgroundcolor\": \"#E5ECF6\", \"gridcolor\": \"white\", \"gridwidth\": 2, \"linecolor\": \"white\", \"showbackground\": true, \"ticks\": \"\", \"zerolinecolor\": \"white\"}}, \"shapedefaults\": {\"line\": {\"color\": \"#2a3f5f\"}}, \"ternary\": {\"aaxis\": {\"gridcolor\": \"white\", \"linecolor\": \"white\", \"ticks\": \"\"}, \"baxis\": {\"gridcolor\": \"white\", \"linecolor\": \"white\", \"ticks\": \"\"}, \"bgcolor\": \"#E5ECF6\", \"caxis\": {\"gridcolor\": \"white\", \"linecolor\": \"white\", \"ticks\": \"\"}}, \"title\": {\"x\": 0.05}, \"xaxis\": {\"automargin\": true, \"gridcolor\": \"white\", \"linecolor\": \"white\", \"ticks\": \"\", \"title\": {\"standoff\": 15}, \"zerolinecolor\": \"white\", \"zerolinewidth\": 2}, \"yaxis\": {\"automargin\": true, \"gridcolor\": \"white\", \"linecolor\": \"white\", \"ticks\": \"\", \"title\": {\"standoff\": 15}, \"zerolinecolor\": \"white\", \"zerolinewidth\": 2}}}, \"width\": 800, \"xaxis\": {\"range\": [-1, 5], \"zeroline\": false}, \"yaxis\": {\"range\": [-1, 5]}},\n",
       "                        {\"responsive\": true}\n",
       "                    ).then(function(){\n",
       "                            \n",
       "var gd = document.getElementById('30814ba0-bbe7-4cad-941a-8157134d65be');\n",
       "var x = new MutationObserver(function (mutations, observer) {{\n",
       "        var display = window.getComputedStyle(gd).display;\n",
       "        if (!display || display === 'none') {{\n",
       "            console.log([gd, 'removed!']);\n",
       "            Plotly.purge(gd);\n",
       "            observer.disconnect();\n",
       "        }}\n",
       "}});\n",
       "\n",
       "// Listen for the removal of the full notebook cells\n",
       "var notebookContainer = gd.closest('#notebook-container');\n",
       "if (notebookContainer) {{\n",
       "    x.observe(notebookContainer, {childList: true});\n",
       "}}\n",
       "\n",
       "// Listen for the clearing of the current output cell\n",
       "var outputEl = gd.closest('.output');\n",
       "if (outputEl) {{\n",
       "    x.observe(outputEl, {childList: true});\n",
       "}}\n",
       "\n",
       "                        })\n",
       "                };\n",
       "                });\n",
       "            </script>\n",
       "        </div>"
      ]
     },
     "metadata": {},
     "output_type": "display_data"
    }
   ],
   "source": [
    "%run trilateration_sandbox"
   ]
  },
  {
   "cell_type": "code",
   "execution_count": null,
   "metadata": {},
   "outputs": [],
   "source": []
  }
 ],
 "metadata": {
  "kernelspec": {
   "display_name": "Python 3",
   "language": "python",
   "name": "python3"
  },
  "language_info": {
   "codemirror_mode": {
    "name": "ipython",
    "version": 3
   },
   "file_extension": ".py",
   "mimetype": "text/x-python",
   "name": "python",
   "nbconvert_exporter": "python",
   "pygments_lexer": "ipython3",
   "version": "3.7.3"
  }
 },
 "nbformat": 4,
 "nbformat_minor": 2
}
