{
 "cells": [
  {
   "cell_type": "code",
   "execution_count": 37,
   "metadata": {},
   "outputs": [
    {
     "name": "stdout",
     "output_type": "stream",
     "text": [
      "0 10:12:47\n",
      "1 10:18:24\n",
      "2 10:21:24\n",
      "3 10:32:49\n",
      "4 10:37:40\n",
      "5 10:47:49\n",
      "6 10:52:49\n",
      "7 10:54:28\n",
      "8 10:59:03\n",
      "9 11:07:13\n",
      "10 11:15:02\n",
      "11 11:20:14\n"
     ]
    },
    {
     "data": {
      "application/vnd.plotly.v1+json": {
       "config": {
        "plotlyServerURL": "https://plot.ly"
       },
       "data": [
        {
         "mode": "text",
         "text": [
          "aa:69",
          "a4:a8",
          "d9:ab",
          "95:51"
         ],
         "type": "scatter",
         "x": [
          0.25,
          1.1,
          2.8,
          3.1
         ],
         "y": [
          2.5500000000000003,
          4.699999999999999,
          4.699999999999999,
          0.9
         ]
        }
       ],
       "layout": {
        "height": 800,
        "shapes": [
         {
          "fillcolor": "#002200",
          "line": {
           "width": 0
          },
          "type": "circle",
          "x0": 0.2,
          "x1": 0.3,
          "xref": "x",
          "y0": 2.4000000000000004,
          "y1": 2.5,
          "yref": "y"
         },
         {
          "fillcolor": "#002200",
          "line": {
           "width": 0
          },
          "type": "circle",
          "x0": 1.05,
          "x1": 1.1500000000000001,
          "xref": "x",
          "y0": 4.55,
          "y1": 4.6499999999999995,
          "yref": "y"
         },
         {
          "fillcolor": "#002200",
          "line": {
           "width": 0
          },
          "type": "circle",
          "x0": 2.75,
          "x1": 2.8499999999999996,
          "xref": "x",
          "y0": 4.55,
          "y1": 4.6499999999999995,
          "yref": "y"
         },
         {
          "fillcolor": "#002200",
          "line": {
           "width": 0
          },
          "type": "circle",
          "x0": 3.0500000000000003,
          "x1": 3.15,
          "xref": "x",
          "y0": 0.75,
          "y1": 0.8500000000000001,
          "yref": "y"
         },
         {
          "line": {
           "color": "#AAAAFF",
           "width": 1
          },
          "type": "rect",
          "x0": 0,
          "x1": 3.4,
          "xref": "x",
          "y0": 0,
          "y1": 4.6,
          "yref": "y"
         },
         {
          "line": {
           "color": "#00BB00",
           "width": 2
          },
          "type": "line",
          "x0": 1.4,
          "x1": 1.6,
          "y0": 0,
          "y1": 0
         },
         {
          "line": {
           "color": "#00BB00",
           "width": 2
          },
          "type": "line",
          "x0": 1.5,
          "x1": 1.5,
          "y0": -0.1,
          "y1": 0.1
         },
         {
          "line": {
           "color": "#00FF00",
           "width": 1
          },
          "type": "circle",
          "x0": -1.1565998101022665,
          "x1": 7.406261988403882,
          "xref": "x",
          "y0": -2.5135989658829265,
          "y1": 6.049262832623222,
          "yref": "y"
         },
         {
          "fillcolor": "#00FF00",
          "line": {
           "width": 0
          },
          "type": "circle",
          "x0": 3.0748310891508077,
          "x1": 3.1748310891508074,
          "xref": "x",
          "y0": 1.7178319333701473,
          "y1": 1.8178319333701474,
          "yref": "y"
         },
         {
          "line": {
           "color": "#00FF00",
           "width": 1
          },
          "type": "circle",
          "x0": -2.8999999999999995,
          "x1": 6.3,
          "xref": "x",
          "y0": -2.3,
          "y1": 6.8999999999999995,
          "yref": "y"
         },
         {
          "fillcolor": "#00FF00",
          "line": {
           "width": 0
          },
          "type": "circle",
          "x0": 1.65,
          "x1": 1.75,
          "xref": "x",
          "y0": 2.25,
          "y1": 2.3499999999999996,
          "yref": "y"
         },
         {
          "line": {
           "color": "#00FF00",
           "width": 1
          },
          "type": "circle",
          "x0": -4.507385946655228,
          "x1": 6.5887842975022775,
          "xref": "x",
          "y0": -3.8823711470046014,
          "y1": 7.213799097152904,
          "yref": "y"
         },
         {
          "fillcolor": "#00FF00",
          "line": {
           "width": 0
          },
          "type": "circle",
          "x0": 0.9906991754235244,
          "x1": 1.0906991754235245,
          "xref": "x",
          "y0": 1.6157139750741514,
          "y1": 1.7157139750741515,
          "yref": "y"
         },
         {
          "line": {
           "color": "#00FF00",
           "width": 1
          },
          "type": "circle",
          "x0": -2.8999999999999995,
          "x1": 6.3,
          "xref": "x",
          "y0": -2.3,
          "y1": 6.8999999999999995,
          "yref": "y"
         },
         {
          "fillcolor": "#00FF00",
          "line": {
           "width": 0
          },
          "type": "circle",
          "x0": 1.65,
          "x1": 1.75,
          "xref": "x",
          "y0": 2.25,
          "y1": 2.3499999999999996,
          "yref": "y"
         },
         {
          "line": {
           "color": "#00FF00",
           "width": 1
          },
          "type": "circle",
          "x0": -2.8999999999999995,
          "x1": 6.3,
          "xref": "x",
          "y0": -2.3,
          "y1": 6.8999999999999995,
          "yref": "y"
         },
         {
          "fillcolor": "#00FF00",
          "line": {
           "width": 0
          },
          "type": "circle",
          "x0": 1.65,
          "x1": 1.75,
          "xref": "x",
          "y0": 2.25,
          "y1": 2.3499999999999996,
          "yref": "y"
         },
         {
          "line": {
           "color": "#00FF00",
           "width": 1
          },
          "type": "circle",
          "x0": -1.5927031387216992,
          "x1": 8.366282907635675,
          "xref": "x",
          "y0": -2.4123263985037333,
          "y1": 7.546659647853641,
          "yref": "y"
         },
         {
          "fillcolor": "#00FF00",
          "line": {
           "width": 0
          },
          "type": "circle",
          "x0": 3.336789884456988,
          "x1": 3.4367898844569877,
          "xref": "x",
          "y0": 2.517166624674954,
          "y1": 2.6171666246749536,
          "yref": "y"
         },
         {
          "line": {
           "color": "#00FF00",
           "width": 1
          },
          "type": "circle",
          "x0": 0.8031524275601982,
          "x1": 5.071741680702377,
          "xref": "x",
          "y0": -1.154428167723609,
          "y1": 3.1141610854185706,
          "yref": "y"
         },
         {
          "fillcolor": "#00FF00",
          "line": {
           "width": 0
          },
          "type": "circle",
          "x0": 2.887447054131288,
          "x1": 2.987447054131288,
          "xref": "x",
          "y0": 0.9298664588474809,
          "y1": 1.0298664588474808,
          "yref": "y"
         },
         {
          "line": {
           "color": "#FF0000",
           "width": 1
          },
          "type": "circle",
          "x0": 1.9172373884076073,
          "x1": 4.6401680431830234,
          "xref": "x",
          "y0": 0.48974505034156657,
          "y1": 3.212675705116983,
          "yref": "y"
         },
         {
          "fillcolor": "#FF0000",
          "line": {
           "width": 0
          },
          "type": "circle",
          "x0": 3.2287027157953156,
          "x1": 3.3287027157953153,
          "xref": "x",
          "y0": 1.8012103777292747,
          "y1": 1.9012103777292748,
          "yref": "y"
         }
        ],
        "template": {
         "data": {
          "bar": [
           {
            "error_x": {
             "color": "#2a3f5f"
            },
            "error_y": {
             "color": "#2a3f5f"
            },
            "marker": {
             "line": {
              "color": "#E5ECF6",
              "width": 0.5
             }
            },
            "type": "bar"
           }
          ],
          "barpolar": [
           {
            "marker": {
             "line": {
              "color": "#E5ECF6",
              "width": 0.5
             }
            },
            "type": "barpolar"
           }
          ],
          "carpet": [
           {
            "aaxis": {
             "endlinecolor": "#2a3f5f",
             "gridcolor": "white",
             "linecolor": "white",
             "minorgridcolor": "white",
             "startlinecolor": "#2a3f5f"
            },
            "baxis": {
             "endlinecolor": "#2a3f5f",
             "gridcolor": "white",
             "linecolor": "white",
             "minorgridcolor": "white",
             "startlinecolor": "#2a3f5f"
            },
            "type": "carpet"
           }
          ],
          "choropleth": [
           {
            "colorbar": {
             "outlinewidth": 0,
             "ticks": ""
            },
            "type": "choropleth"
           }
          ],
          "contour": [
           {
            "colorbar": {
             "outlinewidth": 0,
             "ticks": ""
            },
            "colorscale": [
             [
              0,
              "#0d0887"
             ],
             [
              0.1111111111111111,
              "#46039f"
             ],
             [
              0.2222222222222222,
              "#7201a8"
             ],
             [
              0.3333333333333333,
              "#9c179e"
             ],
             [
              0.4444444444444444,
              "#bd3786"
             ],
             [
              0.5555555555555556,
              "#d8576b"
             ],
             [
              0.6666666666666666,
              "#ed7953"
             ],
             [
              0.7777777777777778,
              "#fb9f3a"
             ],
             [
              0.8888888888888888,
              "#fdca26"
             ],
             [
              1,
              "#f0f921"
             ]
            ],
            "type": "contour"
           }
          ],
          "contourcarpet": [
           {
            "colorbar": {
             "outlinewidth": 0,
             "ticks": ""
            },
            "type": "contourcarpet"
           }
          ],
          "heatmap": [
           {
            "colorbar": {
             "outlinewidth": 0,
             "ticks": ""
            },
            "colorscale": [
             [
              0,
              "#0d0887"
             ],
             [
              0.1111111111111111,
              "#46039f"
             ],
             [
              0.2222222222222222,
              "#7201a8"
             ],
             [
              0.3333333333333333,
              "#9c179e"
             ],
             [
              0.4444444444444444,
              "#bd3786"
             ],
             [
              0.5555555555555556,
              "#d8576b"
             ],
             [
              0.6666666666666666,
              "#ed7953"
             ],
             [
              0.7777777777777778,
              "#fb9f3a"
             ],
             [
              0.8888888888888888,
              "#fdca26"
             ],
             [
              1,
              "#f0f921"
             ]
            ],
            "type": "heatmap"
           }
          ],
          "heatmapgl": [
           {
            "colorbar": {
             "outlinewidth": 0,
             "ticks": ""
            },
            "colorscale": [
             [
              0,
              "#0d0887"
             ],
             [
              0.1111111111111111,
              "#46039f"
             ],
             [
              0.2222222222222222,
              "#7201a8"
             ],
             [
              0.3333333333333333,
              "#9c179e"
             ],
             [
              0.4444444444444444,
              "#bd3786"
             ],
             [
              0.5555555555555556,
              "#d8576b"
             ],
             [
              0.6666666666666666,
              "#ed7953"
             ],
             [
              0.7777777777777778,
              "#fb9f3a"
             ],
             [
              0.8888888888888888,
              "#fdca26"
             ],
             [
              1,
              "#f0f921"
             ]
            ],
            "type": "heatmapgl"
           }
          ],
          "histogram": [
           {
            "marker": {
             "colorbar": {
              "outlinewidth": 0,
              "ticks": ""
             }
            },
            "type": "histogram"
           }
          ],
          "histogram2d": [
           {
            "colorbar": {
             "outlinewidth": 0,
             "ticks": ""
            },
            "colorscale": [
             [
              0,
              "#0d0887"
             ],
             [
              0.1111111111111111,
              "#46039f"
             ],
             [
              0.2222222222222222,
              "#7201a8"
             ],
             [
              0.3333333333333333,
              "#9c179e"
             ],
             [
              0.4444444444444444,
              "#bd3786"
             ],
             [
              0.5555555555555556,
              "#d8576b"
             ],
             [
              0.6666666666666666,
              "#ed7953"
             ],
             [
              0.7777777777777778,
              "#fb9f3a"
             ],
             [
              0.8888888888888888,
              "#fdca26"
             ],
             [
              1,
              "#f0f921"
             ]
            ],
            "type": "histogram2d"
           }
          ],
          "histogram2dcontour": [
           {
            "colorbar": {
             "outlinewidth": 0,
             "ticks": ""
            },
            "colorscale": [
             [
              0,
              "#0d0887"
             ],
             [
              0.1111111111111111,
              "#46039f"
             ],
             [
              0.2222222222222222,
              "#7201a8"
             ],
             [
              0.3333333333333333,
              "#9c179e"
             ],
             [
              0.4444444444444444,
              "#bd3786"
             ],
             [
              0.5555555555555556,
              "#d8576b"
             ],
             [
              0.6666666666666666,
              "#ed7953"
             ],
             [
              0.7777777777777778,
              "#fb9f3a"
             ],
             [
              0.8888888888888888,
              "#fdca26"
             ],
             [
              1,
              "#f0f921"
             ]
            ],
            "type": "histogram2dcontour"
           }
          ],
          "mesh3d": [
           {
            "colorbar": {
             "outlinewidth": 0,
             "ticks": ""
            },
            "type": "mesh3d"
           }
          ],
          "parcoords": [
           {
            "line": {
             "colorbar": {
              "outlinewidth": 0,
              "ticks": ""
             }
            },
            "type": "parcoords"
           }
          ],
          "pie": [
           {
            "automargin": true,
            "type": "pie"
           }
          ],
          "scatter": [
           {
            "marker": {
             "colorbar": {
              "outlinewidth": 0,
              "ticks": ""
             }
            },
            "type": "scatter"
           }
          ],
          "scatter3d": [
           {
            "line": {
             "colorbar": {
              "outlinewidth": 0,
              "ticks": ""
             }
            },
            "marker": {
             "colorbar": {
              "outlinewidth": 0,
              "ticks": ""
             }
            },
            "type": "scatter3d"
           }
          ],
          "scattercarpet": [
           {
            "marker": {
             "colorbar": {
              "outlinewidth": 0,
              "ticks": ""
             }
            },
            "type": "scattercarpet"
           }
          ],
          "scattergeo": [
           {
            "marker": {
             "colorbar": {
              "outlinewidth": 0,
              "ticks": ""
             }
            },
            "type": "scattergeo"
           }
          ],
          "scattergl": [
           {
            "marker": {
             "colorbar": {
              "outlinewidth": 0,
              "ticks": ""
             }
            },
            "type": "scattergl"
           }
          ],
          "scattermapbox": [
           {
            "marker": {
             "colorbar": {
              "outlinewidth": 0,
              "ticks": ""
             }
            },
            "type": "scattermapbox"
           }
          ],
          "scatterpolar": [
           {
            "marker": {
             "colorbar": {
              "outlinewidth": 0,
              "ticks": ""
             }
            },
            "type": "scatterpolar"
           }
          ],
          "scatterpolargl": [
           {
            "marker": {
             "colorbar": {
              "outlinewidth": 0,
              "ticks": ""
             }
            },
            "type": "scatterpolargl"
           }
          ],
          "scatterternary": [
           {
            "marker": {
             "colorbar": {
              "outlinewidth": 0,
              "ticks": ""
             }
            },
            "type": "scatterternary"
           }
          ],
          "surface": [
           {
            "colorbar": {
             "outlinewidth": 0,
             "ticks": ""
            },
            "colorscale": [
             [
              0,
              "#0d0887"
             ],
             [
              0.1111111111111111,
              "#46039f"
             ],
             [
              0.2222222222222222,
              "#7201a8"
             ],
             [
              0.3333333333333333,
              "#9c179e"
             ],
             [
              0.4444444444444444,
              "#bd3786"
             ],
             [
              0.5555555555555556,
              "#d8576b"
             ],
             [
              0.6666666666666666,
              "#ed7953"
             ],
             [
              0.7777777777777778,
              "#fb9f3a"
             ],
             [
              0.8888888888888888,
              "#fdca26"
             ],
             [
              1,
              "#f0f921"
             ]
            ],
            "type": "surface"
           }
          ],
          "table": [
           {
            "cells": {
             "fill": {
              "color": "#EBF0F8"
             },
             "line": {
              "color": "white"
             }
            },
            "header": {
             "fill": {
              "color": "#C8D4E3"
             },
             "line": {
              "color": "white"
             }
            },
            "type": "table"
           }
          ]
         },
         "layout": {
          "annotationdefaults": {
           "arrowcolor": "#2a3f5f",
           "arrowhead": 0,
           "arrowwidth": 1
          },
          "coloraxis": {
           "colorbar": {
            "outlinewidth": 0,
            "ticks": ""
           }
          },
          "colorscale": {
           "diverging": [
            [
             0,
             "#8e0152"
            ],
            [
             0.1,
             "#c51b7d"
            ],
            [
             0.2,
             "#de77ae"
            ],
            [
             0.3,
             "#f1b6da"
            ],
            [
             0.4,
             "#fde0ef"
            ],
            [
             0.5,
             "#f7f7f7"
            ],
            [
             0.6,
             "#e6f5d0"
            ],
            [
             0.7,
             "#b8e186"
            ],
            [
             0.8,
             "#7fbc41"
            ],
            [
             0.9,
             "#4d9221"
            ],
            [
             1,
             "#276419"
            ]
           ],
           "sequential": [
            [
             0,
             "#0d0887"
            ],
            [
             0.1111111111111111,
             "#46039f"
            ],
            [
             0.2222222222222222,
             "#7201a8"
            ],
            [
             0.3333333333333333,
             "#9c179e"
            ],
            [
             0.4444444444444444,
             "#bd3786"
            ],
            [
             0.5555555555555556,
             "#d8576b"
            ],
            [
             0.6666666666666666,
             "#ed7953"
            ],
            [
             0.7777777777777778,
             "#fb9f3a"
            ],
            [
             0.8888888888888888,
             "#fdca26"
            ],
            [
             1,
             "#f0f921"
            ]
           ],
           "sequentialminus": [
            [
             0,
             "#0d0887"
            ],
            [
             0.1111111111111111,
             "#46039f"
            ],
            [
             0.2222222222222222,
             "#7201a8"
            ],
            [
             0.3333333333333333,
             "#9c179e"
            ],
            [
             0.4444444444444444,
             "#bd3786"
            ],
            [
             0.5555555555555556,
             "#d8576b"
            ],
            [
             0.6666666666666666,
             "#ed7953"
            ],
            [
             0.7777777777777778,
             "#fb9f3a"
            ],
            [
             0.8888888888888888,
             "#fdca26"
            ],
            [
             1,
             "#f0f921"
            ]
           ]
          },
          "colorway": [
           "#636efa",
           "#EF553B",
           "#00cc96",
           "#ab63fa",
           "#FFA15A",
           "#19d3f3",
           "#FF6692",
           "#B6E880",
           "#FF97FF",
           "#FECB52"
          ],
          "font": {
           "color": "#2a3f5f"
          },
          "geo": {
           "bgcolor": "white",
           "lakecolor": "white",
           "landcolor": "#E5ECF6",
           "showlakes": true,
           "showland": true,
           "subunitcolor": "white"
          },
          "hoverlabel": {
           "align": "left"
          },
          "hovermode": "closest",
          "mapbox": {
           "style": "light"
          },
          "paper_bgcolor": "white",
          "plot_bgcolor": "#E5ECF6",
          "polar": {
           "angularaxis": {
            "gridcolor": "white",
            "linecolor": "white",
            "ticks": ""
           },
           "bgcolor": "#E5ECF6",
           "radialaxis": {
            "gridcolor": "white",
            "linecolor": "white",
            "ticks": ""
           }
          },
          "scene": {
           "xaxis": {
            "backgroundcolor": "#E5ECF6",
            "gridcolor": "white",
            "gridwidth": 2,
            "linecolor": "white",
            "showbackground": true,
            "ticks": "",
            "zerolinecolor": "white"
           },
           "yaxis": {
            "backgroundcolor": "#E5ECF6",
            "gridcolor": "white",
            "gridwidth": 2,
            "linecolor": "white",
            "showbackground": true,
            "ticks": "",
            "zerolinecolor": "white"
           },
           "zaxis": {
            "backgroundcolor": "#E5ECF6",
            "gridcolor": "white",
            "gridwidth": 2,
            "linecolor": "white",
            "showbackground": true,
            "ticks": "",
            "zerolinecolor": "white"
           }
          },
          "shapedefaults": {
           "line": {
            "color": "#2a3f5f"
           }
          },
          "ternary": {
           "aaxis": {
            "gridcolor": "white",
            "linecolor": "white",
            "ticks": ""
           },
           "baxis": {
            "gridcolor": "white",
            "linecolor": "white",
            "ticks": ""
           },
           "bgcolor": "#E5ECF6",
           "caxis": {
            "gridcolor": "white",
            "linecolor": "white",
            "ticks": ""
           }
          },
          "title": {
           "x": 0.05
          },
          "xaxis": {
           "automargin": true,
           "gridcolor": "white",
           "linecolor": "white",
           "ticks": "",
           "title": {
            "standoff": 15
           },
           "zerolinecolor": "white",
           "zerolinewidth": 2
          },
          "yaxis": {
           "automargin": true,
           "gridcolor": "white",
           "linecolor": "white",
           "ticks": "",
           "title": {
            "standoff": 15
           },
           "zerolinecolor": "white",
           "zerolinewidth": 2
          }
         }
        },
        "width": 800,
        "xaxis": {
         "range": [
          -1,
          5
         ],
         "zeroline": false
        },
        "yaxis": {
         "range": [
          -1,
          5
         ]
        }
       }
      },
      "text/html": [
       "<div>\n",
       "        \n",
       "        \n",
       "            <div id=\"69b9ee57-f368-47b8-8ba8-0d884c8a59d4\" class=\"plotly-graph-div\" style=\"height:800px; width:800px;\"></div>\n",
       "            <script type=\"text/javascript\">\n",
       "                require([\"plotly\"], function(Plotly) {\n",
       "                    window.PLOTLYENV=window.PLOTLYENV || {};\n",
       "                    \n",
       "                if (document.getElementById(\"69b9ee57-f368-47b8-8ba8-0d884c8a59d4\")) {\n",
       "                    Plotly.newPlot(\n",
       "                        '69b9ee57-f368-47b8-8ba8-0d884c8a59d4',\n",
       "                        [{\"mode\": \"text\", \"text\": [\"aa:69\", \"a4:a8\", \"d9:ab\", \"95:51\"], \"type\": \"scatter\", \"x\": [0.25, 1.1, 2.8, 3.1], \"y\": [2.5500000000000003, 4.699999999999999, 4.699999999999999, 0.9]}],\n",
       "                        {\"height\": 800, \"shapes\": [{\"fillcolor\": \"#002200\", \"line\": {\"width\": 0}, \"type\": \"circle\", \"x0\": 0.2, \"x1\": 0.3, \"xref\": \"x\", \"y0\": 2.4000000000000004, \"y1\": 2.5, \"yref\": \"y\"}, {\"fillcolor\": \"#002200\", \"line\": {\"width\": 0}, \"type\": \"circle\", \"x0\": 1.05, \"x1\": 1.1500000000000001, \"xref\": \"x\", \"y0\": 4.55, \"y1\": 4.6499999999999995, \"yref\": \"y\"}, {\"fillcolor\": \"#002200\", \"line\": {\"width\": 0}, \"type\": \"circle\", \"x0\": 2.75, \"x1\": 2.8499999999999996, \"xref\": \"x\", \"y0\": 4.55, \"y1\": 4.6499999999999995, \"yref\": \"y\"}, {\"fillcolor\": \"#002200\", \"line\": {\"width\": 0}, \"type\": \"circle\", \"x0\": 3.0500000000000003, \"x1\": 3.15, \"xref\": \"x\", \"y0\": 0.75, \"y1\": 0.8500000000000001, \"yref\": \"y\"}, {\"line\": {\"color\": \"#AAAAFF\", \"width\": 1}, \"type\": \"rect\", \"x0\": 0, \"x1\": 3.4, \"xref\": \"x\", \"y0\": 0, \"y1\": 4.6, \"yref\": \"y\"}, {\"line\": {\"color\": \"#00BB00\", \"width\": 2}, \"type\": \"line\", \"x0\": 1.4, \"x1\": 1.6, \"y0\": 0.0, \"y1\": 0.0}, {\"line\": {\"color\": \"#00BB00\", \"width\": 2}, \"type\": \"line\", \"x0\": 1.5, \"x1\": 1.5, \"y0\": -0.1, \"y1\": 0.1}, {\"line\": {\"color\": \"#00FF00\", \"width\": 1}, \"type\": \"circle\", \"x0\": -1.1565998101022665, \"x1\": 7.406261988403882, \"xref\": \"x\", \"y0\": -2.5135989658829265, \"y1\": 6.049262832623222, \"yref\": \"y\"}, {\"fillcolor\": \"#00FF00\", \"line\": {\"width\": 0}, \"type\": \"circle\", \"x0\": 3.0748310891508077, \"x1\": 3.1748310891508074, \"xref\": \"x\", \"y0\": 1.7178319333701473, \"y1\": 1.8178319333701474, \"yref\": \"y\"}, {\"line\": {\"color\": \"#00FF00\", \"width\": 1}, \"type\": \"circle\", \"x0\": -2.8999999999999995, \"x1\": 6.3, \"xref\": \"x\", \"y0\": -2.3, \"y1\": 6.8999999999999995, \"yref\": \"y\"}, {\"fillcolor\": \"#00FF00\", \"line\": {\"width\": 0}, \"type\": \"circle\", \"x0\": 1.65, \"x1\": 1.75, \"xref\": \"x\", \"y0\": 2.25, \"y1\": 2.3499999999999996, \"yref\": \"y\"}, {\"line\": {\"color\": \"#00FF00\", \"width\": 1}, \"type\": \"circle\", \"x0\": -4.507385946655228, \"x1\": 6.5887842975022775, \"xref\": \"x\", \"y0\": -3.8823711470046014, \"y1\": 7.213799097152904, \"yref\": \"y\"}, {\"fillcolor\": \"#00FF00\", \"line\": {\"width\": 0}, \"type\": \"circle\", \"x0\": 0.9906991754235244, \"x1\": 1.0906991754235245, \"xref\": \"x\", \"y0\": 1.6157139750741514, \"y1\": 1.7157139750741515, \"yref\": \"y\"}, {\"line\": {\"color\": \"#00FF00\", \"width\": 1}, \"type\": \"circle\", \"x0\": -2.8999999999999995, \"x1\": 6.3, \"xref\": \"x\", \"y0\": -2.3, \"y1\": 6.8999999999999995, \"yref\": \"y\"}, {\"fillcolor\": \"#00FF00\", \"line\": {\"width\": 0}, \"type\": \"circle\", \"x0\": 1.65, \"x1\": 1.75, \"xref\": \"x\", \"y0\": 2.25, \"y1\": 2.3499999999999996, \"yref\": \"y\"}, {\"line\": {\"color\": \"#00FF00\", \"width\": 1}, \"type\": \"circle\", \"x0\": -2.8999999999999995, \"x1\": 6.3, \"xref\": \"x\", \"y0\": -2.3, \"y1\": 6.8999999999999995, \"yref\": \"y\"}, {\"fillcolor\": \"#00FF00\", \"line\": {\"width\": 0}, \"type\": \"circle\", \"x0\": 1.65, \"x1\": 1.75, \"xref\": \"x\", \"y0\": 2.25, \"y1\": 2.3499999999999996, \"yref\": \"y\"}, {\"line\": {\"color\": \"#00FF00\", \"width\": 1}, \"type\": \"circle\", \"x0\": -1.5927031387216992, \"x1\": 8.366282907635675, \"xref\": \"x\", \"y0\": -2.4123263985037333, \"y1\": 7.546659647853641, \"yref\": \"y\"}, {\"fillcolor\": \"#00FF00\", \"line\": {\"width\": 0}, \"type\": \"circle\", \"x0\": 3.336789884456988, \"x1\": 3.4367898844569877, \"xref\": \"x\", \"y0\": 2.517166624674954, \"y1\": 2.6171666246749536, \"yref\": \"y\"}, {\"line\": {\"color\": \"#00FF00\", \"width\": 1}, \"type\": \"circle\", \"x0\": 0.8031524275601982, \"x1\": 5.071741680702377, \"xref\": \"x\", \"y0\": -1.154428167723609, \"y1\": 3.1141610854185706, \"yref\": \"y\"}, {\"fillcolor\": \"#00FF00\", \"line\": {\"width\": 0}, \"type\": \"circle\", \"x0\": 2.887447054131288, \"x1\": 2.987447054131288, \"xref\": \"x\", \"y0\": 0.9298664588474809, \"y1\": 1.0298664588474808, \"yref\": \"y\"}, {\"line\": {\"color\": \"#FF0000\", \"width\": 1}, \"type\": \"circle\", \"x0\": 1.9172373884076073, \"x1\": 4.6401680431830234, \"xref\": \"x\", \"y0\": 0.48974505034156657, \"y1\": 3.212675705116983, \"yref\": \"y\"}, {\"fillcolor\": \"#FF0000\", \"line\": {\"width\": 0}, \"type\": \"circle\", \"x0\": 3.2287027157953156, \"x1\": 3.3287027157953153, \"xref\": \"x\", \"y0\": 1.8012103777292747, \"y1\": 1.9012103777292748, \"yref\": \"y\"}], \"template\": {\"data\": {\"bar\": [{\"error_x\": {\"color\": \"#2a3f5f\"}, \"error_y\": {\"color\": \"#2a3f5f\"}, \"marker\": {\"line\": {\"color\": \"#E5ECF6\", \"width\": 0.5}}, \"type\": \"bar\"}], \"barpolar\": [{\"marker\": {\"line\": {\"color\": \"#E5ECF6\", \"width\": 0.5}}, \"type\": \"barpolar\"}], \"carpet\": [{\"aaxis\": {\"endlinecolor\": \"#2a3f5f\", \"gridcolor\": \"white\", \"linecolor\": \"white\", \"minorgridcolor\": \"white\", \"startlinecolor\": \"#2a3f5f\"}, \"baxis\": {\"endlinecolor\": \"#2a3f5f\", \"gridcolor\": \"white\", \"linecolor\": \"white\", \"minorgridcolor\": \"white\", \"startlinecolor\": \"#2a3f5f\"}, \"type\": \"carpet\"}], \"choropleth\": [{\"colorbar\": {\"outlinewidth\": 0, \"ticks\": \"\"}, \"type\": \"choropleth\"}], \"contour\": [{\"colorbar\": {\"outlinewidth\": 0, \"ticks\": \"\"}, \"colorscale\": [[0.0, \"#0d0887\"], [0.1111111111111111, \"#46039f\"], [0.2222222222222222, \"#7201a8\"], [0.3333333333333333, \"#9c179e\"], [0.4444444444444444, \"#bd3786\"], [0.5555555555555556, \"#d8576b\"], [0.6666666666666666, \"#ed7953\"], [0.7777777777777778, \"#fb9f3a\"], [0.8888888888888888, \"#fdca26\"], [1.0, \"#f0f921\"]], \"type\": \"contour\"}], \"contourcarpet\": [{\"colorbar\": {\"outlinewidth\": 0, \"ticks\": \"\"}, \"type\": \"contourcarpet\"}], \"heatmap\": [{\"colorbar\": {\"outlinewidth\": 0, \"ticks\": \"\"}, \"colorscale\": [[0.0, \"#0d0887\"], [0.1111111111111111, \"#46039f\"], [0.2222222222222222, \"#7201a8\"], [0.3333333333333333, \"#9c179e\"], [0.4444444444444444, \"#bd3786\"], [0.5555555555555556, \"#d8576b\"], [0.6666666666666666, \"#ed7953\"], [0.7777777777777778, \"#fb9f3a\"], [0.8888888888888888, \"#fdca26\"], [1.0, \"#f0f921\"]], \"type\": \"heatmap\"}], \"heatmapgl\": [{\"colorbar\": {\"outlinewidth\": 0, \"ticks\": \"\"}, \"colorscale\": [[0.0, \"#0d0887\"], [0.1111111111111111, \"#46039f\"], [0.2222222222222222, \"#7201a8\"], [0.3333333333333333, \"#9c179e\"], [0.4444444444444444, \"#bd3786\"], [0.5555555555555556, \"#d8576b\"], [0.6666666666666666, \"#ed7953\"], [0.7777777777777778, \"#fb9f3a\"], [0.8888888888888888, \"#fdca26\"], [1.0, \"#f0f921\"]], \"type\": \"heatmapgl\"}], \"histogram\": [{\"marker\": {\"colorbar\": {\"outlinewidth\": 0, \"ticks\": \"\"}}, \"type\": \"histogram\"}], \"histogram2d\": [{\"colorbar\": {\"outlinewidth\": 0, \"ticks\": \"\"}, \"colorscale\": [[0.0, \"#0d0887\"], [0.1111111111111111, \"#46039f\"], [0.2222222222222222, \"#7201a8\"], [0.3333333333333333, \"#9c179e\"], [0.4444444444444444, \"#bd3786\"], [0.5555555555555556, \"#d8576b\"], [0.6666666666666666, \"#ed7953\"], [0.7777777777777778, \"#fb9f3a\"], [0.8888888888888888, \"#fdca26\"], [1.0, \"#f0f921\"]], \"type\": \"histogram2d\"}], \"histogram2dcontour\": [{\"colorbar\": {\"outlinewidth\": 0, \"ticks\": \"\"}, \"colorscale\": [[0.0, \"#0d0887\"], [0.1111111111111111, \"#46039f\"], [0.2222222222222222, \"#7201a8\"], [0.3333333333333333, \"#9c179e\"], [0.4444444444444444, \"#bd3786\"], [0.5555555555555556, \"#d8576b\"], [0.6666666666666666, \"#ed7953\"], [0.7777777777777778, \"#fb9f3a\"], [0.8888888888888888, \"#fdca26\"], [1.0, \"#f0f921\"]], \"type\": \"histogram2dcontour\"}], \"mesh3d\": [{\"colorbar\": {\"outlinewidth\": 0, \"ticks\": \"\"}, \"type\": \"mesh3d\"}], \"parcoords\": [{\"line\": {\"colorbar\": {\"outlinewidth\": 0, \"ticks\": \"\"}}, \"type\": \"parcoords\"}], \"pie\": [{\"automargin\": true, \"type\": \"pie\"}], \"scatter\": [{\"marker\": {\"colorbar\": {\"outlinewidth\": 0, \"ticks\": \"\"}}, \"type\": \"scatter\"}], \"scatter3d\": [{\"line\": {\"colorbar\": {\"outlinewidth\": 0, \"ticks\": \"\"}}, \"marker\": {\"colorbar\": {\"outlinewidth\": 0, \"ticks\": \"\"}}, \"type\": \"scatter3d\"}], \"scattercarpet\": [{\"marker\": {\"colorbar\": {\"outlinewidth\": 0, \"ticks\": \"\"}}, \"type\": \"scattercarpet\"}], \"scattergeo\": [{\"marker\": {\"colorbar\": {\"outlinewidth\": 0, \"ticks\": \"\"}}, \"type\": \"scattergeo\"}], \"scattergl\": [{\"marker\": {\"colorbar\": {\"outlinewidth\": 0, \"ticks\": \"\"}}, \"type\": \"scattergl\"}], \"scattermapbox\": [{\"marker\": {\"colorbar\": {\"outlinewidth\": 0, \"ticks\": \"\"}}, \"type\": \"scattermapbox\"}], \"scatterpolar\": [{\"marker\": {\"colorbar\": {\"outlinewidth\": 0, \"ticks\": \"\"}}, \"type\": \"scatterpolar\"}], \"scatterpolargl\": [{\"marker\": {\"colorbar\": {\"outlinewidth\": 0, \"ticks\": \"\"}}, \"type\": \"scatterpolargl\"}], \"scatterternary\": [{\"marker\": {\"colorbar\": {\"outlinewidth\": 0, \"ticks\": \"\"}}, \"type\": \"scatterternary\"}], \"surface\": [{\"colorbar\": {\"outlinewidth\": 0, \"ticks\": \"\"}, \"colorscale\": [[0.0, \"#0d0887\"], [0.1111111111111111, \"#46039f\"], [0.2222222222222222, \"#7201a8\"], [0.3333333333333333, \"#9c179e\"], [0.4444444444444444, \"#bd3786\"], [0.5555555555555556, \"#d8576b\"], [0.6666666666666666, \"#ed7953\"], [0.7777777777777778, \"#fb9f3a\"], [0.8888888888888888, \"#fdca26\"], [1.0, \"#f0f921\"]], \"type\": \"surface\"}], \"table\": [{\"cells\": {\"fill\": {\"color\": \"#EBF0F8\"}, \"line\": {\"color\": \"white\"}}, \"header\": {\"fill\": {\"color\": \"#C8D4E3\"}, \"line\": {\"color\": \"white\"}}, \"type\": \"table\"}]}, \"layout\": {\"annotationdefaults\": {\"arrowcolor\": \"#2a3f5f\", \"arrowhead\": 0, \"arrowwidth\": 1}, \"coloraxis\": {\"colorbar\": {\"outlinewidth\": 0, \"ticks\": \"\"}}, \"colorscale\": {\"diverging\": [[0, \"#8e0152\"], [0.1, \"#c51b7d\"], [0.2, \"#de77ae\"], [0.3, \"#f1b6da\"], [0.4, \"#fde0ef\"], [0.5, \"#f7f7f7\"], [0.6, \"#e6f5d0\"], [0.7, \"#b8e186\"], [0.8, \"#7fbc41\"], [0.9, \"#4d9221\"], [1, \"#276419\"]], \"sequential\": [[0.0, \"#0d0887\"], [0.1111111111111111, \"#46039f\"], [0.2222222222222222, \"#7201a8\"], [0.3333333333333333, \"#9c179e\"], [0.4444444444444444, \"#bd3786\"], [0.5555555555555556, \"#d8576b\"], [0.6666666666666666, \"#ed7953\"], [0.7777777777777778, \"#fb9f3a\"], [0.8888888888888888, \"#fdca26\"], [1.0, \"#f0f921\"]], \"sequentialminus\": [[0.0, \"#0d0887\"], [0.1111111111111111, \"#46039f\"], [0.2222222222222222, \"#7201a8\"], [0.3333333333333333, \"#9c179e\"], [0.4444444444444444, \"#bd3786\"], [0.5555555555555556, \"#d8576b\"], [0.6666666666666666, \"#ed7953\"], [0.7777777777777778, \"#fb9f3a\"], [0.8888888888888888, \"#fdca26\"], [1.0, \"#f0f921\"]]}, \"colorway\": [\"#636efa\", \"#EF553B\", \"#00cc96\", \"#ab63fa\", \"#FFA15A\", \"#19d3f3\", \"#FF6692\", \"#B6E880\", \"#FF97FF\", \"#FECB52\"], \"font\": {\"color\": \"#2a3f5f\"}, \"geo\": {\"bgcolor\": \"white\", \"lakecolor\": \"white\", \"landcolor\": \"#E5ECF6\", \"showlakes\": true, \"showland\": true, \"subunitcolor\": \"white\"}, \"hoverlabel\": {\"align\": \"left\"}, \"hovermode\": \"closest\", \"mapbox\": {\"style\": \"light\"}, \"paper_bgcolor\": \"white\", \"plot_bgcolor\": \"#E5ECF6\", \"polar\": {\"angularaxis\": {\"gridcolor\": \"white\", \"linecolor\": \"white\", \"ticks\": \"\"}, \"bgcolor\": \"#E5ECF6\", \"radialaxis\": {\"gridcolor\": \"white\", \"linecolor\": \"white\", \"ticks\": \"\"}}, \"scene\": {\"xaxis\": {\"backgroundcolor\": \"#E5ECF6\", \"gridcolor\": \"white\", \"gridwidth\": 2, \"linecolor\": \"white\", \"showbackground\": true, \"ticks\": \"\", \"zerolinecolor\": \"white\"}, \"yaxis\": {\"backgroundcolor\": \"#E5ECF6\", \"gridcolor\": \"white\", \"gridwidth\": 2, \"linecolor\": \"white\", \"showbackground\": true, \"ticks\": \"\", \"zerolinecolor\": \"white\"}, \"zaxis\": {\"backgroundcolor\": \"#E5ECF6\", \"gridcolor\": \"white\", \"gridwidth\": 2, \"linecolor\": \"white\", \"showbackground\": true, \"ticks\": \"\", \"zerolinecolor\": \"white\"}}, \"shapedefaults\": {\"line\": {\"color\": \"#2a3f5f\"}}, \"ternary\": {\"aaxis\": {\"gridcolor\": \"white\", \"linecolor\": \"white\", \"ticks\": \"\"}, \"baxis\": {\"gridcolor\": \"white\", \"linecolor\": \"white\", \"ticks\": \"\"}, \"bgcolor\": \"#E5ECF6\", \"caxis\": {\"gridcolor\": \"white\", \"linecolor\": \"white\", \"ticks\": \"\"}}, \"title\": {\"x\": 0.05}, \"xaxis\": {\"automargin\": true, \"gridcolor\": \"white\", \"linecolor\": \"white\", \"ticks\": \"\", \"title\": {\"standoff\": 15}, \"zerolinecolor\": \"white\", \"zerolinewidth\": 2}, \"yaxis\": {\"automargin\": true, \"gridcolor\": \"white\", \"linecolor\": \"white\", \"ticks\": \"\", \"title\": {\"standoff\": 15}, \"zerolinecolor\": \"white\", \"zerolinewidth\": 2}}}, \"width\": 800, \"xaxis\": {\"range\": [-1, 5], \"zeroline\": false}, \"yaxis\": {\"range\": [-1, 5]}},\n",
       "                        {\"responsive\": true}\n",
       "                    ).then(function(){\n",
       "                            \n",
       "var gd = document.getElementById('69b9ee57-f368-47b8-8ba8-0d884c8a59d4');\n",
       "var x = new MutationObserver(function (mutations, observer) {{\n",
       "        var display = window.getComputedStyle(gd).display;\n",
       "        if (!display || display === 'none') {{\n",
       "            console.log([gd, 'removed!']);\n",
       "            Plotly.purge(gd);\n",
       "            observer.disconnect();\n",
       "        }}\n",
       "}});\n",
       "\n",
       "// Listen for the removal of the full notebook cells\n",
       "var notebookContainer = gd.closest('#notebook-container');\n",
       "if (notebookContainer) {{\n",
       "    x.observe(notebookContainer, {childList: true});\n",
       "}}\n",
       "\n",
       "// Listen for the clearing of the current output cell\n",
       "var outputEl = gd.closest('.output');\n",
       "if (outputEl) {{\n",
       "    x.observe(outputEl, {childList: true});\n",
       "}}\n",
       "\n",
       "                        })\n",
       "                };\n",
       "                });\n",
       "            </script>\n",
       "        </div>"
      ]
     },
     "metadata": {},
     "output_type": "display_data"
    }
   ],
   "source": [
    "%run trilateration_sandbox"
   ]
  },
  {
   "cell_type": "code",
   "execution_count": null,
   "metadata": {},
   "outputs": [],
   "source": []
  }
 ],
 "metadata": {
  "kernelspec": {
   "display_name": "Python 3",
   "language": "python",
   "name": "python3"
  },
  "language_info": {
   "codemirror_mode": {
    "name": "ipython",
    "version": 3
   },
   "file_extension": ".py",
   "mimetype": "text/x-python",
   "name": "python",
   "nbconvert_exporter": "python",
   "pygments_lexer": "ipython3",
   "version": "3.7.3"
  }
 },
 "nbformat": 4,
 "nbformat_minor": 2
}
